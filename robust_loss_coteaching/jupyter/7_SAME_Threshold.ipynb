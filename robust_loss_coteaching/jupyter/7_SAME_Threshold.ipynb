{
 "cells": [
  {
   "cell_type": "code",
   "execution_count": 13,
   "metadata": {},
   "outputs": [],
   "source": [
    "import os, sys\n",
    "os.chdir('../')"
   ]
  },
  {
   "cell_type": "code",
   "execution_count": 14,
   "metadata": {},
   "outputs": [],
   "source": [
    "import argparse\n",
    "import torch\n",
    "import sys\n",
    "import os\n",
    "import json\n",
    "import random\n",
    "import numpy as np\n",
    "import pandas as pd\n",
    "import pickle\n",
    "import seaborn as sns\n",
    "import matplotlib.pyplot as plt \n",
    "import sklearn.covariance\n",
    "import scipy\n",
    "import pdb\n",
    "\n",
    "import data_loader.data_loaders as module_data\n",
    "import loss as module_loss\n",
    "import model.metric as module_metric\n",
    "import model.model as module_arch\n",
    "import torch.nn as nn\n",
    "import torch.nn.functional as F\n",
    "import model.model as module_arch\n",
    "from trainer import DefaultTrainer, TruncatedTrainer, GroundTruthTrainer, DynamicTrainer\n",
    "from collections import OrderedDict\n",
    "from utils.util import *\n",
    "from utils.args import *\n",
    "\n",
    "from sklearn import metrics\n",
    "from sklearn import cluster\n",
    "from tqdm import tqdm\n",
    "from torch.autograd import Variable\n",
    "from utils.parse_config import ConfigParser\n"
   ]
  },
  {
   "cell_type": "code",
   "execution_count": 15,
   "metadata": {},
   "outputs": [
    {
     "name": "stdout",
     "output_type": "stream",
     "text": [
      "/home/sangwook/jupyter/noisy_label\n"
     ]
    }
   ],
   "source": [
    "!pwd"
   ]
  },
  {
   "cell_type": "code",
   "execution_count": 16,
   "metadata": {},
   "outputs": [],
   "source": [
    "os.chdir('/home/sangwook/jupyter/noisy_label/ELR/robust_loss_coteaching' )"
   ]
  },
  {
   "cell_type": "code",
   "execution_count": 17,
   "metadata": {},
   "outputs": [],
   "source": [
    "def return_statistics(isNoisy_list, predict):\n",
    "    r_stats = []\n",
    "    \n",
    "    tp = (isNoisy_list[predict==0]==0).sum()\n",
    "    tn = isNoisy_list[predict==1].sum()\n",
    "    fp = isNoisy_list.sum() - tn\n",
    "    fn = ((isNoisy_list.shape - isNoisy_list.sum()) - tp).item()\n",
    "    \n",
    "    precision = tp / (tp + fp)\n",
    "    recall = tp / (tp + fn)\n",
    "    specificity = tn / (tn + fp)\n",
    "    accuracy = (tp + tn) / (tp + tn + fp + fn)\n",
    "    sel_samples = int(fp + tp)\n",
    "    frac_clean = tp / (fp + tp)\n",
    "\n",
    "    r_stats.extend([sel_samples, round(precision, 5), round(recall, 5), round(specificity, 5), round(accuracy, 5), round(frac_clean, 5)])\n",
    "    \n",
    "    return r_stats\n",
    "\n",
    "# return_statistics(isNoisy_list, sing_lbl)\n",
    "\n",
    "def stat_summary(name, stat_list):\n",
    "    print('Dataset: {}, Net: {}, Noise{}_{}, Loss: {}'\n",
    "      .format(config['data_loader']['type'], config['arch']['type'], config['trainer']['asym'], config['trainer']['percent'], config['train_loss']['type']))\n",
    "    \n",
    "    print(\"=\"*50, name , \"=\"*50)\n",
    "\n",
    "    print('Selected samples by {}: {} \\nPrecision: {} \\nRecall: {} \\nSpecificity: {}\\nAccuracy: {} \\nFraction of clean samples/selected samples: {}'\n",
    "                  .format(name, stat_list[0], stat_list[1], stat_list[2], stat_list[3], stat_list[4], stat_list[5]))\n"
   ]
  },
  {
   "cell_type": "markdown",
   "metadata": {},
   "source": [
    "# Config Setting"
   ]
  },
  {
   "cell_type": "code",
   "execution_count": 18,
   "metadata": {},
   "outputs": [],
   "source": [
    "# config_file = './hyperparams/multistep/config_cifar10_cce_rn34.json'\n",
    "config_file = './saved/models/cifar10/resnet34/MultiStepLR/CCELoss/sym/80/config_123.json' #cifar 100\n",
    "with open(config_file, 'r') as f:\n",
    "    config = json.load(f)\n",
    "    \n",
    "device = torch.device('cuda:1')"
   ]
  },
  {
   "cell_type": "code",
   "execution_count": 19,
   "metadata": {},
   "outputs": [
    {
     "data": {
      "text/plain": [
       "{'name': 'cifar10_resnet34_multistep',\n",
       " 'n_gpu': 1,\n",
       " 'seed': 123,\n",
       " 'arch': {'type': 'resnet34', 'args': {'num_classes': 10}},\n",
       " 'num_classes': 10,\n",
       " 'data_loader': {'type': 'CIFAR10DataLoader',\n",
       "  'args': {'data_dir': './dir_to_data',\n",
       "   'batch_size': 128,\n",
       "   'shuffle': True,\n",
       "   'num_batches': 0,\n",
       "   'validation_split': 0,\n",
       "   'num_workers': 8,\n",
       "   'pin_memory': True}},\n",
       " 'optimizer': {'type': 'SGD',\n",
       "  'args': {'lr': 0.02, 'momentum': 0.9, 'weight_decay': 0.001}},\n",
       " 'train_loss': {'type': 'CCELoss'},\n",
       " 'val_loss': 'CrossEntropyLoss',\n",
       " 'metrics': ['my_metric', 'my_metric2'],\n",
       " 'lr_scheduler': {'type': 'MultiStepLR',\n",
       "  'args': {'milestones': [40, 80], 'gamma': 0.01}},\n",
       " 'trainer': {'epochs': 120,\n",
       "  'warmup': 0,\n",
       "  'save_dir': 'saved/',\n",
       "  'save_period': 1,\n",
       "  'verbosity': 2,\n",
       "  'label_dir': 'saved/',\n",
       "  'monitor': 'max test_my_metric',\n",
       "  'early_stop': 2000,\n",
       "  'tensorboard': False,\n",
       "  'mlflow': True,\n",
       "  '_percent': 'Percentage of noise',\n",
       "  'percent': 0.8,\n",
       "  '_begin': 'When to begin updating labels',\n",
       "  'begin': 0,\n",
       "  '_asym': 'symmetric noise if false',\n",
       "  'asym': False}}"
      ]
     },
     "execution_count": 19,
     "metadata": {},
     "output_type": "execute_result"
    }
   ],
   "source": [
    "config"
   ]
  },
  {
   "cell_type": "code",
   "execution_count": 20,
   "metadata": {},
   "outputs": [
    {
     "data": {
      "text/plain": [
       "<All keys matched successfully>"
      ]
     },
     "execution_count": 20,
     "metadata": {},
     "output_type": "execute_result"
    }
   ],
   "source": [
    "resume_path = './saved/models/cifar10/resnet34/MultiStepLR/CCELoss/sym/80/model_best123.pth'\n",
    "base_model = getattr(module_arch, config[\"arch\"]['type'])()\n",
    "checkpoint = torch.load(resume_path)\n",
    "state_dict = checkpoint['state_dict']\n",
    "base_model.load_state_dict(state_dict)"
   ]
  },
  {
   "cell_type": "code",
   "execution_count": 21,
   "metadata": {},
   "outputs": [
    {
     "name": "stdout",
     "output_type": "stream",
     "text": [
      "Files already downloaded and verified\n",
      "##############\n",
      "[8 9 1 9 4 8 3 6 3 6]\n",
      "[3 2 1 1 3 2 2 7 6 5]\n",
      "Train: 50000 Val: 0\n"
     ]
    }
   ],
   "source": [
    "# set seed\n",
    "random.seed(config['seed'])\n",
    "torch.manual_seed(config['seed'])\n",
    "torch.cuda.manual_seed_all(config['seed'])\n",
    "torch.backends.cudnn.deterministic = True\n",
    "np.random.seed(config['seed'])\n",
    "\n",
    "data_loader = getattr(module_data, config['data_loader']['type'])(\n",
    "    config['data_loader']['args']['data_dir'],\n",
    "    batch_size= 100,\n",
    "    shuffle=config['data_loader']['args']['shuffle'],\n",
    "    validation_split=0.0,\n",
    "    num_batches=config['data_loader']['args']['num_batches'],\n",
    "    training=True,\n",
    "    num_workers=config['data_loader']['args']['num_workers'],\n",
    "    pin_memory=config['data_loader']['args']['pin_memory'],\n",
    "    config=config\n",
    ")\n",
    "\n",
    "if hasattr(data_loader.dataset, 'num_raw_example'):\n",
    "    num_examp = data_loader.dataset.num_raw_example\n",
    "else:\n",
    "    num_examp = len(data_loader.dataset)\n",
    "\n",
    "critenrion = nn.CrossEntropyLoss()"
   ]
  },
  {
   "cell_type": "markdown",
   "metadata": {},
   "source": [
    "# Base ResNet"
   ]
  },
  {
   "cell_type": "code",
   "execution_count": 22,
   "metadata": {},
   "outputs": [],
   "source": [
    "class Represent(nn.Module):\n",
    "    def __init__(self, base_model):\n",
    "        super(Represent, self).__init__()\n",
    "        self.conv1 = base_model.conv1\n",
    "        self.bn1 = base_model.bn1\n",
    "        self.layer1 = base_model.layer1\n",
    "        self.layer2 = base_model.layer2\n",
    "        self.layer3 = base_model.layer3\n",
    "        self.layer4 = base_model.layer4\n",
    "        self.linear = base_model.linear\n",
    "        \n",
    "        \n",
    "    def forward(self, x):\n",
    "        out = F.relu(self.bn1(self.conv1(x)))\n",
    "        out = self.layer1(out)\n",
    "        out = self.layer2(out)\n",
    "        out = self.layer3(out)\n",
    "        out = self.layer4(out)\n",
    "        out = F.avg_pool2d(out, 4)\n",
    "        y = out.view(out.size(0), -1)\n",
    "        \n",
    "        return y\n",
    "    \n",
    "    #Feature Extractting\n",
    "    def feature_list(self, x):\n",
    "        output_list = []\n",
    "        out = F.relu(self.bn1(self.conv1(x)))\n",
    "        for name, module in self.layer1._modules.items():\n",
    "            out = module(out)\n",
    "        for name, module in self.layer2._modules.items():\n",
    "            out = module(out)\n",
    "        for name, module in self.layer3._modules.items():\n",
    "            out = module(out)\n",
    "        for name, module in self.layer4._modules.items():\n",
    "            out = module(out)\n",
    "            output_list.append(out)\n",
    "        out = F.avg_pool2d(out, 4)\n",
    "        out = out.view(out.size(0), -1)\n",
    "        y = self.linear(out)\n",
    "        return y, output_list"
   ]
  },
  {
   "cell_type": "code",
   "execution_count": 23,
   "metadata": {},
   "outputs": [],
   "source": [
    "model = Represent(base_model)"
   ]
  },
  {
   "cell_type": "code",
   "execution_count": 24,
   "metadata": {},
   "outputs": [],
   "source": [
    "isNoisy_list = np.empty((0,))\n",
    "isFalse_list = np.empty((0,))\n",
    "label_list = np.empty((0,))\n",
    "gt_list = np.empty((0,))\n",
    "conf_list = np.empty((0,))\n",
    "loss_list = np.empty((0,))"
   ]
  },
  {
   "cell_type": "markdown",
   "metadata": {},
   "source": [
    "# SAME Threshold"
   ]
  },
  {
   "cell_type": "code",
   "execution_count": 25,
   "metadata": {},
   "outputs": [
    {
     "name": "stderr",
     "output_type": "stream",
     "text": [
      "100%|██████████| 500/500 [00:29<00:00, 16.87it/s]\n"
     ]
    }
   ],
   "source": [
    "model.eval()\n",
    "model.to(device)\n",
    "loss = 0\n",
    "with tqdm(data_loader) as progress:\n",
    "    for batch_idx, (data, label, index, label_gt) in enumerate(progress):\n",
    "        data = data.to(device)\n",
    "        label, label_gt = label.long().to(device), label_gt.long().to(device)\n",
    "        output = model(data)\n",
    "        _, prediction = base_model(data)\n",
    "        loss = torch.nn.CrossEntropyLoss(reduction='none')(prediction, label)\n",
    "        confidence, _ = torch.max(torch.nn.functional.softmax(prediction, dim=1), dim=1)\n",
    "        isNoisy  = label != label_gt\n",
    "        \n",
    "        gt_list = np.concatenate((gt_list, label_gt.cpu()))\n",
    "        label_list = np.concatenate((label_list, label.cpu()))\n",
    "        isNoisy_list = np.concatenate((isNoisy_list, isNoisy.cpu()))\n",
    "        conf_list = np.concatenate((conf_list, confidence.detach().cpu()))\n",
    "        loss_list = np.concatenate((loss_list, loss.detach().cpu()))\n",
    "        if batch_idx == 0:\n",
    "            out_list = output.detach().cpu()\n",
    "        else:\n",
    "            out_list = np.concatenate((out_list, output.detach().cpu()), axis=0)"
   ]
  },
  {
   "cell_type": "code",
   "execution_count": 26,
   "metadata": {},
   "outputs": [],
   "source": [
    "def get_singular_value_vector(label_list, out_list):\n",
    "    \n",
    "    singular_dict = {}\n",
    "    v_ortho_dict = {}\n",
    "    \n",
    "    for index in np.unique(label_list):\n",
    "        u, s, v = np.linalg.svd(out_list[label_list==index])\n",
    "        singular_dict[index] = s[0] / s[1]\n",
    "        v_ortho_dict[index] = torch.from_numpy(v[:2])\n",
    "\n",
    "    return singular_dict, v_ortho_dict"
   ]
  },
  {
   "cell_type": "code",
   "execution_count": 27,
   "metadata": {},
   "outputs": [],
   "source": [
    "# Max eigen vector 보다 작으면 1(Noisy Label)\n",
    "def singular_label(v_ortho_dict, model_represents, label):\n",
    "    \n",
    "    model_represents = torch.from_numpy(model_represents).to(device)\n",
    "    sing_lbl = torch.zeros(model_represents.shape[0]) \n",
    "    sin_score_lbl = torch.zeros(model_represents.shape[0])\n",
    "    \n",
    "    for i, data in enumerate(model_represents):\n",
    "        sin_score_lbl[i] = torch.dot(v_ortho_dict[label[i]][0], data).abs() - torch.dot(v_ortho_dict[label[i]][1], data).abs()\n",
    "        if torch.dot(v_ortho_dict[label[i]][0], data).abs() < torch.dot(v_ortho_dict[label[i]][1], data).abs():\n",
    "            sing_lbl[i] = 1\n",
    "        \n",
    "    return sing_lbl, sin_score_lbl"
   ]
  },
  {
   "cell_type": "markdown",
   "metadata": {},
   "source": [
    "# Kmeans wrt alginment score"
   ]
  },
  {
   "cell_type": "code",
   "execution_count": 13,
   "metadata": {},
   "outputs": [],
   "source": [
    "def kmean_singular_label(v_ortho_dict, model_represents, label):\n",
    "    \n",
    "    model_represents = torch.from_numpy(model_represents).to(device)\n",
    "    sing_lbl = torch.zeros(model_represents.shape[0])\n",
    "    sin_score_lbl = torch.zeros(model_represents.shape[0])\n",
    "    \n",
    "    for i, data in enumerate(model_represents):\n",
    "        sin_score_lbl[i] = torch.dot(v_ortho_dict[label[i]][0], data).abs() - torch.dot(v_ortho_dict[label[i]][1], data).abs()\n",
    "        \n",
    "    kmeans = cluster.KMeans(n_clusters=2, random_state=0).fit(sin_score_lbl.reshape(-1, 1))\n",
    "    \n",
    "    return kmeans, sin_score_lbl"
   ]
  },
  {
   "cell_type": "code",
   "execution_count": 14,
   "metadata": {},
   "outputs": [],
   "source": [
    "def kmean_singular_label_t1(v_ortho_dict, model_represents, label):\n",
    "    \n",
    "    model_represents = torch.from_numpy(model_represents).to(device)\n",
    "    sing_lbl = torch.zeros(model_represents.shape[0])\n",
    "    sin_score_lbl = torch.zeros(model_represents.shape[0])\n",
    "    \n",
    "    for i, data in enumerate(model_represents):\n",
    "        sin_score_lbl[i] = torch.dot(v_ortho_dict[label[i]][0], data).abs()\n",
    "        \n",
    "    kmeans = cluster.KMeans(n_clusters=2, random_state=0).fit(sin_score_lbl.reshape(-1, 1))\n",
    "    \n",
    "    return kmeans, sin_score_lbl"
   ]
  },
  {
   "cell_type": "code",
   "execution_count": 15,
   "metadata": {},
   "outputs": [],
   "source": [
    "singular_dict, v_ortho_dict = get_singular_value_vector(label_list, out_list)\n",
    "\n",
    "for key in v_ortho_dict.keys():\n",
    "    v_ortho_dict[key] = v_ortho_dict[key].to(device)\n",
    "\n",
    "ksin_score_lbl, sin_score_lbl = kmean_singular_label_t1(v_ortho_dict, out_list, label_list)\n"
   ]
  },
  {
   "cell_type": "code",
   "execution_count": 16,
   "metadata": {},
   "outputs": [
    {
     "name": "stdout",
     "output_type": "stream",
     "text": [
      "50000\n",
      "Max:  tensor(3.3518)\n",
      "Min:  tensor(0.4418)\n"
     ]
    }
   ],
   "source": [
    "print(len(ksin_score_lbl.labels_==1))\n",
    "print('Max: ',torch.max(sin_score_lbl))\n",
    "print('Min: ',torch.min(sin_score_lbl))\n",
    "\n",
    "sin_score_np = sin_score_lbl.cpu().detach().numpy()\n",
    "\n",
    "if torch.mean(sin_score_lbl[ksin_score_lbl.labels_==0]) < torch.mean(sin_score_lbl[ksin_score_lbl.labels_==1]):\n",
    "    ksin_score_lbl.labels_ = 1 - ksin_score_lbl.labels_"
   ]
  },
  {
   "cell_type": "code",
   "execution_count": 17,
   "metadata": {},
   "outputs": [
    {
     "data": {
      "text/plain": [
       "(array([3.200e+01, 1.420e+02, 1.630e+02, 3.700e+02, 7.750e+02, 1.212e+03,\n",
       "        1.648e+03, 1.916e+03, 2.109e+03, 2.247e+03, 2.303e+03, 2.305e+03,\n",
       "        2.355e+03, 2.191e+03, 2.125e+03, 1.964e+03, 1.816e+03, 1.573e+03,\n",
       "        1.528e+03, 1.369e+03, 1.234e+03, 1.127e+03, 1.065e+03, 9.500e+02,\n",
       "        8.140e+02, 7.440e+02, 7.030e+02, 6.180e+02, 6.300e+02, 5.460e+02,\n",
       "        5.780e+02, 5.250e+02, 5.350e+02, 5.180e+02, 5.040e+02, 4.720e+02,\n",
       "        4.750e+02, 4.950e+02, 4.820e+02, 5.310e+02, 5.060e+02, 5.410e+02,\n",
       "        5.620e+02, 4.960e+02, 4.680e+02, 4.290e+02, 4.090e+02, 4.340e+02,\n",
       "        3.960e+02, 3.380e+02, 2.860e+02, 2.730e+02, 1.860e+02, 1.500e+02,\n",
       "        1.500e+02, 1.150e+02, 9.000e+01, 7.700e+01, 7.200e+01, 4.600e+01,\n",
       "        4.100e+01, 2.800e+01, 3.200e+01, 2.400e+01, 2.500e+01, 1.200e+01,\n",
       "        1.600e+01, 1.100e+01, 7.000e+00, 1.100e+01, 1.000e+01, 9.000e+00,\n",
       "        8.000e+00, 6.000e+00, 5.000e+00, 7.000e+00, 0.000e+00, 6.000e+00,\n",
       "        9.000e+00, 1.000e+00, 1.000e+00, 1.000e+00, 3.000e+00, 1.000e+00,\n",
       "        2.000e+00, 1.000e+00, 1.000e+00, 1.000e+00, 1.000e+00, 2.000e+00,\n",
       "        2.000e+00, 0.000e+00, 0.000e+00, 0.000e+00, 0.000e+00, 1.000e+00,\n",
       "        0.000e+00, 1.000e+00, 0.000e+00, 1.000e+00]),\n",
       " array([0.44177374, 0.47087437, 0.49997503, 0.5290757 , 0.5581763 ,\n",
       "        0.58727694, 0.6163776 , 0.6454782 , 0.67457885, 0.7036795 ,\n",
       "        0.73278016, 0.76188076, 0.7909814 , 0.82008207, 0.84918267,\n",
       "        0.8782833 , 0.907384  , 0.9364846 , 0.96558523, 0.9946859 ,\n",
       "        1.0237865 , 1.0528872 , 1.0819879 , 1.1110884 , 1.140189  ,\n",
       "        1.1692897 , 1.1983904 , 1.227491  , 1.2565917 , 1.2856922 ,\n",
       "        1.3147929 , 1.3438935 , 1.3729942 , 1.4020948 , 1.4311955 ,\n",
       "        1.4602962 , 1.4893967 , 1.5184973 , 1.547598  , 1.5766987 ,\n",
       "        1.6057993 , 1.6349    , 1.6640006 , 1.6931012 , 1.7222018 ,\n",
       "        1.7513025 , 1.7804031 , 1.8095038 , 1.8386045 , 1.8677051 ,\n",
       "        1.8968056 , 1.9259063 , 1.955007  , 1.9841076 , 2.0132082 ,\n",
       "        2.0423088 , 2.0714095 , 2.1005101 , 2.1296108 , 2.1587114 ,\n",
       "        2.187812  , 2.2169127 , 2.2460134 , 2.275114  , 2.3042147 ,\n",
       "        2.3333154 , 2.362416  , 2.3915164 , 2.420617  , 2.4497178 ,\n",
       "        2.4788184 , 2.507919  , 2.5370197 , 2.5661204 , 2.595221  ,\n",
       "        2.6243217 , 2.6534224 , 2.682523  , 2.7116237 , 2.7407243 ,\n",
       "        2.7698247 , 2.7989254 , 2.828026  , 2.8571267 , 2.8862274 ,\n",
       "        2.915328  , 2.9444287 , 2.9735293 , 3.00263   , 3.0317307 ,\n",
       "        3.0608313 , 3.089932  , 3.1190326 , 3.1481333 , 3.1772337 ,\n",
       "        3.2063344 , 3.235435  , 3.2645357 , 3.2936363 , 3.322737  ,\n",
       "        3.3518376 ], dtype=float32),\n",
       " [<matplotlib.patches.Polygon at 0x7f40c80bbd90>])"
      ]
     },
     "execution_count": 17,
     "metadata": {},
     "output_type": "execute_result"
    },
    {
     "data": {
      "image/png": "[encoded data removed]",
      "text/plain": [
       "<Figure size 432x288 with 1 Axes>"
      ]
     },
     "metadata": {
      "needs_background": "light"
     },
     "output_type": "display_data"
    }
   ],
   "source": [
    "plt.hist((sin_score_np), color='Green', alpha=0.7, histtype='stepfilled', bins=100, ec='k')"
   ]
  },
  {
   "cell_type": "code",
   "execution_count": 18,
   "metadata": {},
   "outputs": [
    {
     "name": "stdout",
     "output_type": "stream",
     "text": [
      "50000\n"
     ]
    },
    {
     "data": {
      "text/plain": [
       "36855"
      ]
     },
     "execution_count": 18,
     "metadata": {},
     "output_type": "execute_result"
    }
   ],
   "source": [
    "(ksin_score_lbl.labels_==0).shape\n",
    "np.sum(ksin_score_lbl.labels_==0)\n",
    "print(np.sum(ksin_score_lbl.labels_==0) + np.sum(ksin_score_lbl.labels_==1))\n",
    "np.sum(ksin_score_lbl.labels_==1)"
   ]
  },
  {
   "cell_type": "code",
   "execution_count": 19,
   "metadata": {},
   "outputs": [
    {
     "data": {
      "image/png": "[encoded data removed]",
      "text/plain": [
       "<Figure size 432x288 with 1 Axes>"
      ]
     },
     "metadata": {
      "needs_background": "light"
     },
     "output_type": "display_data"
    }
   ],
   "source": [
    "kwargs = dict(histtype='stepfilled', alpha=1, bins=100, ec=\"k\")\n",
    "\n",
    "#Clean Data\n",
    "plt.hist((sin_score_np[ksin_score_lbl.labels_==0]), label='Predicted Clean', color='Blue', alpha=0.7, histtype='stepfilled', bins=100, ec='k') #Clean Data\n",
    "# plt.hist((sin_score_np[isNoisy_list==0]), label='Conditioned Clean', color='Orange', alpha=0.7, histtype='stepfilled', bins=100, ec='k') #Clean Data\n",
    "#Noisy Data\n",
    "plt.hist((sin_score_np[ksin_score_lbl.labels_==1]), label='Predicted Noise', color='Red', alpha=0.7, histtype='stepfilled', bins=100, ec='k') #Noisy Data\n",
    "# plt.hist((sin_score_np[isNoisy_list==1]), label='Conditioned Noise', color='purple', alpha=0.7, histtype='stepfilled', bins=100, ec='k') #Noisy Data\n",
    "plt.legend(loc='best')\n",
    "plt.title('Kmeans wrt misalignment score ce sym 80')\n",
    "plt.show()"
   ]
  },
  {
   "cell_type": "code",
   "execution_count": 20,
   "metadata": {},
   "outputs": [
    {
     "name": "stdout",
     "output_type": "stream",
     "text": [
      "Predicted Noisy Mean: tensor(0.8486)\n",
      "Predicted Noisy Var: tensor(0.0293)\n",
      "Predicted Noisy Max: tensor(1.2311)\n",
      "Predicted Noisy Min: tensor(0.4418)\n",
      "Predicted Clean Mean: tensor(1.5211)\n",
      "Predicted Clean Var: tensor(0.1197)\n",
      "Predicted Clean Max: tensor(3.3518)\n",
      "Predicted Clean Min: tensor(0.4924)\n"
     ]
    }
   ],
   "source": [
    "len(sin_score_np[isNoisy_list==0])\n",
    "print('Predicted Noisy Mean:',torch.mean(sin_score_lbl[ksin_score_lbl.labels_==1]))\n",
    "print('Predicted Noisy Var:',torch.var(sin_score_lbl[ksin_score_lbl.labels_==1]))\n",
    "print('Predicted Noisy Max:',torch.max(sin_score_lbl[ksin_score_lbl.labels_==1]))\n",
    "print('Predicted Noisy Min:',torch.min(sin_score_lbl[ksin_score_lbl.labels_==1]))\n",
    "\n",
    "print('Predicted Clean Mean:',torch.mean(sin_score_lbl[isNoisy_list==0]))\n",
    "print('Predicted Clean Var:',torch.var(sin_score_lbl[isNoisy_list==0]))\n",
    "print('Predicted Clean Max:',torch.max(sin_score_lbl[isNoisy_list==0]))\n",
    "print('Predicted Clean Min:',torch.min(sin_score_lbl[isNoisy_list==0]))"
   ]
  },
  {
   "cell_type": "code",
   "execution_count": 21,
   "metadata": {},
   "outputs": [
    {
     "name": "stdout",
     "output_type": "stream",
     "text": [
      "Dataset: CIFAR10DataLoader, Net: resnet34, NoiseFalse_0.8, Loss: CCELoss\n",
      "================================================== k-means wrt misalignmet score ==================================================\n",
      "Selected samples by k-means wrt misalignmet score: 13145 \n",
      "Precision: 0.84222 \n",
      "Recall: 0.79282 \n",
      "Specificity: 0.94245\n",
      "Accuracy: 0.90066 \n",
      "Fraction of clean samples/selected samples: 0.84222\n"
     ]
    }
   ],
   "source": [
    "kmean_ma_stat = return_statistics(isNoisy_list, ksin_score_lbl.labels_)\n",
    "stat_summary('k-means wrt misalignmet score', kmean_ma_stat)"
   ]
  },
  {
   "cell_type": "markdown",
   "metadata": {},
   "source": [
    "# GMM wrt alignment score"
   ]
  },
  {
   "cell_type": "code",
   "execution_count": null,
   "metadata": {},
   "outputs": [],
   "source": []
  },
  {
   "cell_type": "code",
   "execution_count": null,
   "metadata": {},
   "outputs": [],
   "source": []
  },
  {
   "cell_type": "code",
   "execution_count": null,
   "metadata": {},
   "outputs": [],
   "source": []
  },
  {
   "cell_type": "code",
   "execution_count": null,
   "metadata": {},
   "outputs": [],
   "source": []
  },
  {
   "cell_type": "code",
   "execution_count": null,
   "metadata": {},
   "outputs": [],
   "source": []
  },
  {
   "cell_type": "code",
   "execution_count": null,
   "metadata": {},
   "outputs": [],
   "source": []
  },
  {
   "cell_type": "markdown",
   "metadata": {},
   "source": [
    "# Original SAME(Threshold=0)"
   ]
  },
  {
   "cell_type": "code",
   "execution_count": 22,
   "metadata": {},
   "outputs": [],
   "source": [
    "#For singular vector analysis\n",
    "singular_dict, v_ortho_dict = get_singular_value_vector(label_list, out_list)\n",
    "\n",
    "for key in v_ortho_dict.keys():\n",
    "    v_ortho_dict[key] = v_ortho_dict[key].to(device)\n",
    "\n",
    "tmp_label_list = label_list.copy()\n",
    "model_rep = out_list.copy()\n",
    "model_represents = torch.from_numpy(model_rep).to(device)\n",
    "sing_lbl = torch.zeros(model_represents.shape[0])\n",
    "sin_score_lbl = torch.zeros(model_represents.shape[0])\n",
    "\n",
    "#sin_score 1 indicates the predicted noisy data from given detector\n",
    "for i, data in enumerate(model_represents):\n",
    "    sin_score_lbl[i] = torch.dot(v_ortho_dict[tmp_label_list[i]][0], data).abs() - torch.dot(v_ortho_dict[tmp_label_list[i]][1], data).abs()\n",
    "    if sin_score_lbl[i] < 0:\n",
    "        sing_lbl[i] = 1\n",
    "\n"
   ]
  },
  {
   "cell_type": "code",
   "execution_count": 23,
   "metadata": {},
   "outputs": [
    {
     "data": {
      "text/plain": [
       "torch.Size([2, 512])"
      ]
     },
     "execution_count": 23,
     "metadata": {},
     "output_type": "execute_result"
    }
   ],
   "source": [
    "v_ortho_dict[0.0].shape"
   ]
  },
  {
   "cell_type": "code",
   "execution_count": 24,
   "metadata": {},
   "outputs": [],
   "source": [
    "# #Using Function\n",
    "# singular_dict, v_ortho_dict = get_singular_value_vector(label_list, out_list)\n",
    "\n",
    "# for key in v_ortho_dict.keys():\n",
    "#     v_ortho_dict[key] = v_ortho_dict[key].to(device)\n",
    "\n",
    "# sing_lbl_1, sin_score_lbl_1 = singular_label(v_ortho_dict, out_list, label_list)\n",
    "\n",
    "# # This is for CLK Algorithm which clusters based on the loss value\n",
    "# # kmeans = cluster.KMeans(n_clusters=2, random_state=0).fit(loss_list.reshape(-1,1))"
   ]
  },
  {
   "cell_type": "code",
   "execution_count": 25,
   "metadata": {},
   "outputs": [
    {
     "data": {
      "text/plain": [
       "tensor([ 0.0414,  0.2117, -0.2247,  0.0798,  0.2572, -0.2654, -0.0974,  0.0822,\n",
       "         0.1484,  0.3377,  0.1472,  0.3865, -0.0050,  0.6240,  0.0449,  0.3154,\n",
       "         0.8214,  0.5532,  0.6837,  0.2097])"
      ]
     },
     "execution_count": 25,
     "metadata": {},
     "output_type": "execute_result"
    }
   ],
   "source": [
    "sin_score_lbl[:20]"
   ]
  },
  {
   "cell_type": "markdown",
   "metadata": {},
   "source": [
    "# Visualize the differences of eigenvalue of top1 and top2\n"
   ]
  },
  {
   "cell_type": "code",
   "execution_count": 26,
   "metadata": {},
   "outputs": [
    {
     "name": "stdout",
     "output_type": "stream",
     "text": [
      "Max:  tensor(1.6478)\n",
      "Min:  tensor(-0.5825)\n"
     ]
    }
   ],
   "source": [
    "print('Max: ',torch.max(sin_score_lbl))\n",
    "print('Min: ',torch.min(sin_score_lbl))\n",
    "\n",
    "sin_score_np = sin_score_lbl.cpu().detach().numpy()"
   ]
  },
  {
   "cell_type": "markdown",
   "metadata": {},
   "source": [
    "### Visualization without label information"
   ]
  },
  {
   "cell_type": "code",
   "execution_count": 27,
   "metadata": {},
   "outputs": [
    {
     "data": {
      "text/plain": [
       "(array([6.000e+00, 5.000e+00, 1.300e+01, 1.900e+01, 4.000e+01, 6.400e+01,\n",
       "        5.400e+01, 1.080e+02, 1.210e+02, 1.510e+02, 1.780e+02, 2.270e+02,\n",
       "        2.420e+02, 2.990e+02, 3.460e+02, 4.330e+02, 4.390e+02, 5.320e+02,\n",
       "        5.920e+02, 5.690e+02, 6.880e+02, 8.150e+02, 1.002e+03, 1.029e+03,\n",
       "        1.116e+03, 1.102e+03, 9.970e+02, 1.052e+03, 1.075e+03, 1.169e+03,\n",
       "        1.244e+03, 1.340e+03, 1.296e+03, 1.287e+03, 1.251e+03, 1.224e+03,\n",
       "        1.182e+03, 1.058e+03, 1.045e+03, 9.550e+02, 9.200e+02, 9.060e+02,\n",
       "        8.840e+02, 7.960e+02, 7.310e+02, 7.260e+02, 6.630e+02, 6.940e+02,\n",
       "        6.620e+02, 6.030e+02, 5.880e+02, 6.140e+02, 5.700e+02, 6.290e+02,\n",
       "        6.450e+02, 6.370e+02, 6.660e+02, 6.410e+02, 6.270e+02, 5.970e+02,\n",
       "        5.480e+02, 5.570e+02, 5.510e+02, 5.290e+02, 5.480e+02, 5.120e+02,\n",
       "        4.910e+02, 4.570e+02, 4.730e+02, 4.500e+02, 3.710e+02, 4.090e+02,\n",
       "        3.640e+02, 3.640e+02, 3.270e+02, 3.090e+02, 3.220e+02, 2.770e+02,\n",
       "        2.890e+02, 2.430e+02, 2.080e+02, 2.250e+02, 1.750e+02, 1.590e+02,\n",
       "        1.330e+02, 1.270e+02, 9.300e+01, 8.000e+01, 7.100e+01, 5.500e+01,\n",
       "        4.000e+01, 2.500e+01, 1.600e+01, 1.000e+01, 1.400e+01, 5.000e+00,\n",
       "        5.000e+00, 1.000e+00, 1.000e+00, 2.000e+00]),\n",
       " array([-0.5824981 , -0.56019485, -0.5378916 , -0.51558834, -0.49328512,\n",
       "        -0.4709819 , -0.44867864, -0.42637542, -0.40407217, -0.38176894,\n",
       "        -0.3594657 , -0.33716246, -0.3148592 , -0.292556  , -0.27025273,\n",
       "        -0.24794951, -0.22564627, -0.20334303, -0.1810398 , -0.15873656,\n",
       "        -0.13643332, -0.11413008, -0.09182684, -0.0695236 , -0.04722036,\n",
       "        -0.02491713, -0.00261389,  0.01968935,  0.04199259,  0.06429583,\n",
       "         0.08659907,  0.10890231,  0.13120554,  0.15350878,  0.17581202,\n",
       "         0.19811526,  0.2204185 ,  0.24272174,  0.26502496,  0.2873282 ,\n",
       "         0.30963144,  0.3319347 ,  0.3542379 ,  0.37654117,  0.3988444 ,\n",
       "         0.42114764,  0.44345087,  0.46575412,  0.48805735,  0.5103606 ,\n",
       "         0.5326638 ,  0.55496705,  0.57727027,  0.59957355,  0.6218768 ,\n",
       "         0.64418   ,  0.6664832 ,  0.6887865 ,  0.71108973,  0.73339295,\n",
       "         0.7556962 ,  0.77799946,  0.8003027 ,  0.8226059 ,  0.84490913,\n",
       "         0.8672124 ,  0.88951564,  0.91181886,  0.9341221 ,  0.95642537,\n",
       "         0.9787286 ,  1.0010319 ,  1.0233351 ,  1.0456383 ,  1.0679415 ,\n",
       "         1.0902448 ,  1.112548  ,  1.1348512 ,  1.1571544 ,  1.1794577 ,\n",
       "         1.201761  ,  1.2240642 ,  1.2463675 ,  1.2686707 ,  1.2909739 ,\n",
       "         1.3132771 ,  1.3355803 ,  1.3578836 ,  1.3801869 ,  1.4024901 ,\n",
       "         1.4247934 ,  1.4470966 ,  1.4693998 ,  1.491703  ,  1.5140063 ,\n",
       "         1.5363095 ,  1.5586128 ,  1.580916  ,  1.6032193 ,  1.6255225 ,\n",
       "         1.6478257 ], dtype=float32),\n",
       " [<matplotlib.patches.Polygon at 0x7f40d36a8ca0>])"
      ]
     },
     "execution_count": 27,
     "metadata": {},
     "output_type": "execute_result"
    },
    {
     "data": {
      "image/png": "[encoded data removed]",
      "text/plain": [
       "<Figure size 432x288 with 1 Axes>"
      ]
     },
     "metadata": {
      "needs_background": "light"
     },
     "output_type": "display_data"
    }
   ],
   "source": [
    "#Whole data distribution wrt alignment with singular vectors\n",
    "plt.hist((sin_score_np), color='Green', alpha=0.7, histtype='stepfilled', bins=100, ec='k')"
   ]
  },
  {
   "cell_type": "markdown",
   "metadata": {},
   "source": [
    "### Visualization with label information"
   ]
  },
  {
   "cell_type": "code",
   "execution_count": 28,
   "metadata": {},
   "outputs": [
    {
     "data": {
      "image/png": "[encoded data removed]",
      "text/plain": [
       "<Figure size 432x288 with 1 Axes>"
      ]
     },
     "metadata": {
      "needs_background": "light"
     },
     "output_type": "display_data"
    }
   ],
   "source": [
    "kwargs = dict(histtype='stepfilled', alpha=1, bins=100, ec=\"k\")\n",
    "\n",
    "#Clean Data\n",
    "plt.hist((sin_score_np[isNoisy_list==0]), label='Clean', color='Blue', alpha=0.7, histtype='stepfilled', bins=100, ec='k') #Clean Data\n",
    "#Noisy Data\n",
    "plt.hist((sin_score_np[isNoisy_list==1]), label='Noisy', color='Red', alpha=0.7, histtype='stepfilled', bins=100, ec='k') #Noisy Data\n",
    "plt.legend(loc='upper left')\n",
    "plt.savefig('figure/ce_sym20_sin_difference.png')\n",
    "plt.show()"
   ]
  },
  {
   "cell_type": "code",
   "execution_count": 29,
   "metadata": {},
   "outputs": [
    {
     "name": "stdout",
     "output_type": "stream",
     "text": [
      "Noisy Mean: tensor(0.2257)\n",
      "Noisy Var: tensor(0.1273)\n",
      "Noisy Max: tensor(1.6478)\n",
      "Noisy Min: tensor(-0.5825)\n",
      "Clean Mean: tensor(0.7044)\n",
      "Clean Var: tensor(0.1110)\n",
      "Clean Max: tensor(1.6104)\n",
      "Clean Min: tensor(-0.4286)\n"
     ]
    }
   ],
   "source": [
    "len(sin_score_np[isNoisy_list==0])\n",
    "print('Noisy Mean:',torch.mean(sin_score_lbl[isNoisy_list==1]))\n",
    "print('Noisy Var:',torch.var(sin_score_lbl[isNoisy_list==1]))\n",
    "print('Noisy Max:',torch.max(sin_score_lbl[isNoisy_list==1]))\n",
    "print('Noisy Min:',torch.min(sin_score_lbl[isNoisy_list==1]))\n",
    "\n",
    "print('Clean Mean:',torch.mean(sin_score_lbl[isNoisy_list==0]))\n",
    "print('Clean Var:',torch.var(sin_score_lbl[isNoisy_list==0]))\n",
    "print('Clean Max:',torch.max(sin_score_lbl[isNoisy_list==0]))\n",
    "print('Clean Min:',torch.min(sin_score_lbl[isNoisy_list==0]))"
   ]
  }
 ],
 "metadata": {
  "kernelspec": {
   "display_name": "Python 3",
   "language": "python",
   "name": "python3"
  },
  "language_info": {
   "codemirror_mode": {
    "name": "ipython",
    "version": 3
   },
   "file_extension": ".py",
   "mimetype": "text/x-python",
   "name": "python",
   "nbconvert_exporter": "python",
   "pygments_lexer": "ipython3",
   "version": "3.8.5"
  }
 },
 "nbformat": 4,
 "nbformat_minor": 4
}
