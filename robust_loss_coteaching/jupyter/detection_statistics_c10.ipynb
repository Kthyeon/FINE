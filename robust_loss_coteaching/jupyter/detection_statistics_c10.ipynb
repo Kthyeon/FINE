{
 "cells": [
  {
   "cell_type": "code",
   "execution_count": null,
   "id": "herbal-palestinian",
   "metadata": {},
   "outputs": [],
   "source": [
    "import os, sys\n",
    "os.chdir('../')"
   ]
  },
  {
   "cell_type": "code",
   "execution_count": 2,
   "id": "billion-buffalo",
   "metadata": {},
   "outputs": [],
   "source": [
    "import argparse\n",
    "import torch\n",
    "from tqdm import tqdm\n",
    "import data_loader.data_loaders as module_data\n",
    "import loss as module_loss\n",
    "import model.metric as module_metric\n",
    "import model.model as module_arch\n",
    "\n",
    "import easydict\n",
    "import torch.nn as nn\n",
    "import torch.nn.functional as F\n",
    "import sys\n",
    "import os\n",
    "import json\n",
    "import random\n",
    "import numpy as np\n",
    "import pandas as pd\n",
    "import seaborn as sns\n",
    "import matplotlib.pyplot as plt \n",
    "\n",
    "import data_loader.data_loaders as module_data\n",
    "import model.model as module_arch\n",
    "\n",
    "from selection.svd_classifier import *\n",
    "from selection.gmm import *\n",
    "from selection.util import *\n",
    "\n",
    "from utils.parse_config import ConfigParser\n",
    "from utils.util import *\n",
    "from utils.args import *"
   ]
  },
  {
   "cell_type": "code",
   "execution_count": 3,
   "id": "interpreted-correction",
   "metadata": {},
   "outputs": [],
   "source": [
    "config_file = './hyperparams/multistep/config_cifar10_cce_rn34.json'\n",
    "with open(config_file, 'r') as f:\n",
    "    config = json.load(f)\n",
    "\n",
    "# resume_path = './rn34/multistep_asym_40_elr.pth'"
   ]
  },
  {
   "cell_type": "code",
   "execution_count": 4,
   "id": "breathing-scratch",
   "metadata": {},
   "outputs": [],
   "source": [
    "def decode(path):\n",
    "    items = path.split('_')\n",
    "    noisetype = True if items[1]=='asym' else False\n",
    "    noiserate = float(items[2]) * 0.01\n",
    "    \n",
    "    return noisetype, noiserate, items[3].split('.')[0]"
   ]
  },
  {
   "cell_type": "code",
   "execution_count": 5,
   "id": "composed-height",
   "metadata": {},
   "outputs": [],
   "source": [
    "def make_parse(resume_path, config, noise_rate, noisetype):\n",
    "    parse = easydict.EasyDict({\n",
    "    \"load_name\" : resume_path,\n",
    "    \"reinit\": False,\n",
    "    \"distill_mode\": 'loss'\n",
    "    })\n",
    "    \n",
    "    config['trainer']['percent'] = noise_rate\n",
    "    config['trainer']['asym'] = noisetype\n",
    "    \n",
    "    return parse, config"
   ]
  },
  {
   "cell_type": "code",
   "execution_count": 6,
   "id": "verified-billy",
   "metadata": {},
   "outputs": [],
   "source": [
    "def extract_cleanidx(teacher, data_loader, parse, print_statistics = True):\n",
    "    teacher.load_state_dict(torch.load('./checkpoint/' + parse.load_name)['state_dict'])\n",
    "    teacher = teacher.cuda()\n",
    "\n",
    "    if not parse.reinit: teacher.load_state_dict(torch.load('./checkpoint/' + parse.load_name)['state_dict'])\n",
    "    for params in teacher.parameters(): params.requires_grad = False\n",
    "    \n",
    "    if 'fine' in parse.distill_mode:\n",
    "        features, labels = get_features(teacher, data_loader)\n",
    "        clean_labels = fine(current_features=features, current_labels=labels, fit = parse.distill_mode)\n",
    "    elif 'loss' in parse.distill_mode:\n",
    "        clean_labels, labels = cleansing_loss(teacher, data_loader)\n",
    "    else:\n",
    "        raise NotImplemented \n",
    "    if print_statistics: \n",
    "        selected, precision, recall, specificity, accuracy = return_statistics(data_loader, clean_labels, datanum=len(labels))\n",
    "    \n",
    "    return selected, precision, recall, specificity, accuracy"
   ]
  },
  {
   "cell_type": "code",
   "execution_count": 7,
   "id": "legitimate-provider",
   "metadata": {},
   "outputs": [],
   "source": [
    "def make_pd_list(root, config, log_filename):\n",
    "    random.seed(config['seed'])\n",
    "    torch.manual_seed(config['seed'])\n",
    "    torch.cuda.manual_seed_all(config['seed'])\n",
    "    torch.backends.cudnn.deterministic = True\n",
    "    np.random.seed(config['seed'])\n",
    "    \n",
    "    # load checkpoint path\n",
    "    pathlist = os.listdir(root)\n",
    "    pathlist = [path for path in pathlist if ('.pth' in path) and ('eigen' not in path) and ('kmeans' not in path) and ('c100') not in path]\n",
    "    \n",
    "    # initialize model\n",
    "    model = module_arch.resnet34(num_classes=10)\n",
    "    \n",
    "    # make pandas file\n",
    "    logcolumns = ['noisetype', 'noiserate', 'lossfunction', 'selected', 'precision', 'recall', 'specificity', 'accuracy']\n",
    "    log_pd = pd.DataFrame(np.zeros([len(pathlist), len(logcolumns)]), columns = logcolumns)\n",
    "    \n",
    "    # write pandas file\n",
    "    noisetypelst = ['']\n",
    "    for i in range(len(pathlist)):\n",
    "        noisetype, noiserate, lossfunction = decode(pathlist[i])\n",
    "        parse, config = make_parse('./rn34/' + pathlist[i], config, noiserate, noisetype)\n",
    "        \n",
    "        # load original dataloader\n",
    "        data_loader = getattr(module_data, config['data_loader']['type'])(\n",
    "        config['data_loader']['args']['data_dir'],\n",
    "        batch_size= 100,\n",
    "        shuffle=False,\n",
    "        validation_split=0.0,\n",
    "        num_batches=config['data_loader']['args']['num_batches'],\n",
    "        training=True,\n",
    "        num_workers=config['data_loader']['args']['num_workers'],\n",
    "        pin_memory=config['data_loader']['args']['pin_memory'],\n",
    "        config=config)\n",
    "        \n",
    "        selected, precision, recall, specificity, accuracy = extract_cleanidx(model, data_loader, parse)\n",
    "        log_pd.loc[i] = [str(noisetype), str(noiserate), lossfunction, selected, precision, recall, specificity, accuracy]\n",
    "        log_pd.to_csv(log_filename)\n",
    "        \n",
    "    return log_pd"
   ]
  },
  {
   "cell_type": "code",
   "execution_count": 8,
   "id": "mathematical-professor",
   "metadata": {},
   "outputs": [
    {
     "name": "stdout",
     "output_type": "stream",
     "text": [
      "Files already downloaded and verified\n",
      "##############\n",
      "[3 2 1 1 3 0 0 7 6 5]\n",
      "[3 2 1 1 3 2 2 7 6 5]\n",
      "Train: 50000 Val: 0\n"
     ]
    },
    {
     "name": "stderr",
     "output_type": "stream",
     "text": [
      "100%|██████████| 500/500 [00:12<00:00, 40.79it/s]\n",
      "100%|██████████| 500/500 [00:03<00:00, 162.64it/s]\n"
     ]
    },
    {
     "name": "stdout",
     "output_type": "stream",
     "text": [
      "Noisy: 9226, Clean: 40774\n",
      "Selected samples: 39673 \n",
      "Precision: 0.9515 \n",
      "Recall: 0.9258 \n",
      "Specificity: 0.7915\n",
      "Accuracy: 0.901 \n",
      "Fraction of clean samples/selected samples: 0.9515\n",
      "Files already downloaded and verified\n"
     ]
    },
    {
     "name": "stderr",
     "output_type": "stream",
     "text": [
      "  0%|          | 0/500 [00:00<?, ?it/s]"
     ]
    },
    {
     "name": "stdout",
     "output_type": "stream",
     "text": [
      "##############\n",
      "[8 9 1 9 4 8 3 6 3 6]\n",
      "[3 2 1 1 3 2 2 7 6 5]\n",
      "Train: 50000 Val: 0\n"
     ]
    },
    {
     "name": "stderr",
     "output_type": "stream",
     "text": [
      "100%|██████████| 500/500 [00:12<00:00, 42.46it/s]\n",
      "100%|██████████| 500/500 [00:03<00:00, 161.51it/s]\n"
     ]
    },
    {
     "name": "stdout",
     "output_type": "stream",
     "text": [
      "Noisy: 36036, Clean: 13964\n",
      "Selected samples: 21349 \n",
      "Precision: 0.5865 \n",
      "Recall: 0.8967 \n",
      "Specificity: 0.7551\n",
      "Accuracy: 0.7946 \n",
      "Fraction of clean samples/selected samples: 0.5865\n",
      "Files already downloaded and verified\n"
     ]
    },
    {
     "name": "stderr",
     "output_type": "stream",
     "text": [
      "  0%|          | 0/500 [00:00<?, ?it/s]"
     ]
    },
    {
     "name": "stdout",
     "output_type": "stream",
     "text": [
      "##############\n",
      "[3 2 1 1 3 2 2 7 6 5]\n",
      "[3 2 1 1 3 2 2 7 6 5]\n",
      "Train: 50000 Val: 0\n"
     ]
    },
    {
     "name": "stderr",
     "output_type": "stream",
     "text": [
      "100%|██████████| 500/500 [00:12<00:00, 41.14it/s]\n",
      "100%|██████████| 500/500 [00:02<00:00, 169.90it/s]\n"
     ]
    },
    {
     "name": "stdout",
     "output_type": "stream",
     "text": [
      "Noisy: 2458, Clean: 47542\n",
      "Selected samples: 46524 \n",
      "Precision: 0.9956 \n",
      "Recall: 0.9743 \n",
      "Specificity: 0.9166\n",
      "Accuracy: 0.9714 \n",
      "Fraction of clean samples/selected samples: 0.9956\n",
      "Files already downloaded and verified\n"
     ]
    },
    {
     "name": "stderr",
     "output_type": "stream",
     "text": [
      "  0%|          | 0/500 [00:00<?, ?it/s]"
     ]
    },
    {
     "name": "stdout",
     "output_type": "stream",
     "text": [
      "##############\n",
      "[3 9 1 1 3 8 2 7 6 5]\n",
      "[3 2 1 1 3 2 2 7 6 5]\n",
      "Train: 50000 Val: 0\n"
     ]
    },
    {
     "name": "stderr",
     "output_type": "stream",
     "text": [
      "100%|██████████| 500/500 [00:12<00:00, 39.71it/s]\n",
      "100%|██████████| 500/500 [00:03<00:00, 150.91it/s]\n"
     ]
    },
    {
     "name": "stdout",
     "output_type": "stream",
     "text": [
      "Noisy: 9006, Clean: 40994\n",
      "Selected samples: 39801 \n",
      "Precision: 0.9949 \n",
      "Recall: 0.9659 \n",
      "Specificity: 0.9773\n",
      "Accuracy: 0.968 \n",
      "Fraction of clean samples/selected samples: 0.9949\n",
      "Files already downloaded and verified\n",
      "##############\n",
      "[8 9 1 9 4 8 3 6 3 6]\n",
      "[3 2 1 1 3 2 2 7 6 5]\n",
      "Train: 50000 Val: 0\n"
     ]
    },
    {
     "name": "stderr",
     "output_type": "stream",
     "text": [
      "100%|██████████| 500/500 [00:20<00:00, 41.36it/s]\n",
      "100%|██████████| 500/500 [00:03<00:00, 157.85it/s]\n"
     ]
    },
    {
     "name": "stdout",
     "output_type": "stream",
     "text": [
      "Noisy: 36036, Clean: 13964\n",
      "Selected samples: 13484 \n",
      "Precision: 0.873 \n",
      "Recall: 0.843 \n",
      "Specificity: 0.9525\n",
      "Accuracy: 0.9219 \n",
      "Fraction of clean samples/selected samples: 0.873\n",
      "Files already downloaded and verified\n",
      "##############\n",
      "[8 9 1 9 3 8 2 7 3 5]\n",
      "[3 2 1 1 3 2 2 7 6 5]\n",
      "Train: 50000 Val: 0\n"
     ]
    },
    {
     "name": "stderr",
     "output_type": "stream",
     "text": [
      "100%|██████████| 500/500 [00:23<00:00, 21.45it/s]\n",
      "100%|██████████| 500/500 [00:03<00:00, 151.86it/s]\n"
     ]
    },
    {
     "name": "stdout",
     "output_type": "stream",
     "text": [
      "Noisy: 17975, Clean: 32025\n",
      "Selected samples: 31321 \n",
      "Precision: 0.9807 \n",
      "Recall: 0.9592 \n",
      "Specificity: 0.9664\n",
      "Accuracy: 0.9618 \n",
      "Fraction of clean samples/selected samples: 0.9807\n",
      "Files already downloaded and verified\n",
      "##############\n",
      "[8 9 1 9 3 8 3 7 3 5]\n",
      "[3 2 1 1 3 2 2 7 6 5]\n",
      "Train: 50000 Val: 0\n"
     ]
    },
    {
     "name": "stderr",
     "output_type": "stream",
     "text": [
      "100%|██████████| 500/500 [00:20<00:00, 41.46it/s]\n",
      "100%|██████████| 500/500 [00:03<00:00, 152.35it/s]\n"
     ]
    },
    {
     "name": "stdout",
     "output_type": "stream",
     "text": [
      "Noisy: 27041, Clean: 22959\n",
      "Selected samples: 17818 \n",
      "Precision: 0.9778 \n",
      "Recall: 0.7589 \n",
      "Specificity: 0.9854\n",
      "Accuracy: 0.8814 \n",
      "Fraction of clean samples/selected samples: 0.9778\n",
      "Files already downloaded and verified\n",
      "##############\n",
      "[3 9 1 1 3 8 2 7 6 5]\n",
      "[3 2 1 1 3 2 2 7 6 5]\n",
      "Train: 50000 Val: 0\n"
     ]
    },
    {
     "name": "stderr",
     "output_type": "stream",
     "text": [
      "100%|██████████| 500/500 [00:22<00:00, 22.29it/s]\n",
      "100%|██████████| 500/500 [00:03<00:00, 159.06it/s]\n"
     ]
    },
    {
     "name": "stdout",
     "output_type": "stream",
     "text": [
      "Noisy: 9006, Clean: 40994\n",
      "Selected samples: 28369 \n",
      "Precision: 0.9898 \n",
      "Recall: 0.685 \n",
      "Specificity: 0.9678\n",
      "Accuracy: 0.7359 \n",
      "Fraction of clean samples/selected samples: 0.9898\n",
      "Files already downloaded and verified\n",
      "##############\n",
      "[3 2 1 1 3 0 2 7 6 5]\n",
      "[3 2 1 1 3 2 2 7 6 5]\n",
      "Train: 50000 Val: 0\n"
     ]
    },
    {
     "name": "stderr",
     "output_type": "stream",
     "text": [
      "100%|██████████| 500/500 [00:23<00:00, 21.22it/s]\n",
      "100%|██████████| 500/500 [00:03<00:00, 155.17it/s]\n"
     ]
    },
    {
     "name": "stdout",
     "output_type": "stream",
     "text": [
      "Noisy: 7020, Clean: 42980\n",
      "Selected samples: 24739 \n",
      "Precision: 0.934 \n",
      "Recall: 0.5376 \n",
      "Specificity: 0.7675\n",
      "Accuracy: 0.5699 \n",
      "Fraction of clean samples/selected samples: 0.934\n",
      "Files already downloaded and verified\n",
      "##############\n",
      "[8 9 1 9 3 8 3 7 3 5]\n",
      "[3 2 1 1 3 2 2 7 6 5]\n",
      "Train: 50000 Val: 0\n"
     ]
    },
    {
     "name": "stderr",
     "output_type": "stream",
     "text": [
      "100%|██████████| 500/500 [00:24<00:00, 20.65it/s]\n",
      "100%|██████████| 500/500 [00:03<00:00, 141.51it/s]\n"
     ]
    },
    {
     "name": "stdout",
     "output_type": "stream",
     "text": [
      "Noisy: 27041, Clean: 22959\n",
      "Selected samples: 15661 \n",
      "Precision: 0.9812 \n",
      "Recall: 0.6693 \n",
      "Specificity: 0.9891\n",
      "Accuracy: 0.8423 \n",
      "Fraction of clean samples/selected samples: 0.9812\n",
      "Files already downloaded and verified\n",
      "##############\n",
      "[8 9 1 9 4 8 3 6 3 6]\n",
      "[3 2 1 1 3 2 2 7 6 5]\n",
      "Train: 50000 Val: 0\n"
     ]
    },
    {
     "name": "stderr",
     "output_type": "stream",
     "text": [
      "100%|██████████| 500/500 [00:24<00:00, 20.34it/s]\n",
      "100%|██████████| 500/500 [00:03<00:00, 135.60it/s]\n"
     ]
    },
    {
     "name": "stdout",
     "output_type": "stream",
     "text": [
      "Noisy: 36036, Clean: 13964\n",
      "Selected samples: 14694 \n",
      "Precision: 0.614 \n",
      "Recall: 0.6461 \n",
      "Specificity: 0.8426\n",
      "Accuracy: 0.7877 \n",
      "Fraction of clean samples/selected samples: 0.614\n",
      "Files already downloaded and verified\n",
      "##############\n",
      "[8 9 1 9 4 8 3 6 3 6]\n",
      "[3 2 1 1 3 2 2 7 6 5]\n",
      "Train: 50000 Val: 0\n"
     ]
    },
    {
     "name": "stderr",
     "output_type": "stream",
     "text": [
      "100%|██████████| 500/500 [00:23<00:00, 21.02it/s]\n",
      "100%|██████████| 500/500 [00:03<00:00, 157.89it/s]\n"
     ]
    },
    {
     "name": "stdout",
     "output_type": "stream",
     "text": [
      "Noisy: 36036, Clean: 13964\n",
      "Selected samples: 14921 \n",
      "Precision: 0.5786 \n",
      "Recall: 0.6182 \n",
      "Specificity: 0.8255\n",
      "Accuracy: 0.7676 \n",
      "Fraction of clean samples/selected samples: 0.5786\n",
      "Files already downloaded and verified\n",
      "##############\n",
      "[3 2 1 1 3 0 2 7 6 5]\n",
      "[3 2 1 1 3 2 2 7 6 5]\n",
      "Train: 50000 Val: 0\n"
     ]
    },
    {
     "name": "stderr",
     "output_type": "stream",
     "text": [
      "100%|██████████| 500/500 [00:23<00:00, 21.69it/s]\n",
      "100%|██████████| 500/500 [00:03<00:00, 158.96it/s]\n"
     ]
    },
    {
     "name": "stdout",
     "output_type": "stream",
     "text": [
      "Noisy: 7020, Clean: 42980\n",
      "Selected samples: 28998 \n",
      "Precision: 0.9378 \n",
      "Recall: 0.6327 \n",
      "Specificity: 0.7432\n",
      "Accuracy: 0.6482 \n",
      "Fraction of clean samples/selected samples: 0.9378\n",
      "Files already downloaded and verified\n",
      "##############\n",
      "[3 9 1 1 3 8 2 7 6 5]\n",
      "[3 2 1 1 3 2 2 7 6 5]\n",
      "Train: 50000 Val: 0\n"
     ]
    },
    {
     "name": "stderr",
     "output_type": "stream",
     "text": [
      "100%|██████████| 500/500 [00:23<00:00, 21.18it/s]\n",
      "100%|██████████| 500/500 [00:03<00:00, 151.69it/s]\n"
     ]
    },
    {
     "name": "stdout",
     "output_type": "stream",
     "text": [
      "Noisy: 9006, Clean: 40994\n",
      "Selected samples: 37294 \n",
      "Precision: 0.9867 \n",
      "Recall: 0.8977 \n",
      "Specificity: 0.945\n",
      "Accuracy: 0.9062 \n",
      "Fraction of clean samples/selected samples: 0.9867\n",
      "Files already downloaded and verified\n",
      "##############\n",
      "[3 2 1 1 3 0 2 7 6 5]\n",
      "[3 2 1 1 3 2 2 7 6 5]\n",
      "Train: 50000 Val: 0\n"
     ]
    },
    {
     "name": "stderr",
     "output_type": "stream",
     "text": [
      "100%|██████████| 500/500 [00:23<00:00, 21.49it/s]\n",
      "100%|██████████| 500/500 [00:03<00:00, 156.43it/s]\n"
     ]
    },
    {
     "name": "stdout",
     "output_type": "stream",
     "text": [
      "Noisy: 4786, Clean: 45214\n",
      "Selected samples: 35236 \n",
      "Precision: 0.9968 \n",
      "Recall: 0.7768 \n",
      "Specificity: 0.9766\n",
      "Accuracy: 0.796 \n",
      "Fraction of clean samples/selected samples: 0.9968\n",
      "Files already downloaded and verified\n",
      "##############\n",
      "[8 9 1 9 3 8 3 7 3 5]\n",
      "[3 2 1 1 3 2 2 7 6 5]\n",
      "Train: 50000 Val: 0\n"
     ]
    },
    {
     "name": "stderr",
     "output_type": "stream",
     "text": [
      "100%|██████████| 500/500 [00:22<00:00, 22.15it/s]\n",
      "100%|██████████| 500/500 [00:03<00:00, 158.62it/s]\n"
     ]
    },
    {
     "name": "stdout",
     "output_type": "stream",
     "text": [
      "Noisy: 27041, Clean: 22959\n",
      "Selected samples: 17842 \n",
      "Precision: 0.9921 \n",
      "Recall: 0.771 \n",
      "Specificity: 0.9948\n",
      "Accuracy: 0.892 \n",
      "Fraction of clean samples/selected samples: 0.9921\n",
      "Files already downloaded and verified\n",
      "##############\n",
      "[8 9 1 9 3 8 2 7 3 5]\n",
      "[3 2 1 1 3 2 2 7 6 5]\n",
      "Train: 50000 Val: 0\n"
     ]
    },
    {
     "name": "stderr",
     "output_type": "stream",
     "text": [
      "100%|██████████| 500/500 [00:23<00:00, 20.98it/s]\n",
      "100%|██████████| 500/500 [00:03<00:00, 146.73it/s]\n"
     ]
    },
    {
     "name": "stdout",
     "output_type": "stream",
     "text": [
      "Noisy: 17975, Clean: 32025\n",
      "Selected samples: 25938 \n",
      "Precision: 0.9894 \n",
      "Recall: 0.8013 \n",
      "Specificity: 0.9846\n",
      "Accuracy: 0.8672 \n",
      "Fraction of clean samples/selected samples: 0.9894\n",
      "Files already downloaded and verified\n",
      "##############\n",
      "[3 2 1 1 3 2 2 7 6 5]\n",
      "[3 2 1 1 3 2 2 7 6 5]\n",
      "Train: 50000 Val: 0\n"
     ]
    },
    {
     "name": "stderr",
     "output_type": "stream",
     "text": [
      "100%|██████████| 500/500 [00:23<00:00, 40.86it/s]\n",
      "100%|██████████| 500/500 [00:03<00:00, 160.78it/s]\n"
     ]
    },
    {
     "name": "stdout",
     "output_type": "stream",
     "text": [
      "Noisy: 2458, Clean: 47542\n",
      "Selected samples: 32084 \n",
      "Precision: 0.9934 \n",
      "Recall: 0.6704 \n",
      "Specificity: 0.9133\n",
      "Accuracy: 0.6823 \n",
      "Fraction of clean samples/selected samples: 0.9934\n",
      "Files already downloaded and verified\n",
      "##############\n",
      "[3 2 1 1 3 0 2 7 6 5]\n",
      "[3 2 1 1 3 2 2 7 6 5]\n",
      "Train: 50000 Val: 0\n"
     ]
    },
    {
     "name": "stderr",
     "output_type": "stream",
     "text": [
      "100%|██████████| 500/500 [00:23<00:00, 20.97it/s]\n",
      "100%|██████████| 500/500 [00:03<00:00, 152.84it/s]\n"
     ]
    },
    {
     "name": "stdout",
     "output_type": "stream",
     "text": [
      "Noisy: 7020, Clean: 42980\n",
      "Selected samples: 27833 \n",
      "Precision: 0.9237 \n",
      "Recall: 0.5982 \n",
      "Specificity: 0.6974\n",
      "Accuracy: 0.6121 \n",
      "Fraction of clean samples/selected samples: 0.9237\n",
      "Files already downloaded and verified\n",
      "##############\n",
      "[3 2 1 1 3 0 2 7 6 5]\n",
      "[3 2 1 1 3 2 2 7 6 5]\n",
      "Train: 50000 Val: 0\n"
     ]
    },
    {
     "name": "stderr",
     "output_type": "stream",
     "text": [
      "100%|██████████| 500/500 [00:23<00:00, 21.02it/s]\n",
      "100%|██████████| 500/500 [00:03<00:00, 149.75it/s]\n"
     ]
    },
    {
     "name": "stdout",
     "output_type": "stream",
     "text": [
      "Noisy: 4786, Clean: 45214\n",
      "Selected samples: 27819 \n",
      "Precision: 0.9835 \n",
      "Recall: 0.6051 \n",
      "Specificity: 0.9039\n",
      "Accuracy: 0.6337 \n",
      "Fraction of clean samples/selected samples: 0.9835\n",
      "Files already downloaded and verified\n",
      "##############\n",
      "[8 9 1 9 3 8 3 7 3 5]\n",
      "[3 2 1 1 3 2 2 7 6 5]\n",
      "Train: 50000 Val: 0\n"
     ]
    },
    {
     "name": "stderr",
     "output_type": "stream",
     "text": [
      "100%|██████████| 500/500 [00:22<00:00, 41.00it/s]\n",
      "100%|██████████| 500/500 [00:03<00:00, 157.25it/s]\n"
     ]
    },
    {
     "name": "stdout",
     "output_type": "stream",
     "text": [
      "Noisy: 27041, Clean: 22959\n",
      "Selected samples: 21397 \n",
      "Precision: 0.9534 \n",
      "Recall: 0.8885 \n",
      "Specificity: 0.9631\n",
      "Accuracy: 0.9288 \n",
      "Fraction of clean samples/selected samples: 0.9534\n",
      "Files already downloaded and verified\n",
      "##############\n",
      "[3 2 1 1 3 2 2 7 6 5]\n",
      "[3 2 1 1 3 2 2 7 6 5]\n",
      "Train: 50000 Val: 0\n"
     ]
    },
    {
     "name": "stderr",
     "output_type": "stream",
     "text": [
      "100%|██████████| 500/500 [00:23<00:00, 21.16it/s]\n",
      "100%|██████████| 500/500 [00:03<00:00, 157.30it/s]\n"
     ]
    },
    {
     "name": "stdout",
     "output_type": "stream",
     "text": [
      "Noisy: 2458, Clean: 47542\n",
      "Selected samples: 29794 \n",
      "Precision: 0.9886 \n",
      "Recall: 0.6196 \n",
      "Specificity: 0.8621\n",
      "Accuracy: 0.6315 \n",
      "Fraction of clean samples/selected samples: 0.9886\n",
      "Files already downloaded and verified\n",
      "##############\n",
      "[3 9 1 1 3 8 2 7 6 5]\n",
      "[3 2 1 1 3 2 2 7 6 5]\n",
      "Train: 50000 Val: 0\n"
     ]
    },
    {
     "name": "stderr",
     "output_type": "stream",
     "text": [
      "100%|██████████| 500/500 [00:24<00:00, 20.75it/s]\n",
      "100%|██████████| 500/500 [00:03<00:00, 145.92it/s]\n"
     ]
    },
    {
     "name": "stdout",
     "output_type": "stream",
     "text": [
      "Noisy: 9006, Clean: 40994\n",
      "Selected samples: 29630 \n",
      "Precision: 0.9937 \n",
      "Recall: 0.7182 \n",
      "Specificity: 0.9792\n",
      "Accuracy: 0.7652 \n",
      "Fraction of clean samples/selected samples: 0.9937\n",
      "Files already downloaded and verified\n",
      "##############\n",
      "[8 9 1 9 3 8 2 7 3 5]\n",
      "[3 2 1 1 3 2 2 7 6 5]\n",
      "Train: 50000 Val: 0\n"
     ]
    },
    {
     "name": "stderr",
     "output_type": "stream",
     "text": [
      "100%|██████████| 500/500 [00:23<00:00, 39.83it/s]\n",
      "100%|██████████| 500/500 [00:03<00:00, 151.72it/s]\n"
     ]
    },
    {
     "name": "stdout",
     "output_type": "stream",
     "text": [
      "Noisy: 17975, Clean: 32025\n",
      "Selected samples: 27880 \n",
      "Precision: 0.9956 \n",
      "Recall: 0.8668 \n",
      "Specificity: 0.9932\n",
      "Accuracy: 0.9122 \n",
      "Fraction of clean samples/selected samples: 0.9956\n",
      "Files already downloaded and verified\n",
      "##############\n",
      "[3 2 1 1 3 0 2 7 6 5]\n",
      "[3 2 1 1 3 2 2 7 6 5]\n",
      "Train: 50000 Val: 0\n"
     ]
    },
    {
     "name": "stderr",
     "output_type": "stream",
     "text": [
      "100%|██████████| 500/500 [00:22<00:00, 21.80it/s]\n",
      "100%|██████████| 500/500 [00:03<00:00, 158.24it/s]\n"
     ]
    },
    {
     "name": "stdout",
     "output_type": "stream",
     "text": [
      "Noisy: 4786, Clean: 45214\n",
      "Selected samples: 32413 \n",
      "Precision: 0.9647 \n",
      "Recall: 0.6916 \n",
      "Specificity: 0.761\n",
      "Accuracy: 0.6982 \n",
      "Fraction of clean samples/selected samples: 0.9647\n",
      "Files already downloaded and verified\n",
      "##############\n",
      "[8 9 1 9 3 8 2 7 3 5]\n",
      "[3 2 1 1 3 2 2 7 6 5]\n",
      "Train: 50000 Val: 0\n"
     ]
    },
    {
     "name": "stderr",
     "output_type": "stream",
     "text": [
      "100%|██████████| 500/500 [00:23<00:00, 21.24it/s]\n",
      "100%|██████████| 500/500 [00:03<00:00, 153.98it/s]\n"
     ]
    },
    {
     "name": "stdout",
     "output_type": "stream",
     "text": [
      "Noisy: 17975, Clean: 32025\n",
      "Selected samples: 24642 \n",
      "Precision: 0.99 \n",
      "Recall: 0.7618 \n",
      "Specificity: 0.9863\n",
      "Accuracy: 0.8425 \n",
      "Fraction of clean samples/selected samples: 0.99\n",
      "Files already downloaded and verified\n",
      "##############\n",
      "[3 2 1 1 3 0 0 7 6 5]\n",
      "[3 2 1 1 3 2 2 7 6 5]\n",
      "Train: 50000 Val: 0\n"
     ]
    },
    {
     "name": "stderr",
     "output_type": "stream",
     "text": [
      "100%|██████████| 500/500 [00:23<00:00, 40.78it/s]\n",
      "100%|██████████| 500/500 [00:03<00:00, 152.21it/s]\n"
     ]
    },
    {
     "name": "stdout",
     "output_type": "stream",
     "text": [
      "Noisy: 9226, Clean: 40774\n",
      "Selected samples: 28778 \n",
      "Precision: 0.9153 \n",
      "Recall: 0.646 \n",
      "Specificity: 0.7357\n",
      "Accuracy: 0.6626 \n",
      "Fraction of clean samples/selected samples: 0.9153\n",
      "Files already downloaded and verified\n",
      "##############\n",
      "[3 2 1 1 3 0 0 7 6 5]\n",
      "[3 2 1 1 3 2 2 7 6 5]\n",
      "Train: 50000 Val: 0\n"
     ]
    },
    {
     "name": "stderr",
     "output_type": "stream",
     "text": [
      "100%|██████████| 500/500 [00:23<00:00, 21.64it/s]\n",
      "100%|██████████| 500/500 [00:03<00:00, 154.64it/s]\n"
     ]
    },
    {
     "name": "stdout",
     "output_type": "stream",
     "text": [
      "Noisy: 9226, Clean: 40774\n",
      "Selected samples: 25229 \n",
      "Precision: 0.8532 \n",
      "Recall: 0.5279 \n",
      "Specificity: 0.5985\n",
      "Accuracy: 0.5409 \n",
      "Fraction of clean samples/selected samples: 0.8532\n",
      "Files already downloaded and verified\n",
      "##############\n",
      "[3 2 1 1 3 0 0 7 6 5]\n",
      "[3 2 1 1 3 2 2 7 6 5]\n",
      "Train: 50000 Val: 0\n"
     ]
    },
    {
     "name": "stderr",
     "output_type": "stream",
     "text": [
      "100%|██████████| 500/500 [00:22<00:00, 40.86it/s]\n",
      "100%|██████████| 500/500 [00:03<00:00, 157.75it/s]\n"
     ]
    },
    {
     "name": "stdout",
     "output_type": "stream",
     "text": [
      "Noisy: 9226, Clean: 40774\n",
      "Selected samples: 25198 \n",
      "Precision: 0.841 \n",
      "Recall: 0.5197 \n",
      "Specificity: 0.5658\n",
      "Accuracy: 0.5282 \n",
      "Fraction of clean samples/selected samples: 0.841\n",
      "Files already downloaded and verified\n",
      "##############\n",
      "[3 2 1 1 3 0 2 7 6 5]\n",
      "[3 2 1 1 3 2 2 7 6 5]\n",
      "Train: 50000 Val: 0\n"
     ]
    },
    {
     "name": "stderr",
     "output_type": "stream",
     "text": [
      "100%|██████████| 500/500 [00:22<00:00, 22.37it/s]\n",
      "100%|██████████| 500/500 [00:03<00:00, 154.89it/s]\n"
     ]
    },
    {
     "name": "stdout",
     "output_type": "stream",
     "text": [
      "Noisy: 4786, Clean: 45214\n",
      "Selected samples: 33597 \n",
      "Precision: 0.9674 \n",
      "Recall: 0.7188 \n",
      "Specificity: 0.771\n",
      "Accuracy: 0.7238 \n",
      "Fraction of clean samples/selected samples: 0.9674\n",
      "Files already downloaded and verified\n",
      "##############\n",
      "[3 2 1 1 3 0 2 7 6 5]\n",
      "[3 2 1 1 3 2 2 7 6 5]\n",
      "Train: 50000 Val: 0\n"
     ]
    },
    {
     "name": "stderr",
     "output_type": "stream",
     "text": [
      "100%|██████████| 500/500 [00:22<00:00, 22.27it/s]\n",
      "100%|██████████| 500/500 [00:03<00:00, 159.72it/s]\n"
     ]
    },
    {
     "name": "stdout",
     "output_type": "stream",
     "text": [
      "Noisy: 7020, Clean: 42980\n",
      "Selected samples: 29682 \n",
      "Precision: 0.9801 \n",
      "Recall: 0.6768 \n",
      "Specificity: 0.9157\n",
      "Accuracy: 0.7104 \n",
      "Fraction of clean samples/selected samples: 0.9801\n",
      "Files already downloaded and verified\n",
      "##############\n",
      "[3 2 1 1 3 2 2 7 6 5]\n",
      "[3 2 1 1 3 2 2 7 6 5]\n",
      "Train: 50000 Val: 0\n"
     ]
    },
    {
     "name": "stderr",
     "output_type": "stream",
     "text": [
      "100%|██████████| 500/500 [00:23<00:00, 40.10it/s]\n",
      "100%|██████████| 500/500 [00:03<00:00, 152.16it/s]"
     ]
    },
    {
     "name": "stdout",
     "output_type": "stream",
     "text": [
      "Noisy: 2458, Clean: 47542\n",
      "Selected samples: 31404 \n",
      "Precision: 0.9839 \n",
      "Recall: 0.6499 \n",
      "Specificity: 0.7941\n",
      "Accuracy: 0.657 \n",
      "Fraction of clean samples/selected samples: 0.9839\n"
     ]
    },
    {
     "name": "stderr",
     "output_type": "stream",
     "text": [
      "\n"
     ]
    },
    {
     "data": {
      "text/html": [
       "<div>\n",
       "<style scoped>\n",
       "    .dataframe tbody tr th:only-of-type {\n",
       "        vertical-align: middle;\n",
       "    }\n",
       "\n",
       "    .dataframe tbody tr th {\n",
       "        vertical-align: top;\n",
       "    }\n",
       "\n",
       "    .dataframe thead th {\n",
       "        text-align: right;\n",
       "    }\n",
       "</style>\n",
       "<table border=\"1\" class=\"dataframe\">\n",
       "  <thead>\n",
       "    <tr style=\"text-align: right;\">\n",
       "      <th></th>\n",
       "      <th>noisetype</th>\n",
       "      <th>noiserate</th>\n",
       "      <th>lossfunction</th>\n",
       "      <th>selected</th>\n",
       "      <th>precision</th>\n",
       "      <th>recall</th>\n",
       "      <th>specificity</th>\n",
       "      <th>accuracy</th>\n",
       "    </tr>\n",
       "  </thead>\n",
       "  <tbody>\n",
       "    <tr>\n",
       "      <th>0</th>\n",
       "      <td>True</td>\n",
       "      <td>0.4</td>\n",
       "      <td>sce</td>\n",
       "      <td>39673.0</td>\n",
       "      <td>0.9515</td>\n",
       "      <td>0.9258</td>\n",
       "      <td>0.7915</td>\n",
       "      <td>0.9010</td>\n",
       "    </tr>\n",
       "    <tr>\n",
       "      <th>1</th>\n",
       "      <td>False</td>\n",
       "      <td>0.8</td>\n",
       "      <td>elr</td>\n",
       "      <td>21349.0</td>\n",
       "      <td>0.5865</td>\n",
       "      <td>0.8967</td>\n",
       "      <td>0.7551</td>\n",
       "      <td>0.7946</td>\n",
       "    </tr>\n",
       "    <tr>\n",
       "      <th>2</th>\n",
       "      <td>True</td>\n",
       "      <td>0.1</td>\n",
       "      <td>gce</td>\n",
       "      <td>46524.0</td>\n",
       "      <td>0.9956</td>\n",
       "      <td>0.9743</td>\n",
       "      <td>0.9166</td>\n",
       "      <td>0.9714</td>\n",
       "    </tr>\n",
       "    <tr>\n",
       "      <th>3</th>\n",
       "      <td>False</td>\n",
       "      <td>0.2</td>\n",
       "      <td>elr</td>\n",
       "      <td>39801.0</td>\n",
       "      <td>0.9949</td>\n",
       "      <td>0.9659</td>\n",
       "      <td>0.9773</td>\n",
       "      <td>0.9680</td>\n",
       "    </tr>\n",
       "    <tr>\n",
       "      <th>4</th>\n",
       "      <td>False</td>\n",
       "      <td>0.8</td>\n",
       "      <td>gce</td>\n",
       "      <td>13484.0</td>\n",
       "      <td>0.8730</td>\n",
       "      <td>0.8430</td>\n",
       "      <td>0.9525</td>\n",
       "      <td>0.9219</td>\n",
       "    </tr>\n",
       "    <tr>\n",
       "      <th>5</th>\n",
       "      <td>False</td>\n",
       "      <td>0.4</td>\n",
       "      <td>gce</td>\n",
       "      <td>31321.0</td>\n",
       "      <td>0.9807</td>\n",
       "      <td>0.9592</td>\n",
       "      <td>0.9664</td>\n",
       "      <td>0.9618</td>\n",
       "    </tr>\n",
       "    <tr>\n",
       "      <th>6</th>\n",
       "      <td>False</td>\n",
       "      <td>0.6</td>\n",
       "      <td>sce</td>\n",
       "      <td>17818.0</td>\n",
       "      <td>0.9778</td>\n",
       "      <td>0.7589</td>\n",
       "      <td>0.9854</td>\n",
       "      <td>0.8814</td>\n",
       "    </tr>\n",
       "    <tr>\n",
       "      <th>7</th>\n",
       "      <td>False</td>\n",
       "      <td>0.2</td>\n",
       "      <td>sce</td>\n",
       "      <td>28369.0</td>\n",
       "      <td>0.9898</td>\n",
       "      <td>0.6850</td>\n",
       "      <td>0.9678</td>\n",
       "      <td>0.7359</td>\n",
       "    </tr>\n",
       "    <tr>\n",
       "      <th>8</th>\n",
       "      <td>True</td>\n",
       "      <td>0.3</td>\n",
       "      <td>sce</td>\n",
       "      <td>24739.0</td>\n",
       "      <td>0.9340</td>\n",
       "      <td>0.5376</td>\n",
       "      <td>0.7675</td>\n",
       "      <td>0.5699</td>\n",
       "    </tr>\n",
       "    <tr>\n",
       "      <th>9</th>\n",
       "      <td>False</td>\n",
       "      <td>0.6</td>\n",
       "      <td>cce</td>\n",
       "      <td>15661.0</td>\n",
       "      <td>0.9812</td>\n",
       "      <td>0.6693</td>\n",
       "      <td>0.9891</td>\n",
       "      <td>0.8423</td>\n",
       "    </tr>\n",
       "    <tr>\n",
       "      <th>10</th>\n",
       "      <td>False</td>\n",
       "      <td>0.8</td>\n",
       "      <td>sce</td>\n",
       "      <td>14694.0</td>\n",
       "      <td>0.6140</td>\n",
       "      <td>0.6461</td>\n",
       "      <td>0.8426</td>\n",
       "      <td>0.7877</td>\n",
       "    </tr>\n",
       "    <tr>\n",
       "      <th>11</th>\n",
       "      <td>False</td>\n",
       "      <td>0.8</td>\n",
       "      <td>cce</td>\n",
       "      <td>14921.0</td>\n",
       "      <td>0.5786</td>\n",
       "      <td>0.6182</td>\n",
       "      <td>0.8255</td>\n",
       "      <td>0.7676</td>\n",
       "    </tr>\n",
       "    <tr>\n",
       "      <th>12</th>\n",
       "      <td>True</td>\n",
       "      <td>0.3</td>\n",
       "      <td>gce</td>\n",
       "      <td>28998.0</td>\n",
       "      <td>0.9378</td>\n",
       "      <td>0.6327</td>\n",
       "      <td>0.7432</td>\n",
       "      <td>0.6482</td>\n",
       "    </tr>\n",
       "    <tr>\n",
       "      <th>13</th>\n",
       "      <td>False</td>\n",
       "      <td>0.2</td>\n",
       "      <td>gce</td>\n",
       "      <td>37294.0</td>\n",
       "      <td>0.9867</td>\n",
       "      <td>0.8977</td>\n",
       "      <td>0.9450</td>\n",
       "      <td>0.9062</td>\n",
       "    </tr>\n",
       "    <tr>\n",
       "      <th>14</th>\n",
       "      <td>True</td>\n",
       "      <td>0.2</td>\n",
       "      <td>elr</td>\n",
       "      <td>35236.0</td>\n",
       "      <td>0.9968</td>\n",
       "      <td>0.7768</td>\n",
       "      <td>0.9766</td>\n",
       "      <td>0.7960</td>\n",
       "    </tr>\n",
       "    <tr>\n",
       "      <th>15</th>\n",
       "      <td>False</td>\n",
       "      <td>0.6</td>\n",
       "      <td>elr</td>\n",
       "      <td>17842.0</td>\n",
       "      <td>0.9921</td>\n",
       "      <td>0.7710</td>\n",
       "      <td>0.9948</td>\n",
       "      <td>0.8920</td>\n",
       "    </tr>\n",
       "    <tr>\n",
       "      <th>16</th>\n",
       "      <td>False</td>\n",
       "      <td>0.4</td>\n",
       "      <td>cce</td>\n",
       "      <td>25938.0</td>\n",
       "      <td>0.9894</td>\n",
       "      <td>0.8013</td>\n",
       "      <td>0.9846</td>\n",
       "      <td>0.8672</td>\n",
       "    </tr>\n",
       "    <tr>\n",
       "      <th>17</th>\n",
       "      <td>True</td>\n",
       "      <td>0.1</td>\n",
       "      <td>elr</td>\n",
       "      <td>32084.0</td>\n",
       "      <td>0.9934</td>\n",
       "      <td>0.6704</td>\n",
       "      <td>0.9133</td>\n",
       "      <td>0.6823</td>\n",
       "    </tr>\n",
       "    <tr>\n",
       "      <th>18</th>\n",
       "      <td>True</td>\n",
       "      <td>0.3</td>\n",
       "      <td>cce</td>\n",
       "      <td>27833.0</td>\n",
       "      <td>0.9237</td>\n",
       "      <td>0.5982</td>\n",
       "      <td>0.6974</td>\n",
       "      <td>0.6121</td>\n",
       "    </tr>\n",
       "    <tr>\n",
       "      <th>19</th>\n",
       "      <td>True</td>\n",
       "      <td>0.2</td>\n",
       "      <td>sce</td>\n",
       "      <td>27819.0</td>\n",
       "      <td>0.9835</td>\n",
       "      <td>0.6051</td>\n",
       "      <td>0.9039</td>\n",
       "      <td>0.6337</td>\n",
       "    </tr>\n",
       "    <tr>\n",
       "      <th>20</th>\n",
       "      <td>False</td>\n",
       "      <td>0.6</td>\n",
       "      <td>gce</td>\n",
       "      <td>21397.0</td>\n",
       "      <td>0.9534</td>\n",
       "      <td>0.8885</td>\n",
       "      <td>0.9631</td>\n",
       "      <td>0.9288</td>\n",
       "    </tr>\n",
       "    <tr>\n",
       "      <th>21</th>\n",
       "      <td>True</td>\n",
       "      <td>0.1</td>\n",
       "      <td>sce</td>\n",
       "      <td>29794.0</td>\n",
       "      <td>0.9886</td>\n",
       "      <td>0.6196</td>\n",
       "      <td>0.8621</td>\n",
       "      <td>0.6315</td>\n",
       "    </tr>\n",
       "    <tr>\n",
       "      <th>22</th>\n",
       "      <td>False</td>\n",
       "      <td>0.2</td>\n",
       "      <td>cce</td>\n",
       "      <td>29630.0</td>\n",
       "      <td>0.9937</td>\n",
       "      <td>0.7182</td>\n",
       "      <td>0.9792</td>\n",
       "      <td>0.7652</td>\n",
       "    </tr>\n",
       "    <tr>\n",
       "      <th>23</th>\n",
       "      <td>False</td>\n",
       "      <td>0.4</td>\n",
       "      <td>elr</td>\n",
       "      <td>27880.0</td>\n",
       "      <td>0.9956</td>\n",
       "      <td>0.8668</td>\n",
       "      <td>0.9932</td>\n",
       "      <td>0.9122</td>\n",
       "    </tr>\n",
       "    <tr>\n",
       "      <th>24</th>\n",
       "      <td>True</td>\n",
       "      <td>0.2</td>\n",
       "      <td>cce</td>\n",
       "      <td>32413.0</td>\n",
       "      <td>0.9647</td>\n",
       "      <td>0.6916</td>\n",
       "      <td>0.7610</td>\n",
       "      <td>0.6982</td>\n",
       "    </tr>\n",
       "    <tr>\n",
       "      <th>25</th>\n",
       "      <td>False</td>\n",
       "      <td>0.4</td>\n",
       "      <td>sce</td>\n",
       "      <td>24642.0</td>\n",
       "      <td>0.9900</td>\n",
       "      <td>0.7618</td>\n",
       "      <td>0.9863</td>\n",
       "      <td>0.8425</td>\n",
       "    </tr>\n",
       "    <tr>\n",
       "      <th>26</th>\n",
       "      <td>True</td>\n",
       "      <td>0.4</td>\n",
       "      <td>elr</td>\n",
       "      <td>28778.0</td>\n",
       "      <td>0.9153</td>\n",
       "      <td>0.6460</td>\n",
       "      <td>0.7357</td>\n",
       "      <td>0.6626</td>\n",
       "    </tr>\n",
       "    <tr>\n",
       "      <th>27</th>\n",
       "      <td>True</td>\n",
       "      <td>0.4</td>\n",
       "      <td>gce</td>\n",
       "      <td>25229.0</td>\n",
       "      <td>0.8532</td>\n",
       "      <td>0.5279</td>\n",
       "      <td>0.5985</td>\n",
       "      <td>0.5409</td>\n",
       "    </tr>\n",
       "    <tr>\n",
       "      <th>28</th>\n",
       "      <td>True</td>\n",
       "      <td>0.4</td>\n",
       "      <td>cce</td>\n",
       "      <td>25198.0</td>\n",
       "      <td>0.8410</td>\n",
       "      <td>0.5197</td>\n",
       "      <td>0.5658</td>\n",
       "      <td>0.5282</td>\n",
       "    </tr>\n",
       "    <tr>\n",
       "      <th>29</th>\n",
       "      <td>True</td>\n",
       "      <td>0.2</td>\n",
       "      <td>gce</td>\n",
       "      <td>33597.0</td>\n",
       "      <td>0.9674</td>\n",
       "      <td>0.7188</td>\n",
       "      <td>0.7710</td>\n",
       "      <td>0.7238</td>\n",
       "    </tr>\n",
       "    <tr>\n",
       "      <th>30</th>\n",
       "      <td>True</td>\n",
       "      <td>0.3</td>\n",
       "      <td>elr</td>\n",
       "      <td>29682.0</td>\n",
       "      <td>0.9801</td>\n",
       "      <td>0.6768</td>\n",
       "      <td>0.9157</td>\n",
       "      <td>0.7104</td>\n",
       "    </tr>\n",
       "    <tr>\n",
       "      <th>31</th>\n",
       "      <td>True</td>\n",
       "      <td>0.1</td>\n",
       "      <td>cce</td>\n",
       "      <td>31404.0</td>\n",
       "      <td>0.9839</td>\n",
       "      <td>0.6499</td>\n",
       "      <td>0.7941</td>\n",
       "      <td>0.6570</td>\n",
       "    </tr>\n",
       "  </tbody>\n",
       "</table>\n",
       "</div>"
      ],
      "text/plain": [
       "   noisetype noiserate lossfunction  selected  precision  recall  specificity  \\\n",
       "0       True       0.4          sce   39673.0     0.9515  0.9258       0.7915   \n",
       "1      False       0.8          elr   21349.0     0.5865  0.8967       0.7551   \n",
       "2       True       0.1          gce   46524.0     0.9956  0.9743       0.9166   \n",
       "3      False       0.2          elr   39801.0     0.9949  0.9659       0.9773   \n",
       "4      False       0.8          gce   13484.0     0.8730  0.8430       0.9525   \n",
       "5      False       0.4          gce   31321.0     0.9807  0.9592       0.9664   \n",
       "6      False       0.6          sce   17818.0     0.9778  0.7589       0.9854   \n",
       "7      False       0.2          sce   28369.0     0.9898  0.6850       0.9678   \n",
       "8       True       0.3          sce   24739.0     0.9340  0.5376       0.7675   \n",
       "9      False       0.6          cce   15661.0     0.9812  0.6693       0.9891   \n",
       "10     False       0.8          sce   14694.0     0.6140  0.6461       0.8426   \n",
       "11     False       0.8          cce   14921.0     0.5786  0.6182       0.8255   \n",
       "12      True       0.3          gce   28998.0     0.9378  0.6327       0.7432   \n",
       "13     False       0.2          gce   37294.0     0.9867  0.8977       0.9450   \n",
       "14      True       0.2          elr   35236.0     0.9968  0.7768       0.9766   \n",
       "15     False       0.6          elr   17842.0     0.9921  0.7710       0.9948   \n",
       "16     False       0.4          cce   25938.0     0.9894  0.8013       0.9846   \n",
       "17      True       0.1          elr   32084.0     0.9934  0.6704       0.9133   \n",
       "18      True       0.3          cce   27833.0     0.9237  0.5982       0.6974   \n",
       "19      True       0.2          sce   27819.0     0.9835  0.6051       0.9039   \n",
       "20     False       0.6          gce   21397.0     0.9534  0.8885       0.9631   \n",
       "21      True       0.1          sce   29794.0     0.9886  0.6196       0.8621   \n",
       "22     False       0.2          cce   29630.0     0.9937  0.7182       0.9792   \n",
       "23     False       0.4          elr   27880.0     0.9956  0.8668       0.9932   \n",
       "24      True       0.2          cce   32413.0     0.9647  0.6916       0.7610   \n",
       "25     False       0.4          sce   24642.0     0.9900  0.7618       0.9863   \n",
       "26      True       0.4          elr   28778.0     0.9153  0.6460       0.7357   \n",
       "27      True       0.4          gce   25229.0     0.8532  0.5279       0.5985   \n",
       "28      True       0.4          cce   25198.0     0.8410  0.5197       0.5658   \n",
       "29      True       0.2          gce   33597.0     0.9674  0.7188       0.7710   \n",
       "30      True       0.3          elr   29682.0     0.9801  0.6768       0.9157   \n",
       "31      True       0.1          cce   31404.0     0.9839  0.6499       0.7941   \n",
       "\n",
       "    accuracy  \n",
       "0     0.9010  \n",
       "1     0.7946  \n",
       "2     0.9714  \n",
       "3     0.9680  \n",
       "4     0.9219  \n",
       "5     0.9618  \n",
       "6     0.8814  \n",
       "7     0.7359  \n",
       "8     0.5699  \n",
       "9     0.8423  \n",
       "10    0.7877  \n",
       "11    0.7676  \n",
       "12    0.6482  \n",
       "13    0.9062  \n",
       "14    0.7960  \n",
       "15    0.8920  \n",
       "16    0.8672  \n",
       "17    0.6823  \n",
       "18    0.6121  \n",
       "19    0.6337  \n",
       "20    0.9288  \n",
       "21    0.6315  \n",
       "22    0.7652  \n",
       "23    0.9122  \n",
       "24    0.6982  \n",
       "25    0.8425  \n",
       "26    0.6626  \n",
       "27    0.5409  \n",
       "28    0.5282  \n",
       "29    0.7238  \n",
       "30    0.7104  \n",
       "31    0.6570  "
      ]
     },
     "execution_count": 8,
     "metadata": {},
     "output_type": "execute_result"
    }
   ],
   "source": [
    "make_pd_list(root = './checkpoint/rn34/', config=config, log_filename = 'c10_loss_pretrained_statistics.csv')"
   ]
  },
  {
   "cell_type": "code",
   "execution_count": null,
   "id": "confidential-complex",
   "metadata": {},
   "outputs": [],
   "source": []
  }
 ],
 "metadata": {
  "kernelspec": {
   "display_name": "Python 3",
   "language": "python",
   "name": "python3"
  },
  "language_info": {
   "codemirror_mode": {
    "name": "ipython",
    "version": 3
   },
   "file_extension": ".py",
   "mimetype": "text/x-python",
   "name": "python",
   "nbconvert_exporter": "python",
   "pygments_lexer": "ipython3",
   "version": "3.7.9"
  }
 },
 "nbformat": 4,
 "nbformat_minor": 5
}
