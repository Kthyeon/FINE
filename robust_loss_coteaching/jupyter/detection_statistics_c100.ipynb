{
 "cells": [
  {
   "cell_type": "code",
   "execution_count": 1,
   "id": "seeing-recording",
   "metadata": {},
   "outputs": [],
   "source": [
    "import os, sys\n",
    "os.chdir('../')"
   ]
  },
  {
   "cell_type": "code",
   "execution_count": 2,
   "id": "careful-carter",
   "metadata": {},
   "outputs": [],
   "source": [
    "import argparse\n",
    "import torch\n",
    "from tqdm import tqdm\n",
    "import data_loader.data_loaders as module_data\n",
    "import loss as module_loss\n",
    "import model.metric as module_metric\n",
    "import model.model as module_arch\n",
    "\n",
    "import easydict\n",
    "import torch.nn as nn\n",
    "import torch.nn.functional as F\n",
    "import sys\n",
    "import os\n",
    "import json\n",
    "import random\n",
    "import numpy as np\n",
    "import pandas as pd\n",
    "import seaborn as sns\n",
    "import matplotlib.pyplot as plt \n",
    "\n",
    "import data_loader.data_loaders as module_data\n",
    "import model.model as module_arch\n",
    "\n",
    "from selection.svd_classifier import *\n",
    "from selection.gmm import *\n",
    "from selection.util import *\n",
    "\n",
    "from utils.parse_config import ConfigParser\n",
    "from utils.util import *\n",
    "from utils.args import *"
   ]
  },
  {
   "cell_type": "code",
   "execution_count": 3,
   "id": "laughing-dealing",
   "metadata": {},
   "outputs": [],
   "source": [
    "config_file = './hyperparams/multistep/config_cifar100_cce_rn34.json'\n",
    "with open(config_file, 'r') as f:\n",
    "    config = json.load(f)\n",
    "\n",
    "# resume_path = './rn34/multistep_asym_40_elr.pth'"
   ]
  },
  {
   "cell_type": "code",
   "execution_count": 4,
   "id": "labeled-leone",
   "metadata": {},
   "outputs": [],
   "source": [
    "def decode(path):\n",
    "    items = path.split('_')\n",
    "    noisetype = True if items[2]=='asym' else False\n",
    "    noiserate = float(items[3]) * 0.01\n",
    "    \n",
    "    return noisetype, noiserate, items[4].split('.')[0]"
   ]
  },
  {
   "cell_type": "code",
   "execution_count": 5,
   "id": "technological-farming",
   "metadata": {},
   "outputs": [],
   "source": [
    "def make_parse(resume_path, config, noise_rate, noisetype):\n",
    "    parse = easydict.EasyDict({\n",
    "    \"load_name\" : resume_path,\n",
    "    \"reinit\": False,\n",
    "    \"distill_mode\": 'loss'\n",
    "    })\n",
    "    \n",
    "    config['trainer']['percent'] = noise_rate\n",
    "    config['trainer']['asym'] = noisetype\n",
    "    \n",
    "    return parse, config"
   ]
  },
  {
   "cell_type": "code",
   "execution_count": 6,
   "id": "economic-franklin",
   "metadata": {},
   "outputs": [],
   "source": [
    "def extract_cleanidx(teacher, data_loader, parse, print_statistics = True):\n",
    "    teacher.load_state_dict(torch.load('./checkpoint/' + parse.load_name)['state_dict'])\n",
    "    teacher = teacher.cuda()\n",
    "\n",
    "    if not parse.reinit: teacher.load_state_dict(torch.load('./checkpoint/' + parse.load_name)['state_dict'])\n",
    "    for params in teacher.parameters(): params.requires_grad = False\n",
    "    \n",
    "    if 'fine' in parse.distill_mode:\n",
    "        features, labels = get_features(teacher, data_loader)\n",
    "        clean_labels = fine(current_features=features, current_labels=labels, fit = parse.distill_mode)\n",
    "    elif 'loss' in parse.distill_mode:\n",
    "        clean_labels, labels = cleansing_loss(teacher, data_loader)\n",
    "    else:\n",
    "        raise NotImplemented \n",
    "    if print_statistics: \n",
    "        selected, precision, recall, specificity, accuracy = return_statistics(data_loader, clean_labels, datanum=len(labels))\n",
    "    \n",
    "    return selected, precision, recall, specificity, accuracy"
   ]
  },
  {
   "cell_type": "code",
   "execution_count": 7,
   "id": "third-istanbul",
   "metadata": {},
   "outputs": [],
   "source": [
    "def make_pd_list(root, config, log_filename):\n",
    "    random.seed(config['seed'])\n",
    "    torch.manual_seed(config['seed'])\n",
    "    torch.cuda.manual_seed_all(config['seed'])\n",
    "    torch.backends.cudnn.deterministic = True\n",
    "    np.random.seed(config['seed'])\n",
    "    \n",
    "    # load checkpoint path\n",
    "    pathlist = os.listdir(root)\n",
    "    pathlist = [path for path in pathlist if 'c100' in path]\n",
    "#     pathlist = [path for path in pathlist if ('.pth' in path) and ('eigen' not in path) and ('kmeans' not in path) and ('c100') not in path]\n",
    "    \n",
    "    # initialize model\n",
    "    model = module_arch.resnet34(num_classes=100)\n",
    "    \n",
    "    # make pandas file\n",
    "    logcolumns = ['noisetype', 'noiserate', 'lossfunction', 'selected', 'precision', 'recall', 'specificity', 'accuracy']\n",
    "    log_pd = pd.DataFrame(np.zeros([len(pathlist), len(logcolumns)]), columns = logcolumns)\n",
    "    \n",
    "    # write pandas file\n",
    "    noisetypelst = ['']\n",
    "    for i in range(len(pathlist)):\n",
    "        noisetype, noiserate, lossfunction = decode(pathlist[i])\n",
    "        parse, config = make_parse('./rn34/' + pathlist[i], config, noiserate, noisetype)\n",
    "        \n",
    "        # load original dataloader\n",
    "        data_loader = getattr(module_data, config['data_loader']['type'])(\n",
    "        config['data_loader']['args']['data_dir'],\n",
    "        batch_size= 100,\n",
    "        shuffle=False,\n",
    "        validation_split=0.0,\n",
    "        num_batches=config['data_loader']['args']['num_batches'],\n",
    "        training=True,\n",
    "        num_workers=config['data_loader']['args']['num_workers'],\n",
    "        pin_memory=config['data_loader']['args']['pin_memory'],\n",
    "        config=config)\n",
    "        \n",
    "        selected, precision, recall, specificity, accuracy = extract_cleanidx(model, data_loader, parse)\n",
    "        log_pd.loc[i] = [str(noisetype), str(noiserate), lossfunction, selected, precision, recall, specificity, accuracy]\n",
    "        log_pd.to_csv(log_filename)\n",
    "        \n",
    "    return log_pd"
   ]
  },
  {
   "cell_type": "code",
   "execution_count": 8,
   "id": "advance-romania",
   "metadata": {},
   "outputs": [
    {
     "name": "stdout",
     "output_type": "stream",
     "text": [
      "Files already downloaded and verified\n",
      "Train: 50000 Val: 0\n"
     ]
    },
    {
     "name": "stderr",
     "output_type": "stream",
     "text": [
      "100%|██████████| 500/500 [00:20<00:00, 23.86it/s]\n",
      "100%|██████████| 500/500 [00:03<00:00, 147.33it/s]\n"
     ]
    },
    {
     "name": "stdout",
     "output_type": "stream",
     "text": [
      "Noisy: 9993, Clean: 40007\n",
      "Selected samples: 39490 \n",
      "Precision: 0.9473 \n",
      "Recall: 0.935 \n",
      "Specificity: 0.7917\n",
      "Accuracy: 0.9064 \n",
      "Fraction of clean samples/selected samples: 0.9473\n",
      "Files already downloaded and verified\n",
      "Train: 50000 Val: 0\n"
     ]
    },
    {
     "name": "stderr",
     "output_type": "stream",
     "text": [
      "100%|██████████| 500/500 [00:22<00:00, 19.41it/s]\n",
      "100%|██████████| 500/500 [00:03<00:00, 146.66it/s]\n"
     ]
    },
    {
     "name": "stdout",
     "output_type": "stream",
     "text": [
      "Noisy: 9993, Clean: 40007\n",
      "Selected samples: 40097 \n",
      "Precision: 0.9176 \n",
      "Recall: 0.9197 \n",
      "Specificity: 0.6696\n",
      "Accuracy: 0.8697 \n",
      "Fraction of clean samples/selected samples: 0.9176\n",
      "Files already downloaded and verified\n",
      "Train: 50000 Val: 0\n"
     ]
    },
    {
     "name": "stderr",
     "output_type": "stream",
     "text": [
      "100%|██████████| 500/500 [00:21<00:00, 23.73it/s]\n",
      "100%|██████████| 500/500 [00:03<00:00, 149.10it/s]\n"
     ]
    },
    {
     "name": "stdout",
     "output_type": "stream",
     "text": [
      "Noisy: 9905, Clean: 40095\n",
      "Selected samples: 48418 \n",
      "Precision: 0.8261 \n",
      "Recall: 0.9976 \n",
      "Specificity: 0.1498\n",
      "Accuracy: 0.8296 \n",
      "Fraction of clean samples/selected samples: 0.8261\n",
      "Files already downloaded and verified\n",
      "Train: 50000 Val: 0\n"
     ]
    },
    {
     "name": "stderr",
     "output_type": "stream",
     "text": [
      "100%|██████████| 500/500 [00:22<00:00, 19.39it/s]\n",
      "100%|██████████| 500/500 [00:03<00:00, 148.68it/s]\n"
     ]
    },
    {
     "name": "stdout",
     "output_type": "stream",
     "text": [
      "Noisy: 14857, Clean: 35143\n",
      "Selected samples: 37514 \n",
      "Precision: 0.8889 \n",
      "Recall: 0.9489 \n",
      "Specificity: 0.7196\n",
      "Accuracy: 0.8808 \n",
      "Fraction of clean samples/selected samples: 0.8889\n",
      "Files already downloaded and verified\n"
     ]
    },
    {
     "name": "stderr",
     "output_type": "stream",
     "text": [
      "  0%|          | 0/500 [00:00<?, ?it/s]"
     ]
    },
    {
     "name": "stdout",
     "output_type": "stream",
     "text": [
      "Train: 50000 Val: 0\n"
     ]
    },
    {
     "name": "stderr",
     "output_type": "stream",
     "text": [
      "100%|██████████| 500/500 [00:23<00:00, 21.20it/s]\n",
      "100%|██████████| 500/500 [00:03<00:00, 148.04it/s]\n"
     ]
    },
    {
     "name": "stdout",
     "output_type": "stream",
     "text": [
      "Noisy: 19856, Clean: 30144\n",
      "Selected samples: 37394 \n",
      "Precision: 0.6437 \n",
      "Recall: 0.7985 \n",
      "Specificity: 0.329\n",
      "Accuracy: 0.612 \n",
      "Fraction of clean samples/selected samples: 0.6437\n",
      "Files already downloaded and verified\n"
     ]
    },
    {
     "name": "stderr",
     "output_type": "stream",
     "text": [
      "  0%|          | 0/500 [00:00<?, ?it/s]"
     ]
    },
    {
     "name": "stdout",
     "output_type": "stream",
     "text": [
      "Train: 50000 Val: 0\n"
     ]
    },
    {
     "name": "stderr",
     "output_type": "stream",
     "text": [
      "100%|██████████| 500/500 [00:24<00:00, 19.39it/s]\n",
      "100%|██████████| 500/500 [00:03<00:00, 137.35it/s]\n"
     ]
    },
    {
     "name": "stdout",
     "output_type": "stream",
     "text": [
      "Noisy: 14857, Clean: 35143\n",
      "Selected samples: 37479 \n",
      "Precision: 0.8188 \n",
      "Recall: 0.8732 \n",
      "Specificity: 0.5428\n",
      "Accuracy: 0.775 \n",
      "Fraction of clean samples/selected samples: 0.8188\n",
      "Files already downloaded and verified\n"
     ]
    },
    {
     "name": "stderr",
     "output_type": "stream",
     "text": [
      "  0%|          | 0/500 [00:00<?, ?it/s]"
     ]
    },
    {
     "name": "stdout",
     "output_type": "stream",
     "text": [
      "Train: 50000 Val: 0\n"
     ]
    },
    {
     "name": "stderr",
     "output_type": "stream",
     "text": [
      "100%|██████████| 500/500 [00:24<00:00, 19.38it/s]\n",
      "100%|██████████| 500/500 [00:03<00:00, 136.56it/s]\n"
     ]
    },
    {
     "name": "stdout",
     "output_type": "stream",
     "text": [
      "Noisy: 19856, Clean: 30144\n",
      "Selected samples: 37831 \n",
      "Precision: 0.721 \n",
      "Recall: 0.9049 \n",
      "Specificity: 0.4685\n",
      "Accuracy: 0.7316 \n",
      "Fraction of clean samples/selected samples: 0.721\n",
      "Files already downloaded and verified\n"
     ]
    },
    {
     "name": "stderr",
     "output_type": "stream",
     "text": [
      "  0%|          | 0/500 [00:00<?, ?it/s]"
     ]
    },
    {
     "name": "stdout",
     "output_type": "stream",
     "text": [
      "Train: 50000 Val: 0\n"
     ]
    },
    {
     "name": "stderr",
     "output_type": "stream",
     "text": [
      "100%|██████████| 500/500 [00:23<00:00, 21.04it/s]\n",
      "100%|██████████| 500/500 [00:03<00:00, 154.51it/s]\n"
     ]
    },
    {
     "name": "stdout",
     "output_type": "stream",
     "text": [
      "Noisy: 29703, Clean: 20297\n",
      "Selected samples: 23634 \n",
      "Precision: 0.7678 \n",
      "Recall: 0.894 \n",
      "Specificity: 0.8152\n",
      "Accuracy: 0.8472 \n",
      "Fraction of clean samples/selected samples: 0.7678\n",
      "Files already downloaded and verified\n",
      "Train: 50000 Val: 0\n"
     ]
    },
    {
     "name": "stderr",
     "output_type": "stream",
     "text": [
      "100%|██████████| 500/500 [00:23<00:00, 19.37it/s]\n",
      "100%|██████████| 500/500 [00:03<00:00, 150.95it/s]\n"
     ]
    },
    {
     "name": "stdout",
     "output_type": "stream",
     "text": [
      "Noisy: 39597, Clean: 10403\n",
      "Selected samples: 18675 \n",
      "Precision: 0.4848 \n",
      "Recall: 0.8702 \n",
      "Specificity: 0.757\n",
      "Accuracy: 0.7806 \n",
      "Fraction of clean samples/selected samples: 0.4848\n",
      "Files already downloaded and verified\n"
     ]
    },
    {
     "name": "stderr",
     "output_type": "stream",
     "text": [
      "  0%|          | 0/500 [00:00<?, ?it/s]"
     ]
    },
    {
     "name": "stdout",
     "output_type": "stream",
     "text": [
      "Train: 50000 Val: 0\n"
     ]
    },
    {
     "name": "stderr",
     "output_type": "stream",
     "text": [
      "100%|██████████| 500/500 [00:23<00:00, 21.17it/s]\n",
      "100%|██████████| 500/500 [00:03<00:00, 147.55it/s]\n"
     ]
    },
    {
     "name": "stdout",
     "output_type": "stream",
     "text": [
      "Noisy: 4969, Clean: 45031\n",
      "Selected samples: 41410 \n",
      "Precision: 0.9974 \n",
      "Recall: 0.9172 \n",
      "Specificity: 0.9787\n",
      "Accuracy: 0.9233 \n",
      "Fraction of clean samples/selected samples: 0.9974\n",
      "Files already downloaded and verified\n"
     ]
    },
    {
     "name": "stderr",
     "output_type": "stream",
     "text": [
      "  0%|          | 0/500 [00:00<?, ?it/s]"
     ]
    },
    {
     "name": "stdout",
     "output_type": "stream",
     "text": [
      "Train: 50000 Val: 0\n"
     ]
    },
    {
     "name": "stderr",
     "output_type": "stream",
     "text": [
      "100%|██████████| 500/500 [00:23<00:00, 21.54it/s]\n",
      "100%|██████████| 500/500 [00:03<00:00, 140.85it/s]\n"
     ]
    },
    {
     "name": "stdout",
     "output_type": "stream",
     "text": [
      "Noisy: 29703, Clean: 20297\n",
      "Selected samples: 15902 \n",
      "Precision: 0.9496 \n",
      "Recall: 0.744 \n",
      "Specificity: 0.973\n",
      "Accuracy: 0.88 \n",
      "Fraction of clean samples/selected samples: 0.9496\n",
      "Files already downloaded and verified\n"
     ]
    },
    {
     "name": "stderr",
     "output_type": "stream",
     "text": [
      "  0%|          | 0/500 [00:00<?, ?it/s]"
     ]
    },
    {
     "name": "stdout",
     "output_type": "stream",
     "text": [
      "Train: 50000 Val: 0\n"
     ]
    },
    {
     "name": "stderr",
     "output_type": "stream",
     "text": [
      "100%|██████████| 500/500 [00:22<00:00, 22.07it/s]\n",
      "100%|██████████| 500/500 [00:03<00:00, 150.19it/s]\n"
     ]
    },
    {
     "name": "stdout",
     "output_type": "stream",
     "text": [
      "Noisy: 19797, Clean: 30203\n",
      "Selected samples: 30073 \n",
      "Precision: 0.9518 \n",
      "Recall: 0.9477 \n",
      "Specificity: 0.9268\n",
      "Accuracy: 0.9394 \n",
      "Fraction of clean samples/selected samples: 0.9518\n",
      "Files already downloaded and verified\n"
     ]
    },
    {
     "name": "stderr",
     "output_type": "stream",
     "text": [
      "  0%|          | 0/500 [00:00<?, ?it/s]"
     ]
    },
    {
     "name": "stdout",
     "output_type": "stream",
     "text": [
      "Train: 50000 Val: 0\n"
     ]
    },
    {
     "name": "stderr",
     "output_type": "stream",
     "text": [
      "100%|██████████| 500/500 [00:23<00:00, 19.38it/s]\n",
      "100%|██████████| 500/500 [00:03<00:00, 145.48it/s]\n"
     ]
    },
    {
     "name": "stdout",
     "output_type": "stream",
     "text": [
      "Noisy: 4969, Clean: 45031\n",
      "Selected samples: 44258 \n",
      "Precision: 0.9892 \n",
      "Recall: 0.9723 \n",
      "Specificity: 0.9042\n",
      "Accuracy: 0.9655 \n",
      "Fraction of clean samples/selected samples: 0.9892\n",
      "Files already downloaded and verified\n",
      "Train: 50000 Val: 0\n"
     ]
    },
    {
     "name": "stderr",
     "output_type": "stream",
     "text": [
      "100%|██████████| 500/500 [00:23<00:00, 21.61it/s]\n",
      "100%|██████████| 500/500 [00:03<00:00, 149.59it/s]\n"
     ]
    },
    {
     "name": "stdout",
     "output_type": "stream",
     "text": [
      "Noisy: 19797, Clean: 30203\n",
      "Selected samples: 32053 \n",
      "Precision: 0.9144 \n",
      "Recall: 0.9704 \n",
      "Specificity: 0.8614\n",
      "Accuracy: 0.9273 \n",
      "Fraction of clean samples/selected samples: 0.9144\n",
      "Files already downloaded and verified\n"
     ]
    },
    {
     "name": "stderr",
     "output_type": "stream",
     "text": [
      "  0%|          | 0/500 [00:00<?, ?it/s]"
     ]
    },
    {
     "name": "stdout",
     "output_type": "stream",
     "text": [
      "Train: 50000 Val: 0\n"
     ]
    },
    {
     "name": "stderr",
     "output_type": "stream",
     "text": [
      "100%|██████████| 500/500 [00:23<00:00, 19.37it/s]\n",
      "100%|██████████| 500/500 [00:03<00:00, 138.91it/s]\n"
     ]
    },
    {
     "name": "stdout",
     "output_type": "stream",
     "text": [
      "Noisy: 14857, Clean: 35143\n",
      "Selected samples: 39001 \n",
      "Precision: 0.8183 \n",
      "Recall: 0.9081 \n",
      "Specificity: 0.523\n",
      "Accuracy: 0.7937 \n",
      "Fraction of clean samples/selected samples: 0.8183\n",
      "Files already downloaded and verified\n"
     ]
    },
    {
     "name": "stderr",
     "output_type": "stream",
     "text": [
      "  0%|          | 0/500 [00:00<?, ?it/s]"
     ]
    },
    {
     "name": "stdout",
     "output_type": "stream",
     "text": [
      "Train: 50000 Val: 0\n"
     ]
    },
    {
     "name": "stderr",
     "output_type": "stream",
     "text": [
      "100%|██████████| 500/500 [00:23<00:00, 19.38it/s]\n",
      "100%|██████████| 500/500 [00:03<00:00, 146.22it/s]\n"
     ]
    },
    {
     "name": "stdout",
     "output_type": "stream",
     "text": [
      "Noisy: 4969, Clean: 45031\n",
      "Selected samples: 44195 \n",
      "Precision: 0.9935 \n",
      "Recall: 0.9751 \n",
      "Specificity: 0.9424\n",
      "Accuracy: 0.9718 \n",
      "Fraction of clean samples/selected samples: 0.9935\n",
      "Files already downloaded and verified\n",
      "Train: 50000 Val: 0\n"
     ]
    },
    {
     "name": "stderr",
     "output_type": "stream",
     "text": [
      "100%|██████████| 500/500 [00:22<00:00, 21.75it/s]\n",
      "100%|██████████| 500/500 [00:03<00:00, 149.85it/s]\n"
     ]
    },
    {
     "name": "stdout",
     "output_type": "stream",
     "text": [
      "Noisy: 9905, Clean: 40095\n",
      "Selected samples: 40315 \n",
      "Precision: 0.9714 \n",
      "Recall: 0.9767 \n",
      "Specificity: 0.8834\n",
      "Accuracy: 0.9582 \n",
      "Fraction of clean samples/selected samples: 0.9714\n",
      "Files already downloaded and verified\n"
     ]
    },
    {
     "name": "stderr",
     "output_type": "stream",
     "text": [
      "  0%|          | 0/500 [00:00<?, ?it/s]"
     ]
    },
    {
     "name": "stdout",
     "output_type": "stream",
     "text": [
      "Train: 50000 Val: 0\n"
     ]
    },
    {
     "name": "stderr",
     "output_type": "stream",
     "text": [
      "100%|██████████| 500/500 [00:23<00:00, 21.15it/s]\n",
      "100%|██████████| 500/500 [00:03<00:00, 154.36it/s]\n"
     ]
    },
    {
     "name": "stdout",
     "output_type": "stream",
     "text": [
      "Noisy: 9993, Clean: 40007\n",
      "Selected samples: 39963 \n",
      "Precision: 0.9694 \n",
      "Recall: 0.9683 \n",
      "Specificity: 0.8776\n",
      "Accuracy: 0.9502 \n",
      "Fraction of clean samples/selected samples: 0.9694\n",
      "Files already downloaded and verified\n"
     ]
    },
    {
     "name": "stderr",
     "output_type": "stream",
     "text": [
      "  0%|          | 0/500 [00:00<?, ?it/s]"
     ]
    },
    {
     "name": "stdout",
     "output_type": "stream",
     "text": [
      "Train: 50000 Val: 0\n"
     ]
    },
    {
     "name": "stderr",
     "output_type": "stream",
     "text": [
      "100%|██████████| 500/500 [00:24<00:00, 20.75it/s]\n",
      "100%|██████████| 500/500 [00:03<00:00, 142.26it/s]\n"
     ]
    },
    {
     "name": "stdout",
     "output_type": "stream",
     "text": [
      "Noisy: 19856, Clean: 30144\n",
      "Selected samples: 42434 \n",
      "Precision: 0.6397 \n",
      "Recall: 0.9004 \n",
      "Specificity: 0.2299\n",
      "Accuracy: 0.6342 \n",
      "Fraction of clean samples/selected samples: 0.6397\n",
      "Files already downloaded and verified\n",
      "Train: 50000 Val: 0\n"
     ]
    },
    {
     "name": "stderr",
     "output_type": "stream",
     "text": [
      "100%|██████████| 500/500 [00:23<00:00, 19.37it/s]\n",
      "100%|██████████| 500/500 [00:03<00:00, 150.68it/s]\n"
     ]
    },
    {
     "name": "stdout",
     "output_type": "stream",
     "text": [
      "Noisy: 19797, Clean: 30203\n",
      "Selected samples: 26120 \n",
      "Precision: 0.9654 \n",
      "Recall: 0.8349 \n",
      "Specificity: 0.9544\n",
      "Accuracy: 0.8822 \n",
      "Fraction of clean samples/selected samples: 0.9654\n",
      "Files already downloaded and verified\n"
     ]
    },
    {
     "name": "stderr",
     "output_type": "stream",
     "text": [
      "  0%|          | 0/500 [00:00<?, ?it/s]"
     ]
    },
    {
     "name": "stdout",
     "output_type": "stream",
     "text": [
      "Train: 50000 Val: 0\n"
     ]
    },
    {
     "name": "stderr",
     "output_type": "stream",
     "text": [
      "100%|██████████| 500/500 [00:23<00:00, 21.69it/s]\n",
      "100%|██████████| 500/500 [00:03<00:00, 150.64it/s]\n"
     ]
    },
    {
     "name": "stdout",
     "output_type": "stream",
     "text": [
      "Noisy: 39597, Clean: 10403\n",
      "Selected samples: 10041 \n",
      "Precision: 0.6502 \n",
      "Recall: 0.6276 \n",
      "Specificity: 0.9113\n",
      "Accuracy: 0.8523 \n",
      "Fraction of clean samples/selected samples: 0.6502\n",
      "Files already downloaded and verified\n"
     ]
    },
    {
     "name": "stderr",
     "output_type": "stream",
     "text": [
      "  0%|          | 0/500 [00:00<?, ?it/s]"
     ]
    },
    {
     "name": "stdout",
     "output_type": "stream",
     "text": [
      "Train: 50000 Val: 0\n"
     ]
    },
    {
     "name": "stderr",
     "output_type": "stream",
     "text": [
      "100%|██████████| 500/500 [00:23<00:00, 21.24it/s]\n",
      "100%|██████████| 500/500 [00:03<00:00, 150.07it/s]\n"
     ]
    },
    {
     "name": "stdout",
     "output_type": "stream",
     "text": [
      "Noisy: 14857, Clean: 35143\n",
      "Selected samples: 32346 \n",
      "Precision: 0.9798 \n",
      "Recall: 0.9019 \n",
      "Specificity: 0.9561\n",
      "Accuracy: 0.918 \n",
      "Fraction of clean samples/selected samples: 0.9798\n",
      "Files already downloaded and verified\n"
     ]
    },
    {
     "name": "stderr",
     "output_type": "stream",
     "text": [
      "  0%|          | 0/500 [00:00<?, ?it/s]"
     ]
    },
    {
     "name": "stdout",
     "output_type": "stream",
     "text": [
      "Train: 50000 Val: 0\n"
     ]
    },
    {
     "name": "stderr",
     "output_type": "stream",
     "text": [
      "100%|██████████| 500/500 [00:23<00:00, 20.99it/s]\n",
      "100%|██████████| 500/500 [00:03<00:00, 150.50it/s]\n"
     ]
    },
    {
     "name": "stdout",
     "output_type": "stream",
     "text": [
      "Noisy: 19856, Clean: 30144\n",
      "Selected samples: 28077 \n",
      "Precision: 0.9499 \n",
      "Recall: 0.8848 \n",
      "Specificity: 0.9291\n",
      "Accuracy: 0.9024 \n",
      "Fraction of clean samples/selected samples: 0.9499\n",
      "Files already downloaded and verified\n",
      "Train: 50000 Val: 0\n"
     ]
    },
    {
     "name": "stderr",
     "output_type": "stream",
     "text": [
      "100%|██████████| 500/500 [00:23<00:00, 21.54it/s]\n",
      "100%|██████████| 500/500 [00:03<00:00, 152.38it/s]\n"
     ]
    },
    {
     "name": "stdout",
     "output_type": "stream",
     "text": [
      "Noisy: 29703, Clean: 20297\n",
      "Selected samples: 16364 \n",
      "Precision: 0.9282 \n",
      "Recall: 0.7483 \n",
      "Specificity: 0.9604\n",
      "Accuracy: 0.8743 \n",
      "Fraction of clean samples/selected samples: 0.9282\n",
      "Files already downloaded and verified\n",
      "Train: 50000 Val: 0\n"
     ]
    },
    {
     "name": "stderr",
     "output_type": "stream",
     "text": [
      "100%|██████████| 500/500 [00:22<00:00, 22.11it/s]\n",
      "100%|██████████| 500/500 [00:03<00:00, 153.04it/s]\n"
     ]
    },
    {
     "name": "stdout",
     "output_type": "stream",
     "text": [
      "Noisy: 19797, Clean: 30203\n",
      "Selected samples: 26860 \n",
      "Precision: 0.9783 \n",
      "Recall: 0.87 \n",
      "Specificity: 0.9706\n",
      "Accuracy: 0.9098 \n",
      "Fraction of clean samples/selected samples: 0.9783\n",
      "Files already downloaded and verified\n",
      "Train: 50000 Val: 0\n"
     ]
    },
    {
     "name": "stderr",
     "output_type": "stream",
     "text": [
      "100%|██████████| 500/500 [00:22<00:00, 22.23it/s]\n",
      "100%|██████████| 500/500 [00:03<00:00, 149.75it/s]\n"
     ]
    },
    {
     "name": "stdout",
     "output_type": "stream",
     "text": [
      "Noisy: 39597, Clean: 10403\n",
      "Selected samples: 8278 \n",
      "Precision: 0.6827 \n",
      "Recall: 0.5432 \n",
      "Specificity: 0.9337\n",
      "Accuracy: 0.8524 \n",
      "Fraction of clean samples/selected samples: 0.6827\n",
      "Files already downloaded and verified\n"
     ]
    },
    {
     "name": "stderr",
     "output_type": "stream",
     "text": [
      "  0%|          | 0/500 [00:00<?, ?it/s]"
     ]
    },
    {
     "name": "stdout",
     "output_type": "stream",
     "text": [
      "Train: 50000 Val: 0\n"
     ]
    },
    {
     "name": "stderr",
     "output_type": "stream",
     "text": [
      "100%|██████████| 500/500 [00:22<00:00, 22.16it/s]\n",
      "100%|██████████| 500/500 [00:03<00:00, 149.52it/s]\n"
     ]
    },
    {
     "name": "stdout",
     "output_type": "stream",
     "text": [
      "Noisy: 29703, Clean: 20297\n",
      "Selected samples: 24337 \n",
      "Precision: 0.7904 \n",
      "Recall: 0.9477 \n",
      "Specificity: 0.8283\n",
      "Accuracy: 0.8768 \n",
      "Fraction of clean samples/selected samples: 0.7904\n",
      "Files already downloaded and verified\n"
     ]
    },
    {
     "name": "stderr",
     "output_type": "stream",
     "text": [
      "  0%|          | 0/500 [00:00<?, ?it/s]"
     ]
    },
    {
     "name": "stdout",
     "output_type": "stream",
     "text": [
      "Train: 50000 Val: 0\n"
     ]
    },
    {
     "name": "stderr",
     "output_type": "stream",
     "text": [
      "100%|██████████| 500/500 [00:23<00:00, 21.09it/s]\n",
      "100%|██████████| 500/500 [00:03<00:00, 151.39it/s]\n"
     ]
    },
    {
     "name": "stdout",
     "output_type": "stream",
     "text": [
      "Noisy: 4969, Clean: 45031\n",
      "Selected samples: 44391 \n",
      "Precision: 0.9799 \n",
      "Recall: 0.966 \n",
      "Specificity: 0.8205\n",
      "Accuracy: 0.9515 \n",
      "Fraction of clean samples/selected samples: 0.9799\n",
      "Files already downloaded and verified\n"
     ]
    },
    {
     "name": "stderr",
     "output_type": "stream",
     "text": [
      "  0%|          | 0/500 [00:00<?, ?it/s]"
     ]
    },
    {
     "name": "stdout",
     "output_type": "stream",
     "text": [
      "Train: 50000 Val: 0\n"
     ]
    },
    {
     "name": "stderr",
     "output_type": "stream",
     "text": [
      "100%|██████████| 500/500 [00:12<00:00, 41.60it/s]\n",
      "100%|██████████| 500/500 [00:03<00:00, 163.23it/s]\n"
     ]
    },
    {
     "name": "stdout",
     "output_type": "stream",
     "text": [
      "Noisy: 9905, Clean: 40095\n",
      "Selected samples: 36048 \n",
      "Precision: 0.9954 \n",
      "Recall: 0.8949 \n",
      "Specificity: 0.9833\n",
      "Accuracy: 0.9125 \n",
      "Fraction of clean samples/selected samples: 0.9954\n",
      "Files already downloaded and verified\n"
     ]
    },
    {
     "name": "stderr",
     "output_type": "stream",
     "text": [
      "  0%|          | 0/500 [00:00<?, ?it/s]"
     ]
    },
    {
     "name": "stdout",
     "output_type": "stream",
     "text": [
      "Train: 50000 Val: 0\n"
     ]
    },
    {
     "name": "stderr",
     "output_type": "stream",
     "text": [
      "100%|██████████| 500/500 [00:12<00:00, 40.56it/s]\n",
      "100%|██████████| 500/500 [00:02<00:00, 167.33it/s]\n"
     ]
    },
    {
     "name": "stdout",
     "output_type": "stream",
     "text": [
      "Noisy: 39597, Clean: 10403\n",
      "Selected samples: 9677 \n",
      "Precision: 0.6027 \n",
      "Recall: 0.5606 \n",
      "Specificity: 0.9029\n",
      "Accuracy: 0.8317 \n",
      "Fraction of clean samples/selected samples: 0.6027\n",
      "Files already downloaded and verified\n"
     ]
    },
    {
     "name": "stderr",
     "output_type": "stream",
     "text": [
      "  0%|          | 0/500 [00:00<?, ?it/s]"
     ]
    },
    {
     "name": "stdout",
     "output_type": "stream",
     "text": [
      "Train: 50000 Val: 0\n"
     ]
    },
    {
     "name": "stderr",
     "output_type": "stream",
     "text": [
      "100%|██████████| 500/500 [00:12<00:00, 40.60it/s]\n",
      "100%|██████████| 500/500 [00:03<00:00, 165.12it/s]\n"
     ]
    },
    {
     "name": "stdout",
     "output_type": "stream",
     "text": [
      "Noisy: 9993, Clean: 40007\n",
      "Selected samples: 36696 \n",
      "Precision: 0.9914 \n",
      "Recall: 0.9093 \n",
      "Specificity: 0.9684\n",
      "Accuracy: 0.9211 \n",
      "Fraction of clean samples/selected samples: 0.9914\n",
      "Files already downloaded and verified\n"
     ]
    },
    {
     "name": "stderr",
     "output_type": "stream",
     "text": [
      "  0%|          | 0/500 [00:00<?, ?it/s]"
     ]
    },
    {
     "name": "stdout",
     "output_type": "stream",
     "text": [
      "Train: 50000 Val: 0\n"
     ]
    },
    {
     "name": "stderr",
     "output_type": "stream",
     "text": [
      "100%|██████████| 500/500 [00:12<00:00, 40.58it/s]\n",
      "100%|██████████| 500/500 [00:03<00:00, 165.89it/s]"
     ]
    },
    {
     "name": "stdout",
     "output_type": "stream",
     "text": [
      "Noisy: 9905, Clean: 40095\n",
      "Selected samples: 39616 \n",
      "Precision: 0.9883 \n",
      "Recall: 0.9765 \n",
      "Specificity: 0.9532\n",
      "Accuracy: 0.9719 \n",
      "Fraction of clean samples/selected samples: 0.9883\n"
     ]
    },
    {
     "name": "stderr",
     "output_type": "stream",
     "text": [
      "\n"
     ]
    },
    {
     "data": {
      "text/html": [
       "<div>\n",
       "<style scoped>\n",
       "    .dataframe tbody tr th:only-of-type {\n",
       "        vertical-align: middle;\n",
       "    }\n",
       "\n",
       "    .dataframe tbody tr th {\n",
       "        vertical-align: top;\n",
       "    }\n",
       "\n",
       "    .dataframe thead th {\n",
       "        text-align: right;\n",
       "    }\n",
       "</style>\n",
       "<table border=\"1\" class=\"dataframe\">\n",
       "  <thead>\n",
       "    <tr style=\"text-align: right;\">\n",
       "      <th></th>\n",
       "      <th>noisetype</th>\n",
       "      <th>noiserate</th>\n",
       "      <th>lossfunction</th>\n",
       "      <th>selected</th>\n",
       "      <th>precision</th>\n",
       "      <th>recall</th>\n",
       "      <th>specificity</th>\n",
       "      <th>accuracy</th>\n",
       "    </tr>\n",
       "  </thead>\n",
       "  <tbody>\n",
       "    <tr>\n",
       "      <th>0</th>\n",
       "      <td>True</td>\n",
       "      <td>0.2</td>\n",
       "      <td>cce</td>\n",
       "      <td>39490.0</td>\n",
       "      <td>0.9473</td>\n",
       "      <td>0.9350</td>\n",
       "      <td>0.7917</td>\n",
       "      <td>0.9064</td>\n",
       "    </tr>\n",
       "    <tr>\n",
       "      <th>1</th>\n",
       "      <td>True</td>\n",
       "      <td>0.2</td>\n",
       "      <td>sce</td>\n",
       "      <td>40097.0</td>\n",
       "      <td>0.9176</td>\n",
       "      <td>0.9197</td>\n",
       "      <td>0.6696</td>\n",
       "      <td>0.8697</td>\n",
       "    </tr>\n",
       "    <tr>\n",
       "      <th>2</th>\n",
       "      <td>False</td>\n",
       "      <td>0.2</td>\n",
       "      <td>sce</td>\n",
       "      <td>48418.0</td>\n",
       "      <td>0.8261</td>\n",
       "      <td>0.9976</td>\n",
       "      <td>0.1498</td>\n",
       "      <td>0.8296</td>\n",
       "    </tr>\n",
       "    <tr>\n",
       "      <th>3</th>\n",
       "      <td>True</td>\n",
       "      <td>0.3</td>\n",
       "      <td>gce</td>\n",
       "      <td>37514.0</td>\n",
       "      <td>0.8889</td>\n",
       "      <td>0.9489</td>\n",
       "      <td>0.7196</td>\n",
       "      <td>0.8808</td>\n",
       "    </tr>\n",
       "    <tr>\n",
       "      <th>4</th>\n",
       "      <td>True</td>\n",
       "      <td>0.4</td>\n",
       "      <td>sce</td>\n",
       "      <td>37394.0</td>\n",
       "      <td>0.6437</td>\n",
       "      <td>0.7985</td>\n",
       "      <td>0.3290</td>\n",
       "      <td>0.6120</td>\n",
       "    </tr>\n",
       "    <tr>\n",
       "      <th>5</th>\n",
       "      <td>True</td>\n",
       "      <td>0.3</td>\n",
       "      <td>sce</td>\n",
       "      <td>37479.0</td>\n",
       "      <td>0.8188</td>\n",
       "      <td>0.8732</td>\n",
       "      <td>0.5428</td>\n",
       "      <td>0.7750</td>\n",
       "    </tr>\n",
       "    <tr>\n",
       "      <th>6</th>\n",
       "      <td>True</td>\n",
       "      <td>0.4</td>\n",
       "      <td>gce</td>\n",
       "      <td>37831.0</td>\n",
       "      <td>0.7210</td>\n",
       "      <td>0.9049</td>\n",
       "      <td>0.4685</td>\n",
       "      <td>0.7316</td>\n",
       "    </tr>\n",
       "    <tr>\n",
       "      <th>7</th>\n",
       "      <td>False</td>\n",
       "      <td>0.6</td>\n",
       "      <td>elr</td>\n",
       "      <td>23634.0</td>\n",
       "      <td>0.7678</td>\n",
       "      <td>0.8940</td>\n",
       "      <td>0.8152</td>\n",
       "      <td>0.8472</td>\n",
       "    </tr>\n",
       "    <tr>\n",
       "      <th>8</th>\n",
       "      <td>False</td>\n",
       "      <td>0.8</td>\n",
       "      <td>gce</td>\n",
       "      <td>18675.0</td>\n",
       "      <td>0.4848</td>\n",
       "      <td>0.8702</td>\n",
       "      <td>0.7570</td>\n",
       "      <td>0.7806</td>\n",
       "    </tr>\n",
       "    <tr>\n",
       "      <th>9</th>\n",
       "      <td>True</td>\n",
       "      <td>0.1</td>\n",
       "      <td>elr</td>\n",
       "      <td>41410.0</td>\n",
       "      <td>0.9974</td>\n",
       "      <td>0.9172</td>\n",
       "      <td>0.9787</td>\n",
       "      <td>0.9233</td>\n",
       "    </tr>\n",
       "    <tr>\n",
       "      <th>10</th>\n",
       "      <td>False</td>\n",
       "      <td>0.6</td>\n",
       "      <td>cce</td>\n",
       "      <td>15902.0</td>\n",
       "      <td>0.9496</td>\n",
       "      <td>0.7440</td>\n",
       "      <td>0.9730</td>\n",
       "      <td>0.8800</td>\n",
       "    </tr>\n",
       "    <tr>\n",
       "      <th>11</th>\n",
       "      <td>False</td>\n",
       "      <td>0.4</td>\n",
       "      <td>elr</td>\n",
       "      <td>30073.0</td>\n",
       "      <td>0.9518</td>\n",
       "      <td>0.9477</td>\n",
       "      <td>0.9268</td>\n",
       "      <td>0.9394</td>\n",
       "    </tr>\n",
       "    <tr>\n",
       "      <th>12</th>\n",
       "      <td>True</td>\n",
       "      <td>0.1</td>\n",
       "      <td>cce</td>\n",
       "      <td>44258.0</td>\n",
       "      <td>0.9892</td>\n",
       "      <td>0.9723</td>\n",
       "      <td>0.9042</td>\n",
       "      <td>0.9655</td>\n",
       "    </tr>\n",
       "    <tr>\n",
       "      <th>13</th>\n",
       "      <td>False</td>\n",
       "      <td>0.4</td>\n",
       "      <td>gce</td>\n",
       "      <td>32053.0</td>\n",
       "      <td>0.9144</td>\n",
       "      <td>0.9704</td>\n",
       "      <td>0.8614</td>\n",
       "      <td>0.9273</td>\n",
       "    </tr>\n",
       "    <tr>\n",
       "      <th>14</th>\n",
       "      <td>True</td>\n",
       "      <td>0.3</td>\n",
       "      <td>cce</td>\n",
       "      <td>39001.0</td>\n",
       "      <td>0.8183</td>\n",
       "      <td>0.9081</td>\n",
       "      <td>0.5230</td>\n",
       "      <td>0.7937</td>\n",
       "    </tr>\n",
       "    <tr>\n",
       "      <th>15</th>\n",
       "      <td>True</td>\n",
       "      <td>0.1</td>\n",
       "      <td>gce</td>\n",
       "      <td>44195.0</td>\n",
       "      <td>0.9935</td>\n",
       "      <td>0.9751</td>\n",
       "      <td>0.9424</td>\n",
       "      <td>0.9718</td>\n",
       "    </tr>\n",
       "    <tr>\n",
       "      <th>16</th>\n",
       "      <td>False</td>\n",
       "      <td>0.2</td>\n",
       "      <td>gce</td>\n",
       "      <td>40315.0</td>\n",
       "      <td>0.9714</td>\n",
       "      <td>0.9767</td>\n",
       "      <td>0.8834</td>\n",
       "      <td>0.9582</td>\n",
       "    </tr>\n",
       "    <tr>\n",
       "      <th>17</th>\n",
       "      <td>True</td>\n",
       "      <td>0.2</td>\n",
       "      <td>gce</td>\n",
       "      <td>39963.0</td>\n",
       "      <td>0.9694</td>\n",
       "      <td>0.9683</td>\n",
       "      <td>0.8776</td>\n",
       "      <td>0.9502</td>\n",
       "    </tr>\n",
       "    <tr>\n",
       "      <th>18</th>\n",
       "      <td>True</td>\n",
       "      <td>0.4</td>\n",
       "      <td>cce</td>\n",
       "      <td>42434.0</td>\n",
       "      <td>0.6397</td>\n",
       "      <td>0.9004</td>\n",
       "      <td>0.2299</td>\n",
       "      <td>0.6342</td>\n",
       "    </tr>\n",
       "    <tr>\n",
       "      <th>19</th>\n",
       "      <td>False</td>\n",
       "      <td>0.4</td>\n",
       "      <td>sce</td>\n",
       "      <td>26120.0</td>\n",
       "      <td>0.9654</td>\n",
       "      <td>0.8349</td>\n",
       "      <td>0.9544</td>\n",
       "      <td>0.8822</td>\n",
       "    </tr>\n",
       "    <tr>\n",
       "      <th>20</th>\n",
       "      <td>False</td>\n",
       "      <td>0.8</td>\n",
       "      <td>elr</td>\n",
       "      <td>10041.0</td>\n",
       "      <td>0.6502</td>\n",
       "      <td>0.6276</td>\n",
       "      <td>0.9113</td>\n",
       "      <td>0.8523</td>\n",
       "    </tr>\n",
       "    <tr>\n",
       "      <th>21</th>\n",
       "      <td>True</td>\n",
       "      <td>0.3</td>\n",
       "      <td>elr</td>\n",
       "      <td>32346.0</td>\n",
       "      <td>0.9798</td>\n",
       "      <td>0.9019</td>\n",
       "      <td>0.9561</td>\n",
       "      <td>0.9180</td>\n",
       "    </tr>\n",
       "    <tr>\n",
       "      <th>22</th>\n",
       "      <td>True</td>\n",
       "      <td>0.4</td>\n",
       "      <td>elr</td>\n",
       "      <td>28077.0</td>\n",
       "      <td>0.9499</td>\n",
       "      <td>0.8848</td>\n",
       "      <td>0.9291</td>\n",
       "      <td>0.9024</td>\n",
       "    </tr>\n",
       "    <tr>\n",
       "      <th>23</th>\n",
       "      <td>False</td>\n",
       "      <td>0.6</td>\n",
       "      <td>sce</td>\n",
       "      <td>16364.0</td>\n",
       "      <td>0.9282</td>\n",
       "      <td>0.7483</td>\n",
       "      <td>0.9604</td>\n",
       "      <td>0.8743</td>\n",
       "    </tr>\n",
       "    <tr>\n",
       "      <th>24</th>\n",
       "      <td>False</td>\n",
       "      <td>0.4</td>\n",
       "      <td>cce</td>\n",
       "      <td>26860.0</td>\n",
       "      <td>0.9783</td>\n",
       "      <td>0.8700</td>\n",
       "      <td>0.9706</td>\n",
       "      <td>0.9098</td>\n",
       "    </tr>\n",
       "    <tr>\n",
       "      <th>25</th>\n",
       "      <td>False</td>\n",
       "      <td>0.8</td>\n",
       "      <td>cce</td>\n",
       "      <td>8278.0</td>\n",
       "      <td>0.6827</td>\n",
       "      <td>0.5432</td>\n",
       "      <td>0.9337</td>\n",
       "      <td>0.8524</td>\n",
       "    </tr>\n",
       "    <tr>\n",
       "      <th>26</th>\n",
       "      <td>False</td>\n",
       "      <td>0.6</td>\n",
       "      <td>gce</td>\n",
       "      <td>24337.0</td>\n",
       "      <td>0.7904</td>\n",
       "      <td>0.9477</td>\n",
       "      <td>0.8283</td>\n",
       "      <td>0.8768</td>\n",
       "    </tr>\n",
       "    <tr>\n",
       "      <th>27</th>\n",
       "      <td>True</td>\n",
       "      <td>0.1</td>\n",
       "      <td>sce</td>\n",
       "      <td>44391.0</td>\n",
       "      <td>0.9799</td>\n",
       "      <td>0.9660</td>\n",
       "      <td>0.8205</td>\n",
       "      <td>0.9515</td>\n",
       "    </tr>\n",
       "    <tr>\n",
       "      <th>28</th>\n",
       "      <td>False</td>\n",
       "      <td>0.2</td>\n",
       "      <td>cce</td>\n",
       "      <td>36048.0</td>\n",
       "      <td>0.9954</td>\n",
       "      <td>0.8949</td>\n",
       "      <td>0.9833</td>\n",
       "      <td>0.9125</td>\n",
       "    </tr>\n",
       "    <tr>\n",
       "      <th>29</th>\n",
       "      <td>False</td>\n",
       "      <td>0.8</td>\n",
       "      <td>sce</td>\n",
       "      <td>9677.0</td>\n",
       "      <td>0.6027</td>\n",
       "      <td>0.5606</td>\n",
       "      <td>0.9029</td>\n",
       "      <td>0.8317</td>\n",
       "    </tr>\n",
       "    <tr>\n",
       "      <th>30</th>\n",
       "      <td>True</td>\n",
       "      <td>0.2</td>\n",
       "      <td>elr</td>\n",
       "      <td>36696.0</td>\n",
       "      <td>0.9914</td>\n",
       "      <td>0.9093</td>\n",
       "      <td>0.9684</td>\n",
       "      <td>0.9211</td>\n",
       "    </tr>\n",
       "    <tr>\n",
       "      <th>31</th>\n",
       "      <td>False</td>\n",
       "      <td>0.2</td>\n",
       "      <td>elr</td>\n",
       "      <td>39616.0</td>\n",
       "      <td>0.9883</td>\n",
       "      <td>0.9765</td>\n",
       "      <td>0.9532</td>\n",
       "      <td>0.9719</td>\n",
       "    </tr>\n",
       "  </tbody>\n",
       "</table>\n",
       "</div>"
      ],
      "text/plain": [
       "   noisetype noiserate lossfunction  selected  precision  recall  specificity  \\\n",
       "0       True       0.2          cce   39490.0     0.9473  0.9350       0.7917   \n",
       "1       True       0.2          sce   40097.0     0.9176  0.9197       0.6696   \n",
       "2      False       0.2          sce   48418.0     0.8261  0.9976       0.1498   \n",
       "3       True       0.3          gce   37514.0     0.8889  0.9489       0.7196   \n",
       "4       True       0.4          sce   37394.0     0.6437  0.7985       0.3290   \n",
       "5       True       0.3          sce   37479.0     0.8188  0.8732       0.5428   \n",
       "6       True       0.4          gce   37831.0     0.7210  0.9049       0.4685   \n",
       "7      False       0.6          elr   23634.0     0.7678  0.8940       0.8152   \n",
       "8      False       0.8          gce   18675.0     0.4848  0.8702       0.7570   \n",
       "9       True       0.1          elr   41410.0     0.9974  0.9172       0.9787   \n",
       "10     False       0.6          cce   15902.0     0.9496  0.7440       0.9730   \n",
       "11     False       0.4          elr   30073.0     0.9518  0.9477       0.9268   \n",
       "12      True       0.1          cce   44258.0     0.9892  0.9723       0.9042   \n",
       "13     False       0.4          gce   32053.0     0.9144  0.9704       0.8614   \n",
       "14      True       0.3          cce   39001.0     0.8183  0.9081       0.5230   \n",
       "15      True       0.1          gce   44195.0     0.9935  0.9751       0.9424   \n",
       "16     False       0.2          gce   40315.0     0.9714  0.9767       0.8834   \n",
       "17      True       0.2          gce   39963.0     0.9694  0.9683       0.8776   \n",
       "18      True       0.4          cce   42434.0     0.6397  0.9004       0.2299   \n",
       "19     False       0.4          sce   26120.0     0.9654  0.8349       0.9544   \n",
       "20     False       0.8          elr   10041.0     0.6502  0.6276       0.9113   \n",
       "21      True       0.3          elr   32346.0     0.9798  0.9019       0.9561   \n",
       "22      True       0.4          elr   28077.0     0.9499  0.8848       0.9291   \n",
       "23     False       0.6          sce   16364.0     0.9282  0.7483       0.9604   \n",
       "24     False       0.4          cce   26860.0     0.9783  0.8700       0.9706   \n",
       "25     False       0.8          cce    8278.0     0.6827  0.5432       0.9337   \n",
       "26     False       0.6          gce   24337.0     0.7904  0.9477       0.8283   \n",
       "27      True       0.1          sce   44391.0     0.9799  0.9660       0.8205   \n",
       "28     False       0.2          cce   36048.0     0.9954  0.8949       0.9833   \n",
       "29     False       0.8          sce    9677.0     0.6027  0.5606       0.9029   \n",
       "30      True       0.2          elr   36696.0     0.9914  0.9093       0.9684   \n",
       "31     False       0.2          elr   39616.0     0.9883  0.9765       0.9532   \n",
       "\n",
       "    accuracy  \n",
       "0     0.9064  \n",
       "1     0.8697  \n",
       "2     0.8296  \n",
       "3     0.8808  \n",
       "4     0.6120  \n",
       "5     0.7750  \n",
       "6     0.7316  \n",
       "7     0.8472  \n",
       "8     0.7806  \n",
       "9     0.9233  \n",
       "10    0.8800  \n",
       "11    0.9394  \n",
       "12    0.9655  \n",
       "13    0.9273  \n",
       "14    0.7937  \n",
       "15    0.9718  \n",
       "16    0.9582  \n",
       "17    0.9502  \n",
       "18    0.6342  \n",
       "19    0.8822  \n",
       "20    0.8523  \n",
       "21    0.9180  \n",
       "22    0.9024  \n",
       "23    0.8743  \n",
       "24    0.9098  \n",
       "25    0.8524  \n",
       "26    0.8768  \n",
       "27    0.9515  \n",
       "28    0.9125  \n",
       "29    0.8317  \n",
       "30    0.9211  \n",
       "31    0.9719  "
      ]
     },
     "execution_count": 8,
     "metadata": {},
     "output_type": "execute_result"
    }
   ],
   "source": [
    "make_pd_list(root = './checkpoint/rn34/', config=config, log_filename = 'c100_loss_pretrained_statistics.csv')"
   ]
  },
  {
   "cell_type": "code",
   "execution_count": null,
   "id": "medium-alpha",
   "metadata": {},
   "outputs": [],
   "source": []
  }
 ],
 "metadata": {
  "kernelspec": {
   "display_name": "Python 3",
   "language": "python",
   "name": "python3"
  },
  "language_info": {
   "codemirror_mode": {
    "name": "ipython",
    "version": 3
   },
   "file_extension": ".py",
   "mimetype": "text/x-python",
   "name": "python",
   "nbconvert_exporter": "python",
   "pygments_lexer": "ipython3",
   "version": "3.7.9"
  }
 },
 "nbformat": 4,
 "nbformat_minor": 5
}
