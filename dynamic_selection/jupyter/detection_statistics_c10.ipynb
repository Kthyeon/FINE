{
 "cells": [
  {
   "cell_type": "code",
   "execution_count": 1,
   "id": "practical-newfoundland",
   "metadata": {},
   "outputs": [],
   "source": [
    "import os, sys\n",
    "os.chdir('../')"
   ]
  },
  {
   "cell_type": "code",
   "execution_count": 2,
   "id": "substantial-woman",
   "metadata": {},
   "outputs": [],
   "source": [
    "import argparse\n",
    "import torch\n",
    "from tqdm import tqdm\n",
    "import data_loader.data_loaders as module_data\n",
    "import loss as module_loss\n",
    "import model.metric as module_metric\n",
    "import model.model as module_arch\n",
    "\n",
    "import easydict\n",
    "import torch.nn as nn\n",
    "import torch.nn.functional as F\n",
    "import sys\n",
    "import os\n",
    "import json\n",
    "import random\n",
    "import numpy as np\n",
    "import pandas as pd\n",
    "import seaborn as sns\n",
    "import matplotlib.pyplot as plt \n",
    "\n",
    "import data_loader.data_loaders as module_data\n",
    "import model.model as module_arch\n",
    "\n",
    "from selection.svd_classifier import *\n",
    "from selection.gmm import *\n",
    "from selection.util import *\n",
    "\n",
    "from utils.parse_config import ConfigParser\n",
    "from utils.util import *\n",
    "from utils.args import *"
   ]
  },
  {
   "cell_type": "code",
   "execution_count": 3,
   "id": "comic-lightweight",
   "metadata": {},
   "outputs": [],
   "source": [
    "config_file = './hyperparams/multistep/config_cifar10_cce_rn34.json'\n",
    "with open(config_file, 'r') as f:\n",
    "    config = json.load(f)\n",
    "\n",
    "# resume_path = './rn34/multistep_asym_40_elr.pth'"
   ]
  },
  {
   "cell_type": "code",
   "execution_count": 4,
   "id": "enclosed-child",
   "metadata": {},
   "outputs": [],
   "source": [
    "def decode(path):\n",
    "    items = path.split('_')\n",
    "    noisetype = True if items[1]=='asym' else False\n",
    "    noiserate = float(items[2]) * 0.01\n",
    "    \n",
    "    return noisetype, noiserate, items[3].split('.')[0]"
   ]
  },
  {
   "cell_type": "code",
   "execution_count": 5,
   "id": "lyric-batman",
   "metadata": {},
   "outputs": [],
   "source": [
    "def make_parse(resume_path, config, noise_rate, noisetype):\n",
    "    parse = easydict.EasyDict({\n",
    "    \"load_name\" : resume_path,\n",
    "    \"reinit\": False,\n",
    "    \"distill_mode\": 'fine-kmeans'\n",
    "    })\n",
    "    \n",
    "    config['trainer']['percent'] = noise_rate\n",
    "    config['trainer']['asym'] = noisetype\n",
    "    \n",
    "    return parse, config"
   ]
  },
  {
   "cell_type": "code",
   "execution_count": 10,
   "id": "related-crowd",
   "metadata": {},
   "outputs": [],
   "source": [
    "def return_statistics(dataloader, clean_labels, datanum):\n",
    "    predict = np.zeros(datanum)\n",
    "    for idx in clean_labels: predict[idx] = 1\n",
    "        \n",
    "    isNoisy_list = compute_noiseratio(dataloader)\n",
    "    r_stats = []\n",
    "    \n",
    "    tp = (isNoisy_list[predict==1]==1).sum() # positive clean\n",
    "    tn = (isNoisy_list[predict==0]==0).sum() # negative noisy\n",
    "    fp = (isNoisy_list==0).sum() - tn\n",
    "    fn = (isNoisy_list==1).sum() - tp\n",
    "    \n",
    "    print('Noisy: {}, Clean: {}'.format((isNoisy_list==0).sum(), (isNoisy_list==1).sum()))\n",
    "    precision = tp / (tp + fp)\n",
    "    recall = tp / (tp + fn)\n",
    "    specificity = tn / (tn + fp)\n",
    "    accuracy = (tp + tn) / (tp + tn + fp + fn)\n",
    "    sel_samples = int(fp + tp)\n",
    "    frac_clean = tp / (fp + tp)\n",
    "    F1 =  tp / (tp + (fp+fn)/2)\n",
    "\n",
    "    r_stats.extend([sel_samples, round(precision, 4), round(recall, 4), round(specificity, 4), round(accuracy, 4), round(frac_clean, 4)])\n",
    "    print('Selected samples: {} \\nPrecision: {} \\nRecall: {} \\nSpecificity: {}\\nAccuracy: {} \\nFraction of clean samples/selected samples: {}'.format(r_stats[0], r_stats[1], r_stats[2], r_stats[3], r_stats[4], r_stats[5]))\n",
    "    \n",
    "    return r_stats[0], r_stats[1], r_stats[2], r_stats[3], r_stats[4], F1"
   ]
  },
  {
   "cell_type": "code",
   "execution_count": 7,
   "id": "logical-wesley",
   "metadata": {},
   "outputs": [],
   "source": [
    "def extract_cleanidx(teacher, data_loader, parse, print_statistics = True):\n",
    "    teacher.load_state_dict(torch.load('./checkpoint/' + parse.load_name)['state_dict'])\n",
    "    teacher = teacher.cuda()\n",
    "\n",
    "    if not parse.reinit: teacher.load_state_dict(torch.load('./checkpoint/' + parse.load_name)['state_dict'])\n",
    "    for params in teacher.parameters(): params.requires_grad = False\n",
    "    \n",
    "    if 'fine' in parse.distill_mode:\n",
    "        features, labels = get_features(teacher, data_loader)\n",
    "        clean_labels = fine(current_features=features, current_labels=labels, fit = parse.distill_mode)\n",
    "    elif 'loss' in parse.distill_mode:\n",
    "        clean_labels, labels = cleansing_loss(teacher, data_loader)\n",
    "    else:\n",
    "        raise NotImplemented \n",
    "    if print_statistics: \n",
    "        selected, precision, recall, specificity, accuracy, F1 = return_statistics(data_loader, clean_labels, datanum=len(labels))\n",
    "    \n",
    "    return selected, precision, recall, specificity, accuracy, F1"
   ]
  },
  {
   "cell_type": "code",
   "execution_count": 8,
   "id": "frequent-laser",
   "metadata": {},
   "outputs": [],
   "source": [
    "def make_pd_list(root, config, log_filename):\n",
    "    random.seed(config['seed'])\n",
    "    torch.manual_seed(config['seed'])\n",
    "    torch.cuda.manual_seed_all(config['seed'])\n",
    "    torch.backends.cudnn.deterministic = True\n",
    "    np.random.seed(config['seed'])\n",
    "    \n",
    "    # load checkpoint path\n",
    "    pathlist = os.listdir(root)\n",
    "    pathlist = [path for path in pathlist if ('.pth' in path) and ('eigen' not in path) and ('kmeans' not in path) and ('c100') not in path]\n",
    "    \n",
    "    # initialize model\n",
    "    model = module_arch.resnet34(num_classes=10)\n",
    "    \n",
    "    # make pandas file\n",
    "    logcolumns = ['noisetype', 'noiserate', 'lossfunction', 'selected', 'precision', 'recall', 'specificity', 'accuracy', 'F1']\n",
    "    log_pd = pd.DataFrame(np.zeros([len(pathlist), len(logcolumns)]), columns = logcolumns)\n",
    "    \n",
    "    # write pandas file\n",
    "    noisetypelst = ['']\n",
    "    for i in range(len(pathlist)):\n",
    "        noisetype, noiserate, lossfunction = decode(pathlist[i])\n",
    "        parse, config = make_parse('./rn34/' + pathlist[i], config, noiserate, noisetype)\n",
    "        \n",
    "        # load original dataloader\n",
    "        data_loader = getattr(module_data, config['data_loader']['type'])(\n",
    "        config['data_loader']['args']['data_dir'],\n",
    "        batch_size= 100,\n",
    "        shuffle=False,\n",
    "        validation_split=0.0,\n",
    "        num_batches=config['data_loader']['args']['num_batches'],\n",
    "        training=True,\n",
    "        num_workers=config['data_loader']['args']['num_workers'],\n",
    "        pin_memory=config['data_loader']['args']['pin_memory'],\n",
    "        config=config)\n",
    "        \n",
    "        selected, precision, recall, specificity, accuracy, F1 = extract_cleanidx(model, data_loader, parse)\n",
    "        log_pd.loc[i] = [str(noisetype), str(noiserate), lossfunction, selected, precision, recall, specificity, accuracy, F1]\n",
    "        log_pd.to_csv(log_filename)\n",
    "        \n",
    "    return log_pd"
   ]
  },
  {
   "cell_type": "code",
   "execution_count": null,
   "id": "operating-hands",
   "metadata": {},
   "outputs": [
    {
     "name": "stdout",
     "output_type": "stream",
     "text": [
      "Files already downloaded and verified\n",
      "##############\n",
      "[3 2 1 1 3 0 0 7 6 5]\n",
      "[3 2 1 1 3 2 2 7 6 5]\n",
      "Train: 50000 Val: 0\n"
     ]
    },
    {
     "name": "stderr",
     "output_type": "stream",
     "text": [
      "100%|██████████| 500/500 [00:28<00:00, 15.99it/s]\n",
      "100%|██████████| 10/10 [00:23<00:00,  1.86s/it]\n",
      "100%|██████████| 50000/50000 [00:00<00:00, 71004.19it/s]\n",
      "100%|██████████| 500/500 [00:04<00:00, 105.88it/s]\n"
     ]
    },
    {
     "name": "stdout",
     "output_type": "stream",
     "text": [
      "Noisy: 9226, Clean: 40774\n",
      "Selected samples: 40837 \n",
      "Precision: 0.9349 \n",
      "Recall: 0.9364 \n",
      "Specificity: 0.7119\n",
      "Accuracy: 0.8949 \n",
      "Fraction of clean samples/selected samples: 0.9349\n",
      "Files already downloaded and verified\n",
      "##############\n",
      "[8 9 1 9 4 8 3 6 3 6]\n",
      "[3 2 1 1 3 2 2 7 6 5]\n",
      "Train: 50000 Val: 0\n"
     ]
    },
    {
     "name": "stderr",
     "output_type": "stream",
     "text": [
      "100%|██████████| 500/500 [00:37<00:00,  9.46it/s]\n",
      "100%|██████████| 10/10 [00:16<00:00,  1.66s/it]\n",
      "100%|██████████| 50000/50000 [00:00<00:00, 79307.32it/s] \n",
      "100%|██████████| 500/500 [00:03<00:00, 125.98it/s]\n"
     ]
    },
    {
     "name": "stdout",
     "output_type": "stream",
     "text": [
      "Noisy: 36036, Clean: 13964\n",
      "Selected samples: 12962 \n",
      "Precision: 0.8709 \n",
      "Recall: 0.8084 \n",
      "Specificity: 0.9536\n",
      "Accuracy: 0.913 \n",
      "Fraction of clean samples/selected samples: 0.8709\n",
      "Files already downloaded and verified\n",
      "##############\n",
      "[3 2 1 1 3 2 2 7 6 5]\n",
      "[3 2 1 1 3 2 2 7 6 5]\n",
      "Train: 50000 Val: 0\n"
     ]
    },
    {
     "name": "stderr",
     "output_type": "stream",
     "text": [
      "100%|██████████| 500/500 [00:36<00:00, 13.52it/s]\n",
      "100%|██████████| 10/10 [00:21<00:00,  2.06s/it]\n",
      "100%|██████████| 50000/50000 [00:01<00:00, 40224.03it/s]\n",
      "100%|██████████| 500/500 [00:04<00:00, 114.02it/s]\n"
     ]
    },
    {
     "name": "stdout",
     "output_type": "stream",
     "text": [
      "Noisy: 2458, Clean: 47542\n",
      "Selected samples: 45809 \n",
      "Precision: 0.9969 \n",
      "Recall: 0.9605 \n",
      "Specificity: 0.9414\n",
      "Accuracy: 0.9596 \n",
      "Fraction of clean samples/selected samples: 0.9969\n",
      "Files already downloaded and verified\n",
      "##############\n",
      "[3 9 1 1 3 8 2 7 6 5]\n",
      "[3 2 1 1 3 2 2 7 6 5]\n",
      "Train: 50000 Val: 0\n"
     ]
    },
    {
     "name": "stderr",
     "output_type": "stream",
     "text": [
      "100%|██████████| 500/500 [00:37<00:00, 13.23it/s]\n",
      "100%|██████████| 10/10 [00:16<00:00,  1.63s/it]\n",
      "100%|██████████| 50000/50000 [00:00<00:00, 83378.41it/s]\n",
      "100%|██████████| 500/500 [00:03<00:00, 125.48it/s]\n"
     ]
    },
    {
     "name": "stdout",
     "output_type": "stream",
     "text": [
      "Noisy: 9006, Clean: 40994\n",
      "Selected samples: 38698 \n",
      "Precision: 0.9988 \n",
      "Recall: 0.9428 \n",
      "Specificity: 0.9948\n",
      "Accuracy: 0.9522 \n",
      "Fraction of clean samples/selected samples: 0.9988\n",
      "Files already downloaded and verified\n",
      "##############\n",
      "[8 9 1 9 4 8 3 6 3 6]\n",
      "[3 2 1 1 3 2 2 7 6 5]\n",
      "Train: 50000 Val: 0\n"
     ]
    },
    {
     "name": "stderr",
     "output_type": "stream",
     "text": [
      "100%|██████████| 500/500 [00:41<00:00, 14.69it/s]\n",
      "100%|██████████| 10/10 [00:21<00:00,  2.18s/it]\n",
      "100%|██████████| 50000/50000 [00:00<00:00, 58989.08it/s]\n",
      "100%|██████████| 500/500 [00:04<00:00, 109.23it/s]\n"
     ]
    },
    {
     "name": "stdout",
     "output_type": "stream",
     "text": [
      "Noisy: 36036, Clean: 13964\n",
      "Selected samples: 12943 \n",
      "Precision: 0.8942 \n",
      "Recall: 0.8288 \n",
      "Specificity: 0.962\n",
      "Accuracy: 0.9248 \n",
      "Fraction of clean samples/selected samples: 0.8942\n",
      "Files already downloaded and verified\n",
      "##############\n",
      "[8 9 1 9 3 8 2 7 3 5]\n",
      "[3 2 1 1 3 2 2 7 6 5]\n",
      "Train: 50000 Val: 0\n"
     ]
    },
    {
     "name": "stderr",
     "output_type": "stream",
     "text": [
      "100%|██████████| 500/500 [00:26<00:00, 10.15it/s]\n",
      "100%|██████████| 10/10 [00:17<00:00,  1.74s/it]\n",
      "100%|██████████| 50000/50000 [00:00<00:00, 79150.45it/s] \n",
      "100%|██████████| 500/500 [00:04<00:00, 123.02it/s]\n"
     ]
    },
    {
     "name": "stdout",
     "output_type": "stream",
     "text": [
      "Noisy: 17975, Clean: 32025\n",
      "Selected samples: 30524 \n",
      "Precision: 0.9902 \n",
      "Recall: 0.9438 \n",
      "Specificity: 0.9834\n",
      "Accuracy: 0.9581 \n",
      "Fraction of clean samples/selected samples: 0.9902\n",
      "Files already downloaded and verified\n",
      "##############\n",
      "[8 9 1 9 3 8 3 7 3 5]\n",
      "[3 2 1 1 3 2 2 7 6 5]\n",
      "Train: 50000 Val: 0\n"
     ]
    },
    {
     "name": "stderr",
     "output_type": "stream",
     "text": [
      "100%|██████████| 500/500 [00:40<00:00, 12.36it/s]\n",
      "100%|██████████| 10/10 [00:17<00:00,  1.66s/it]\n",
      "100%|██████████| 50000/50000 [00:00<00:00, 99461.23it/s]\n",
      "100%|██████████| 500/500 [00:03<00:00, 126.21it/s]\n"
     ]
    },
    {
     "name": "stdout",
     "output_type": "stream",
     "text": [
      "Noisy: 27041, Clean: 22959\n",
      "Selected samples: 21025 \n",
      "Precision: 0.9645 \n",
      "Recall: 0.8832 \n",
      "Specificity: 0.9724\n",
      "Accuracy: 0.9314 \n",
      "Fraction of clean samples/selected samples: 0.9645\n",
      "Files already downloaded and verified\n",
      "##############\n",
      "[3 9 1 1 3 8 2 7 6 5]\n",
      "[3 2 1 1 3 2 2 7 6 5]\n",
      "Train: 50000 Val: 0\n"
     ]
    },
    {
     "name": "stderr",
     "output_type": "stream",
     "text": [
      "100%|██████████| 500/500 [00:31<00:00, 11.41it/s]\n",
      "100%|██████████| 10/10 [00:19<00:00,  1.81s/it]\n",
      "100%|██████████| 50000/50000 [00:00<00:00, 73966.08it/s]\n",
      "100%|██████████| 500/500 [00:04<00:00, 116.27it/s]\n"
     ]
    },
    {
     "name": "stdout",
     "output_type": "stream",
     "text": [
      "Noisy: 9006, Clean: 40994\n",
      "Selected samples: 38366 \n",
      "Precision: 0.9974 \n",
      "Recall: 0.9335 \n",
      "Specificity: 0.9891\n",
      "Accuracy: 0.9435 \n",
      "Fraction of clean samples/selected samples: 0.9974\n",
      "Files already downloaded and verified\n",
      "##############\n",
      "[3 2 1 1 3 0 2 7 6 5]\n",
      "[3 2 1 1 3 2 2 7 6 5]\n",
      "Train: 50000 Val: 0\n"
     ]
    },
    {
     "name": "stderr",
     "output_type": "stream",
     "text": [
      "100%|██████████| 500/500 [00:42<00:00, 11.73it/s]\n",
      "100%|██████████| 10/10 [00:20<00:00,  1.65s/it]\n",
      "100%|██████████| 50000/50000 [00:00<00:00, 72988.13it/s]\n",
      "100%|██████████| 500/500 [00:04<00:00, 120.10it/s]\n"
     ]
    },
    {
     "name": "stdout",
     "output_type": "stream",
     "text": [
      "Noisy: 7020, Clean: 42980\n",
      "Selected samples: 40887 \n",
      "Precision: 0.9816 \n",
      "Recall: 0.9338 \n",
      "Specificity: 0.8927\n",
      "Accuracy: 0.928 \n",
      "Fraction of clean samples/selected samples: 0.9816\n",
      "Files already downloaded and verified\n",
      "##############\n",
      "[8 9 1 9 3 8 3 7 3 5]\n",
      "[3 2 1 1 3 2 2 7 6 5]\n",
      "Train: 50000 Val: 0\n"
     ]
    },
    {
     "name": "stderr",
     "output_type": "stream",
     "text": [
      "100%|██████████| 500/500 [00:31<00:00, 15.87it/s]\n",
      "100%|██████████| 10/10 [00:20<00:00,  1.84s/it]\n",
      "100%|██████████| 50000/50000 [00:00<00:00, 85406.42it/s]\n",
      "100%|██████████| 500/500 [00:04<00:00, 110.40it/s]\n"
     ]
    },
    {
     "name": "stdout",
     "output_type": "stream",
     "text": [
      "Noisy: 27041, Clean: 22959\n",
      "Selected samples: 22559 \n",
      "Precision: 0.9495 \n",
      "Recall: 0.933 \n",
      "Specificity: 0.9579\n",
      "Accuracy: 0.9464 \n",
      "Fraction of clean samples/selected samples: 0.9495\n",
      "Files already downloaded and verified\n",
      "##############\n",
      "[8 9 1 9 4 8 3 6 3 6]\n",
      "[3 2 1 1 3 2 2 7 6 5]\n",
      "Train: 50000 Val: 0\n"
     ]
    },
    {
     "name": "stderr",
     "output_type": "stream",
     "text": [
      "100%|██████████| 500/500 [00:35<00:00,  9.03it/s]\n",
      "100%|██████████| 10/10 [00:18<00:00,  1.83s/it]\n",
      "100%|██████████| 50000/50000 [00:00<00:00, 72336.09it/s]\n",
      "100%|██████████| 500/500 [00:04<00:00, 114.66it/s]\n"
     ]
    },
    {
     "name": "stdout",
     "output_type": "stream",
     "text": [
      "Noisy: 36036, Clean: 13964\n",
      "Selected samples: 16768 \n",
      "Precision: 0.7241 \n",
      "Recall: 0.8695 \n",
      "Specificity: 0.8716\n",
      "Accuracy: 0.871 \n",
      "Fraction of clean samples/selected samples: 0.7241\n",
      "Files already downloaded and verified\n",
      "##############\n",
      "[8 9 1 9 4 8 3 6 3 6]\n",
      "[3 2 1 1 3 2 2 7 6 5]\n",
      "Train: 50000 Val: 0\n"
     ]
    },
    {
     "name": "stderr",
     "output_type": "stream",
     "text": [
      "100%|██████████| 500/500 [00:36<00:00, 12.27it/s]\n",
      "100%|██████████| 10/10 [00:19<00:00,  1.75s/it]\n",
      "100%|██████████| 50000/50000 [00:00<00:00, 83723.72it/s]\n",
      "100%|██████████| 500/500 [00:04<00:00, 109.97it/s]\n"
     ]
    },
    {
     "name": "stdout",
     "output_type": "stream",
     "text": [
      "Noisy: 36036, Clean: 13964\n",
      "Selected samples: 19703 \n",
      "Precision: 0.6529 \n",
      "Recall: 0.9213 \n",
      "Specificity: 0.8102\n",
      "Accuracy: 0.8413 \n",
      "Fraction of clean samples/selected samples: 0.6529\n",
      "Files already downloaded and verified\n",
      "##############\n",
      "[3 2 1 1 3 0 2 7 6 5]\n",
      "[3 2 1 1 3 2 2 7 6 5]\n",
      "Train: 50000 Val: 0\n"
     ]
    },
    {
     "name": "stderr",
     "output_type": "stream",
     "text": [
      "100%|██████████| 500/500 [00:34<00:00, 14.66it/s]\n",
      "100%|██████████| 10/10 [00:19<00:00,  1.63s/it]\n",
      "100%|██████████| 50000/50000 [00:00<00:00, 76152.60it/s]\n",
      "100%|██████████| 500/500 [00:05<00:00, 91.25it/s] \n"
     ]
    },
    {
     "name": "stdout",
     "output_type": "stream",
     "text": [
      "Noisy: 7020, Clean: 42980\n",
      "Selected samples: 41634 \n",
      "Precision: 0.9783 \n",
      "Recall: 0.9476 \n",
      "Specificity: 0.8711\n",
      "Accuracy: 0.9369 \n",
      "Fraction of clean samples/selected samples: 0.9783\n",
      "Files already downloaded and verified\n",
      "##############\n",
      "[3 9 1 1 3 8 2 7 6 5]\n",
      "[3 2 1 1 3 2 2 7 6 5]\n",
      "Train: 50000 Val: 0\n"
     ]
    },
    {
     "name": "stderr",
     "output_type": "stream",
     "text": [
      "100%|██████████| 500/500 [00:44<00:00, 11.23it/s]\n",
      "100%|██████████| 10/10 [00:22<00:00,  2.11s/it]\n",
      "100%|██████████| 50000/50000 [00:00<00:00, 62642.99it/s]\n",
      "100%|██████████| 500/500 [00:05<00:00, 95.38it/s] \n"
     ]
    },
    {
     "name": "stdout",
     "output_type": "stream",
     "text": [
      "Noisy: 9006, Clean: 40994\n",
      "Selected samples: 39441 \n",
      "Precision: 0.9975 \n",
      "Recall: 0.9598 \n",
      "Specificity: 0.9892\n",
      "Accuracy: 0.9651 \n",
      "Fraction of clean samples/selected samples: 0.9975\n",
      "Files already downloaded and verified\n",
      "##############\n",
      "[3 2 1 1 3 0 2 7 6 5]\n",
      "[3 2 1 1 3 2 2 7 6 5]\n",
      "Train: 50000 Val: 0\n"
     ]
    },
    {
     "name": "stderr",
     "output_type": "stream",
     "text": [
      "100%|██████████| 500/500 [00:31<00:00, 16.12it/s]\n",
      "100%|██████████| 10/10 [00:19<00:00,  1.74s/it]\n",
      "100%|██████████| 50000/50000 [00:00<00:00, 76632.90it/s]\n",
      "100%|██████████| 500/500 [00:04<00:00, 131.59it/s]\n"
     ]
    },
    {
     "name": "stdout",
     "output_type": "stream",
     "text": [
      "Noisy: 4786, Clean: 45214\n",
      "Selected samples: 43125 \n",
      "Precision: 0.994 \n",
      "Recall: 0.9481 \n",
      "Specificity: 0.9459\n",
      "Accuracy: 0.9479 \n",
      "Fraction of clean samples/selected samples: 0.994\n",
      "Files already downloaded and verified\n",
      "##############\n",
      "[8 9 1 9 3 8 3 7 3 5]\n",
      "[3 2 1 1 3 2 2 7 6 5]\n",
      "Train: 50000 Val: 0\n"
     ]
    },
    {
     "name": "stderr",
     "output_type": "stream",
     "text": [
      "100%|██████████| 500/500 [00:38<00:00,  9.51it/s]\n",
      "100%|██████████| 10/10 [00:22<00:00,  2.38s/it]\n",
      "100%|██████████| 50000/50000 [00:00<00:00, 51725.81it/s]\n",
      "100%|██████████| 500/500 [00:04<00:00, 109.51it/s]\n"
     ]
    },
    {
     "name": "stdout",
     "output_type": "stream",
     "text": [
      "Noisy: 27041, Clean: 22959\n",
      "Selected samples: 20675 \n",
      "Precision: 0.9823 \n",
      "Recall: 0.8846 \n",
      "Specificity: 0.9865\n",
      "Accuracy: 0.9397 \n",
      "Fraction of clean samples/selected samples: 0.9823\n",
      "Files already downloaded and verified\n",
      "##############\n",
      "[8 9 1 9 3 8 2 7 3 5]\n",
      "[3 2 1 1 3 2 2 7 6 5]\n",
      "Train: 50000 Val: 0\n"
     ]
    },
    {
     "name": "stderr",
     "output_type": "stream",
     "text": [
      "100%|██████████| 500/500 [00:29<00:00, 17.04it/s]\n",
      "100%|██████████| 10/10 [00:17<00:00,  1.69s/it]\n",
      "100%|██████████| 50000/50000 [00:00<00:00, 84837.21it/s]\n",
      "100%|██████████| 500/500 [00:03<00:00, 129.81it/s]\n"
     ]
    },
    {
     "name": "stdout",
     "output_type": "stream",
     "text": [
      "Noisy: 17975, Clean: 32025\n",
      "Selected samples: 30919 \n",
      "Precision: 0.9869 \n",
      "Recall: 0.9528 \n",
      "Specificity: 0.9775\n",
      "Accuracy: 0.9617 \n",
      "Fraction of clean samples/selected samples: 0.9869\n",
      "Files already downloaded and verified\n",
      "##############\n",
      "[3 2 1 1 3 2 2 7 6 5]\n",
      "[3 2 1 1 3 2 2 7 6 5]\n",
      "Train: 50000 Val: 0\n"
     ]
    },
    {
     "name": "stderr",
     "output_type": "stream",
     "text": [
      "100%|██████████| 500/500 [00:41<00:00, 10.06it/s]\n",
      "100%|██████████| 10/10 [00:17<00:00,  1.80s/it]\n",
      "100%|██████████| 50000/50000 [00:00<00:00, 72485.85it/s]\n",
      "100%|██████████| 500/500 [00:04<00:00, 117.78it/s]\n"
     ]
    },
    {
     "name": "stdout",
     "output_type": "stream",
     "text": [
      "Noisy: 2458, Clean: 47542\n",
      "Selected samples: 44931 \n",
      "Precision: 0.9963 \n",
      "Recall: 0.9416 \n",
      "Specificity: 0.9325\n",
      "Accuracy: 0.9411 \n",
      "Fraction of clean samples/selected samples: 0.9963\n",
      "Files already downloaded and verified\n",
      "##############\n",
      "[3 2 1 1 3 0 2 7 6 5]\n",
      "[3 2 1 1 3 2 2 7 6 5]\n",
      "Train: 50000 Val: 0\n"
     ]
    },
    {
     "name": "stderr",
     "output_type": "stream",
     "text": [
      "100%|██████████| 500/500 [00:30<00:00, 14.23it/s]\n",
      "100%|██████████| 10/10 [00:24<00:00,  2.20s/it]\n",
      "100%|██████████| 50000/50000 [00:00<00:00, 83579.91it/s]\n",
      "100%|██████████| 500/500 [00:04<00:00, 115.77it/s]\n"
     ]
    },
    {
     "name": "stdout",
     "output_type": "stream",
     "text": [
      "Noisy: 7020, Clean: 42980\n",
      "Selected samples: 42301 \n",
      "Precision: 0.9526 \n",
      "Recall: 0.9376 \n",
      "Specificity: 0.7144\n",
      "Accuracy: 0.9062 \n",
      "Fraction of clean samples/selected samples: 0.9526\n",
      "Files already downloaded and verified\n",
      "##############\n",
      "[3 2 1 1 3 0 2 7 6 5]\n",
      "[3 2 1 1 3 2 2 7 6 5]\n",
      "Train: 50000 Val: 0\n"
     ]
    },
    {
     "name": "stderr",
     "output_type": "stream",
     "text": [
      "100%|██████████| 500/500 [00:42<00:00, 11.76it/s]\n",
      "100%|██████████| 10/10 [00:21<00:00,  2.03s/it]\n",
      "100%|██████████| 50000/50000 [00:00<00:00, 60094.55it/s]\n",
      "100%|██████████| 500/500 [00:04<00:00, 100.54it/s]\n"
     ]
    },
    {
     "name": "stdout",
     "output_type": "stream",
     "text": [
      "Noisy: 4786, Clean: 45214\n",
      "Selected samples: 42736 \n",
      "Precision: 0.9917 \n",
      "Recall: 0.9374 \n",
      "Specificity: 0.9262\n",
      "Accuracy: 0.9363 \n",
      "Fraction of clean samples/selected samples: 0.9917\n",
      "Files already downloaded and verified\n",
      "##############\n",
      "[8 9 1 9 3 8 3 7 3 5]\n",
      "[3 2 1 1 3 2 2 7 6 5]\n",
      "Train: 50000 Val: 0\n"
     ]
    },
    {
     "name": "stderr",
     "output_type": "stream",
     "text": [
      "100%|██████████| 500/500 [00:26<00:00, 14.26it/s]\n",
      "100%|██████████| 10/10 [00:21<00:00,  2.17s/it]\n",
      "100%|██████████| 50000/50000 [00:00<00:00, 56852.18it/s]\n",
      "100%|██████████| 500/500 [00:04<00:00, 103.29it/s]\n"
     ]
    },
    {
     "name": "stdout",
     "output_type": "stream",
     "text": [
      "Noisy: 27041, Clean: 22959\n",
      "Selected samples: 21718 \n",
      "Precision: 0.967 \n",
      "Recall: 0.9148 \n",
      "Specificity: 0.9735\n",
      "Accuracy: 0.9465 \n",
      "Fraction of clean samples/selected samples: 0.967\n",
      "Files already downloaded and verified\n",
      "##############\n",
      "[3 2 1 1 3 2 2 7 6 5]\n",
      "[3 2 1 1 3 2 2 7 6 5]\n",
      "Train: 50000 Val: 0\n"
     ]
    },
    {
     "name": "stderr",
     "output_type": "stream",
     "text": [
      "100%|██████████| 500/500 [00:39<00:00,  9.61it/s]\n",
      "100%|██████████| 10/10 [00:17<00:00,  1.76s/it]\n",
      "100%|██████████| 50000/50000 [00:00<00:00, 82207.02it/s]\n",
      "100%|██████████| 500/500 [00:04<00:00, 110.79it/s]\n"
     ]
    },
    {
     "name": "stdout",
     "output_type": "stream",
     "text": [
      "Noisy: 2458, Clean: 47542\n",
      "Selected samples: 45035 \n",
      "Precision: 0.9969 \n",
      "Recall: 0.9443 \n",
      "Specificity: 0.943\n",
      "Accuracy: 0.9443 \n",
      "Fraction of clean samples/selected samples: 0.9969\n",
      "Files already downloaded and verified\n",
      "##############\n",
      "[3 9 1 1 3 8 2 7 6 5]\n",
      "[3 2 1 1 3 2 2 7 6 5]\n",
      "Train: 50000 Val: 0\n"
     ]
    },
    {
     "name": "stderr",
     "output_type": "stream",
     "text": [
      "100%|██████████| 500/500 [00:30<00:00, 11.12it/s]\n",
      "100%|██████████| 10/10 [00:19<00:00,  1.88s/it]\n",
      "100%|██████████| 50000/50000 [00:00<00:00, 69430.26it/s]\n",
      "100%|██████████| 500/500 [00:04<00:00, 119.43it/s]\n"
     ]
    },
    {
     "name": "stdout",
     "output_type": "stream",
     "text": [
      "Noisy: 9006, Clean: 40994\n",
      "Selected samples: 39960 \n",
      "Precision: 0.9979 \n",
      "Recall: 0.9728 \n",
      "Specificity: 0.9908\n",
      "Accuracy: 0.976 \n",
      "Fraction of clean samples/selected samples: 0.9979\n",
      "Files already downloaded and verified\n",
      "##############\n",
      "[8 9 1 9 3 8 2 7 3 5]\n",
      "[3 2 1 1 3 2 2 7 6 5]\n",
      "Train: 50000 Val: 0\n"
     ]
    },
    {
     "name": "stderr",
     "output_type": "stream",
     "text": [
      " 40%|████      | 202/500 [00:12<00:26, 11.04it/s]"
     ]
    }
   ],
   "source": [
    "make_pd_list(root = './checkpoint/rn34/', config=config, log_filename = 'c10_n_fine_pretrained_statistics.csv')"
   ]
  },
  {
   "cell_type": "code",
   "execution_count": null,
   "id": "expensive-indianapolis",
   "metadata": {},
   "outputs": [],
   "source": []
  }
 ],
 "metadata": {
  "kernelspec": {
   "display_name": "Python 3",
   "language": "python",
   "name": "python3"
  },
  "language_info": {
   "codemirror_mode": {
    "name": "ipython",
    "version": 3
   },
   "file_extension": ".py",
   "mimetype": "text/x-python",
   "name": "python",
   "nbconvert_exporter": "python",
   "pygments_lexer": "ipython3",
   "version": "3.7.9"
  }
 },
 "nbformat": 4,
 "nbformat_minor": 5
}
