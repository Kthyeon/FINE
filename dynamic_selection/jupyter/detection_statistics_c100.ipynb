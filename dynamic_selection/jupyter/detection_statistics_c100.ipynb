{
 "cells": [
  {
   "cell_type": "code",
   "execution_count": 1,
   "id": "virtual-ireland",
   "metadata": {},
   "outputs": [],
   "source": [
    "import os, sys\n",
    "os.chdir('../')"
   ]
  },
  {
   "cell_type": "code",
   "execution_count": 2,
   "id": "indie-privacy",
   "metadata": {},
   "outputs": [],
   "source": [
    "import argparse\n",
    "import torch\n",
    "from tqdm import tqdm\n",
    "import data_loader.data_loaders as module_data\n",
    "import loss as module_loss\n",
    "import model.metric as module_metric\n",
    "import model.model as module_arch\n",
    "\n",
    "import easydict\n",
    "import torch.nn as nn\n",
    "import torch.nn.functional as F\n",
    "import sys\n",
    "import os\n",
    "import json\n",
    "import random\n",
    "import numpy as np\n",
    "import pandas as pd\n",
    "import seaborn as sns\n",
    "import matplotlib.pyplot as plt \n",
    "\n",
    "import data_loader.data_loaders as module_data\n",
    "import model.model as module_arch\n",
    "\n",
    "from selection.svd_classifier import *\n",
    "from selection.gmm import *\n",
    "from selection.util import *\n",
    "\n",
    "from utils.parse_config import ConfigParser\n",
    "from utils.util import *\n",
    "from utils.args import *"
   ]
  },
  {
   "cell_type": "code",
   "execution_count": 3,
   "id": "later-village",
   "metadata": {},
   "outputs": [],
   "source": [
    "config_file = './hyperparams/multistep/config_cifar100_cce_rn34.json'\n",
    "with open(config_file, 'r') as f:\n",
    "    config = json.load(f)\n",
    "\n",
    "# resume_path = './rn34/multistep_asym_40_elr.pth'"
   ]
  },
  {
   "cell_type": "code",
   "execution_count": 4,
   "id": "rational-pressing",
   "metadata": {},
   "outputs": [],
   "source": [
    "def decode(path):\n",
    "    items = path.split('_')\n",
    "    noisetype = True if items[2]=='asym' else False\n",
    "    noiserate = float(items[3]) * 0.01\n",
    "    \n",
    "    return noisetype, noiserate, items[4].split('.')[0]"
   ]
  },
  {
   "cell_type": "code",
   "execution_count": 5,
   "id": "white-virtue",
   "metadata": {},
   "outputs": [],
   "source": [
    "def make_parse(resume_path, config, noise_rate, noisetype):\n",
    "    parse = easydict.EasyDict({\n",
    "    \"load_name\" : resume_path,\n",
    "    \"reinit\": False,\n",
    "    \"distill_mode\": 'fine-kmeans'\n",
    "    })\n",
    "    \n",
    "    config['trainer']['percent'] = noise_rate\n",
    "    config['trainer']['asym'] = noisetype\n",
    "    \n",
    "    return parse, config"
   ]
  },
  {
   "cell_type": "code",
   "execution_count": 10,
   "id": "rolled-african",
   "metadata": {},
   "outputs": [],
   "source": [
    "def return_statistics(dataloader, clean_labels, datanum):\n",
    "    predict = np.zeros(datanum)\n",
    "    for idx in clean_labels: predict[idx] = 1\n",
    "        \n",
    "    isNoisy_list = compute_noiseratio(dataloader)\n",
    "    r_stats = []\n",
    "    \n",
    "    tp = (isNoisy_list[predict==1]==1).sum() # positive clean\n",
    "    tn = (isNoisy_list[predict==0]==0).sum() # negative noisy\n",
    "    fp = (isNoisy_list==0).sum() - tn\n",
    "    fn = (isNoisy_list==1).sum() - tp\n",
    "    \n",
    "    print('Noisy: {}, Clean: {}'.format((isNoisy_list==0).sum(), (isNoisy_list==1).sum()))\n",
    "    precision = tp / (tp + fp)\n",
    "    recall = tp / (tp + fn)\n",
    "    specificity = tn / (tn + fp)\n",
    "    accuracy = (tp + tn) / (tp + tn + fp + fn)\n",
    "    sel_samples = int(fp + tp)\n",
    "    frac_clean = tp / (fp + tp)\n",
    "    F1 =  tp / (tp + (fp + fn)/2)\n",
    "\n",
    "    r_stats.extend([sel_samples, round(precision, 4), round(recall, 4), round(specificity, 4), round(accuracy, 4), round(frac_clean, 4)])\n",
    "    print('Selected samples: {} \\nPrecision: {} \\nRecall: {} \\nSpecificity: {}\\nAccuracy: {} \\nFraction of clean samples/selected samples: {}'.format(r_stats[0], r_stats[1], r_stats[2], r_stats[3], r_stats[4], r_stats[5]))\n",
    "    \n",
    "    return r_stats[0], r_stats[1], r_stats[2], r_stats[3], r_stats[4], F1"
   ]
  },
  {
   "cell_type": "code",
   "execution_count": 7,
   "id": "beginning-eating",
   "metadata": {},
   "outputs": [],
   "source": [
    "def extract_cleanidx(teacher, data_loader, parse, print_statistics = True):\n",
    "    teacher.load_state_dict(torch.load('./checkpoint/' + parse.load_name)['state_dict'])\n",
    "    teacher = teacher.cuda()\n",
    "\n",
    "    if not parse.reinit: teacher.load_state_dict(torch.load('./checkpoint/' + parse.load_name)['state_dict'])\n",
    "    for params in teacher.parameters(): params.requires_grad = False\n",
    "    \n",
    "    if 'fine' in parse.distill_mode:\n",
    "        features, labels = get_features(teacher, data_loader)\n",
    "        clean_labels = fine(current_features=features, current_labels=labels, fit = parse.distill_mode)\n",
    "    elif 'loss' in parse.distill_mode:\n",
    "        clean_labels, labels = cleansing_loss(teacher, data_loader)\n",
    "    else:\n",
    "        raise NotImplemented \n",
    "    if print_statistics: \n",
    "        selected, precision, recall, specificity, accuracy, F1 = return_statistics(data_loader, clean_labels, datanum=len(labels))\n",
    "    \n",
    "    return selected, precision, recall, specificity, accuracy, F1"
   ]
  },
  {
   "cell_type": "code",
   "execution_count": 8,
   "id": "natural-drive",
   "metadata": {},
   "outputs": [],
   "source": [
    "def make_pd_list(root, config, log_filename):\n",
    "    random.seed(config['seed'])\n",
    "    torch.manual_seed(config['seed'])\n",
    "    torch.cuda.manual_seed_all(config['seed'])\n",
    "    torch.backends.cudnn.deterministic = True\n",
    "    np.random.seed(config['seed'])\n",
    "    \n",
    "    # load checkpoint path\n",
    "    pathlist = os.listdir(root)\n",
    "    pathlist = [path for path in pathlist if 'c100' in path]\n",
    "#     pathlist = [path for path in pathlist if ('.pth' in path) and ('eigen' not in path) and ('kmeans' not in path) and ('c100') not in path]\n",
    "    \n",
    "    # initialize model\n",
    "    model = module_arch.resnet34(num_classes=100)\n",
    "    \n",
    "    # make pandas file\n",
    "    logcolumns = ['noisetype', 'noiserate', 'lossfunction', 'selected', 'precision', 'recall', 'specificity', 'accuracy', 'F1']\n",
    "    log_pd = pd.DataFrame(np.zeros([len(pathlist), len(logcolumns)]), columns = logcolumns)\n",
    "    \n",
    "    # write pandas file\n",
    "    noisetypelst = ['']\n",
    "    for i in range(len(pathlist)):\n",
    "        noisetype, noiserate, lossfunction = decode(pathlist[i])\n",
    "        parse, config = make_parse('./rn34/' + pathlist[i], config, noiserate, noisetype)\n",
    "        \n",
    "        # load original dataloader\n",
    "        data_loader = getattr(module_data, config['data_loader']['type'])(\n",
    "        config['data_loader']['args']['data_dir'],\n",
    "        batch_size= 100,\n",
    "        shuffle=False,\n",
    "        validation_split=0.0,\n",
    "        num_batches=config['data_loader']['args']['num_batches'],\n",
    "        training=True,\n",
    "        num_workers=config['data_loader']['args']['num_workers'],\n",
    "        pin_memory=config['data_loader']['args']['pin_memory'],\n",
    "        config=config)\n",
    "        \n",
    "        selected, precision, recall, specificity, accuracy, F1 = extract_cleanidx(model, data_loader, parse)\n",
    "        log_pd.loc[i] = [str(noisetype), str(noiserate), lossfunction, selected, precision, recall, specificity, accuracy, F1]\n",
    "        log_pd.to_csv(log_filename)\n",
    "        \n",
    "    return log_pd"
   ]
  },
  {
   "cell_type": "code",
   "execution_count": null,
   "id": "addressed-offer",
   "metadata": {},
   "outputs": [
    {
     "name": "stdout",
     "output_type": "stream",
     "text": [
      "Files already downloaded and verified\n",
      "Train: 50000 Val: 0\n"
     ]
    },
    {
     "name": "stderr",
     "output_type": "stream",
     "text": [
      "100%|██████████| 500/500 [00:31<00:00, 16.02it/s]\n",
      "100%|██████████| 100/100 [00:09<00:00, 10.25it/s]\n",
      "100%|██████████| 50000/50000 [00:00<00:00, 60268.81it/s]\n",
      "100%|██████████| 500/500 [00:05<00:00, 105.49it/s]\n"
     ]
    },
    {
     "name": "stdout",
     "output_type": "stream",
     "text": [
      "Noisy: 9993, Clean: 40007\n",
      "Selected samples: 37441 \n",
      "Precision: 0.9972 \n",
      "Recall: 0.9333 \n",
      "Specificity: 0.9896\n",
      "Accuracy: 0.9445 \n",
      "Fraction of clean samples/selected samples: 0.9972\n",
      "Files already downloaded and verified\n",
      "Train: 50000 Val: 0\n"
     ]
    },
    {
     "name": "stderr",
     "output_type": "stream",
     "text": [
      "100%|██████████| 500/500 [00:24<00:00, 14.58it/s]\n",
      "100%|██████████| 100/100 [00:07<00:00, 13.92it/s]\n",
      "100%|██████████| 50000/50000 [00:00<00:00, 103425.98it/s]\n",
      "100%|██████████| 500/500 [00:04<00:00, 117.35it/s]\n"
     ]
    },
    {
     "name": "stdout",
     "output_type": "stream",
     "text": [
      "Noisy: 9993, Clean: 40007\n",
      "Selected samples: 37174 \n",
      "Precision: 0.9838 \n",
      "Recall: 0.9141 \n",
      "Specificity: 0.9396\n",
      "Accuracy: 0.9192 \n",
      "Fraction of clean samples/selected samples: 0.9838\n",
      "Files already downloaded and verified\n",
      "Train: 50000 Val: 0\n"
     ]
    },
    {
     "name": "stderr",
     "output_type": "stream",
     "text": [
      "100%|██████████| 500/500 [00:38<00:00, 12.92it/s]\n",
      "100%|██████████| 100/100 [00:07<00:00, 14.92it/s]\n",
      "100%|██████████| 50000/50000 [00:00<00:00, 114075.96it/s]\n",
      "100%|██████████| 500/500 [00:04<00:00, 107.90it/s]\n"
     ]
    },
    {
     "name": "stdout",
     "output_type": "stream",
     "text": [
      "Noisy: 9905, Clean: 40095\n",
      "Selected samples: 35565 \n",
      "Precision: 0.9491 \n",
      "Recall: 0.8419 \n",
      "Specificity: 0.8173\n",
      "Accuracy: 0.837 \n",
      "Fraction of clean samples/selected samples: 0.9491\n",
      "Files already downloaded and verified\n",
      "Train: 50000 Val: 0\n"
     ]
    },
    {
     "name": "stderr",
     "output_type": "stream",
     "text": [
      "100%|██████████| 500/500 [00:31<00:00, 13.37it/s]\n",
      "100%|██████████| 100/100 [00:08<00:00, 12.61it/s]\n",
      "100%|██████████| 50000/50000 [00:00<00:00, 78289.16it/s]\n",
      "100%|██████████| 500/500 [00:04<00:00, 110.46it/s]\n"
     ]
    },
    {
     "name": "stdout",
     "output_type": "stream",
     "text": [
      "Noisy: 14857, Clean: 35143\n",
      "Selected samples: 32598 \n",
      "Precision: 0.9301 \n",
      "Recall: 0.8627 \n",
      "Specificity: 0.8465\n",
      "Accuracy: 0.8579 \n",
      "Fraction of clean samples/selected samples: 0.9301\n",
      "Files already downloaded and verified\n",
      "Train: 50000 Val: 0\n"
     ]
    },
    {
     "name": "stderr",
     "output_type": "stream",
     "text": [
      "100%|██████████| 500/500 [00:36<00:00, 11.03it/s]\n",
      "100%|██████████| 100/100 [00:07<00:00, 13.85it/s]\n",
      "100%|██████████| 50000/50000 [00:00<00:00, 97406.22it/s] \n",
      "100%|██████████| 500/500 [00:04<00:00, 121.36it/s]\n"
     ]
    },
    {
     "name": "stdout",
     "output_type": "stream",
     "text": [
      "Noisy: 19856, Clean: 30144\n",
      "Selected samples: 28841 \n",
      "Precision: 0.7914 \n",
      "Recall: 0.7572 \n",
      "Specificity: 0.697\n",
      "Accuracy: 0.7333 \n",
      "Fraction of clean samples/selected samples: 0.7914\n",
      "Files already downloaded and verified\n",
      "Train: 50000 Val: 0\n"
     ]
    },
    {
     "name": "stderr",
     "output_type": "stream",
     "text": [
      "100%|██████████| 500/500 [00:41<00:00,  9.45it/s]\n",
      "100%|██████████| 100/100 [00:07<00:00, 13.13it/s]\n",
      "100%|██████████| 50000/50000 [00:00<00:00, 83445.12it/s]\n",
      "100%|██████████| 500/500 [00:04<00:00, 118.50it/s]\n"
     ]
    },
    {
     "name": "stdout",
     "output_type": "stream",
     "text": [
      "Noisy: 14857, Clean: 35143\n",
      "Selected samples: 31463 \n",
      "Precision: 0.9556 \n",
      "Recall: 0.8556 \n",
      "Specificity: 0.906\n",
      "Accuracy: 0.8706 \n",
      "Fraction of clean samples/selected samples: 0.9556\n",
      "Files already downloaded and verified\n",
      "Train: 50000 Val: 0\n"
     ]
    },
    {
     "name": "stderr",
     "output_type": "stream",
     "text": [
      "100%|██████████| 500/500 [00:22<00:00, 22.03it/s]\n",
      "100%|██████████| 100/100 [00:07<00:00, 14.39it/s]\n",
      "100%|██████████| 50000/50000 [00:00<00:00, 72596.13it/s]\n",
      "100%|██████████| 500/500 [00:04<00:00, 103.16it/s]\n"
     ]
    },
    {
     "name": "stdout",
     "output_type": "stream",
     "text": [
      "Noisy: 19856, Clean: 30144\n",
      "Selected samples: 31697 \n",
      "Precision: 0.7314 \n",
      "Recall: 0.7691 \n",
      "Specificity: 0.5712\n",
      "Accuracy: 0.6905 \n",
      "Fraction of clean samples/selected samples: 0.7314\n",
      "Files already downloaded and verified\n",
      "Train: 50000 Val: 0\n"
     ]
    },
    {
     "name": "stderr",
     "output_type": "stream",
     "text": [
      "100%|██████████| 500/500 [00:30<00:00, 13.79it/s]\n",
      "100%|██████████| 100/100 [00:07<00:00, 14.82it/s]\n",
      "100%|██████████| 50000/50000 [00:00<00:00, 91061.35it/s] \n",
      "100%|██████████| 500/500 [00:05<00:00, 98.46it/s] \n"
     ]
    },
    {
     "name": "stdout",
     "output_type": "stream",
     "text": [
      "Noisy: 29703, Clean: 20297\n",
      "Selected samples: 28910 \n",
      "Precision: 0.6517 \n",
      "Recall: 0.9283 \n",
      "Specificity: 0.661\n",
      "Accuracy: 0.7695 \n",
      "Fraction of clean samples/selected samples: 0.6517\n",
      "Files already downloaded and verified\n",
      "Train: 50000 Val: 0\n"
     ]
    },
    {
     "name": "stderr",
     "output_type": "stream",
     "text": [
      "100%|██████████| 500/500 [00:40<00:00, 12.42it/s]\n",
      "100%|██████████| 100/100 [00:08<00:00, 11.72it/s]\n",
      "100%|██████████| 50000/50000 [00:00<00:00, 60051.91it/s]\n",
      "100%|██████████| 500/500 [00:04<00:00, 100.33it/s]\n"
     ]
    },
    {
     "name": "stdout",
     "output_type": "stream",
     "text": [
      "Noisy: 39597, Clean: 10403\n",
      "Selected samples: 20358 \n",
      "Precision: 0.4501 \n",
      "Recall: 0.8808 \n",
      "Specificity: 0.7173\n",
      "Accuracy: 0.7513 \n",
      "Fraction of clean samples/selected samples: 0.4501\n",
      "Files already downloaded and verified\n",
      "Train: 50000 Val: 0\n"
     ]
    },
    {
     "name": "stderr",
     "output_type": "stream",
     "text": [
      "100%|██████████| 500/500 [00:29<00:00, 16.88it/s]\n",
      "100%|██████████| 100/100 [00:07<00:00, 12.53it/s]\n",
      "100%|██████████| 50000/50000 [00:00<00:00, 76221.52it/s]\n",
      "100%|██████████| 500/500 [00:04<00:00, 113.36it/s]\n"
     ]
    },
    {
     "name": "stdout",
     "output_type": "stream",
     "text": [
      "Noisy: 4969, Clean: 45031\n",
      "Selected samples: 37850 \n",
      "Precision: 0.9999 \n",
      "Recall: 0.8404 \n",
      "Specificity: 0.9992\n",
      "Accuracy: 0.8562 \n",
      "Fraction of clean samples/selected samples: 0.9999\n",
      "Files already downloaded and verified\n",
      "Train: 50000 Val: 0\n"
     ]
    },
    {
     "name": "stderr",
     "output_type": "stream",
     "text": [
      "100%|██████████| 500/500 [00:42<00:00, 11.79it/s]\n",
      "100%|██████████| 100/100 [00:07<00:00, 15.09it/s]\n",
      "100%|██████████| 50000/50000 [00:00<00:00, 81610.68it/s]\n",
      "100%|██████████| 500/500 [00:04<00:00, 116.80it/s]\n"
     ]
    },
    {
     "name": "stdout",
     "output_type": "stream",
     "text": [
      "Noisy: 29703, Clean: 20297\n",
      "Selected samples: 24285 \n",
      "Precision: 0.771 \n",
      "Recall: 0.9225 \n",
      "Specificity: 0.8127\n",
      "Accuracy: 0.8573 \n",
      "Fraction of clean samples/selected samples: 0.771\n",
      "Files already downloaded and verified\n",
      "Train: 50000 Val: 0\n"
     ]
    },
    {
     "name": "stderr",
     "output_type": "stream",
     "text": [
      "100%|██████████| 500/500 [00:36<00:00, 13.78it/s]\n",
      "100%|██████████| 100/100 [00:09<00:00, 10.84it/s]\n",
      "100%|██████████| 50000/50000 [00:00<00:00, 81607.66it/s]\n",
      "100%|██████████| 500/500 [00:04<00:00, 110.58it/s]\n"
     ]
    },
    {
     "name": "stdout",
     "output_type": "stream",
     "text": [
      "Noisy: 19797, Clean: 30203\n",
      "Selected samples: 28494 \n",
      "Precision: 0.9682 \n",
      "Recall: 0.9134 \n",
      "Specificity: 0.9542\n",
      "Accuracy: 0.9295 \n",
      "Fraction of clean samples/selected samples: 0.9682\n",
      "Files already downloaded and verified\n",
      "Train: 50000 Val: 0\n"
     ]
    },
    {
     "name": "stderr",
     "output_type": "stream",
     "text": [
      "100%|██████████| 500/500 [00:27<00:00, 18.37it/s]\n",
      "100%|██████████| 100/100 [00:07<00:00, 10.89it/s]\n",
      "100%|██████████| 50000/50000 [00:00<00:00, 66336.29it/s]\n",
      "100%|██████████| 500/500 [00:04<00:00, 104.09it/s]\n"
     ]
    },
    {
     "name": "stdout",
     "output_type": "stream",
     "text": [
      "Noisy: 4969, Clean: 45031\n",
      "Selected samples: 42437 \n",
      "Precision: 0.9994 \n",
      "Recall: 0.9418 \n",
      "Specificity: 0.995\n",
      "Accuracy: 0.9471 \n",
      "Fraction of clean samples/selected samples: 0.9994\n",
      "Files already downloaded and verified\n",
      "Train: 50000 Val: 0\n"
     ]
    },
    {
     "name": "stderr",
     "output_type": "stream",
     "text": [
      "100%|██████████| 500/500 [00:35<00:00, 12.74it/s]\n",
      "100%|██████████| 100/100 [00:07<00:00, 13.39it/s]\n",
      "100%|██████████| 50000/50000 [00:00<00:00, 86719.59it/s]\n",
      "100%|██████████| 500/500 [00:04<00:00, 124.12it/s]\n"
     ]
    },
    {
     "name": "stdout",
     "output_type": "stream",
     "text": [
      "Noisy: 19797, Clean: 30203\n",
      "Selected samples: 30160 \n",
      "Precision: 0.9518 \n",
      "Recall: 0.9504 \n",
      "Specificity: 0.9266\n",
      "Accuracy: 0.941 \n",
      "Fraction of clean samples/selected samples: 0.9518\n",
      "Files already downloaded and verified\n",
      "Train: 50000 Val: 0\n"
     ]
    },
    {
     "name": "stderr",
     "output_type": "stream",
     "text": [
      "100%|██████████| 500/500 [00:30<00:00, 16.37it/s]\n",
      "100%|██████████| 100/100 [00:07<00:00, 11.10it/s]\n",
      "100%|██████████| 50000/50000 [00:00<00:00, 73368.94it/s]\n",
      "100%|██████████| 500/500 [00:04<00:00, 106.27it/s]\n"
     ]
    },
    {
     "name": "stdout",
     "output_type": "stream",
     "text": [
      "Noisy: 14857, Clean: 35143\n",
      "Selected samples: 31936 \n",
      "Precision: 0.9874 \n",
      "Recall: 0.8973 \n",
      "Specificity: 0.9729\n",
      "Accuracy: 0.9198 \n",
      "Fraction of clean samples/selected samples: 0.9874\n",
      "Files already downloaded and verified\n",
      "Train: 50000 Val: 0\n"
     ]
    },
    {
     "name": "stderr",
     "output_type": "stream",
     "text": [
      "100%|██████████| 500/500 [00:36<00:00, 12.72it/s]\n",
      "100%|██████████| 100/100 [00:07<00:00, 13.22it/s]\n",
      "100%|██████████| 50000/50000 [00:00<00:00, 90509.69it/s]\n",
      "100%|██████████| 500/500 [00:05<00:00, 88.20it/s]\n"
     ]
    },
    {
     "name": "stdout",
     "output_type": "stream",
     "text": [
      "Noisy: 4969, Clean: 45031\n",
      "Selected samples: 42584 \n",
      "Precision: 0.9988 \n",
      "Recall: 0.9445 \n",
      "Specificity: 0.9899\n",
      "Accuracy: 0.9491 \n",
      "Fraction of clean samples/selected samples: 0.9988\n",
      "Files already downloaded and verified\n",
      "Train: 50000 Val: 0\n"
     ]
    },
    {
     "name": "stderr",
     "output_type": "stream",
     "text": [
      "100%|██████████| 500/500 [00:45<00:00, 11.09it/s]\n",
      "100%|██████████| 100/100 [00:09<00:00, 10.56it/s]\n",
      "100%|██████████| 50000/50000 [00:00<00:00, 70795.92it/s] \n",
      "100%|██████████| 500/500 [00:04<00:00, 116.44it/s]\n"
     ]
    },
    {
     "name": "stdout",
     "output_type": "stream",
     "text": [
      "Noisy: 9905, Clean: 40095\n",
      "Selected samples: 39132 \n",
      "Precision: 0.9844 \n",
      "Recall: 0.9608 \n",
      "Specificity: 0.9384\n",
      "Accuracy: 0.9563 \n",
      "Fraction of clean samples/selected samples: 0.9844\n",
      "Files already downloaded and verified\n",
      "Train: 50000 Val: 0\n"
     ]
    },
    {
     "name": "stderr",
     "output_type": "stream",
     "text": [
      "100%|██████████| 500/500 [00:29<00:00, 17.03it/s]\n",
      "100%|██████████| 100/100 [00:08<00:00, 12.44it/s]\n",
      "100%|██████████| 50000/50000 [00:00<00:00, 76433.79it/s]\n",
      "100%|██████████| 500/500 [00:04<00:00, 107.47it/s]\n"
     ]
    },
    {
     "name": "stdout",
     "output_type": "stream",
     "text": [
      "Noisy: 9993, Clean: 40007\n",
      "Selected samples: 36944 \n",
      "Precision: 0.9898 \n",
      "Recall: 0.9141 \n",
      "Specificity: 0.9625\n",
      "Accuracy: 0.9237 \n",
      "Fraction of clean samples/selected samples: 0.9898\n",
      "Files already downloaded and verified\n",
      "Train: 50000 Val: 0\n"
     ]
    },
    {
     "name": "stderr",
     "output_type": "stream",
     "text": [
      "100%|██████████| 500/500 [00:37<00:00,  9.31it/s]\n",
      "100%|██████████| 100/100 [00:07<00:00, 13.05it/s]\n",
      "100%|██████████| 50000/50000 [00:00<00:00, 95166.55it/s] \n",
      "100%|██████████| 500/500 [00:04<00:00, 123.25it/s]\n"
     ]
    },
    {
     "name": "stdout",
     "output_type": "stream",
     "text": [
      "Noisy: 19856, Clean: 30144\n",
      "Selected samples: 28525 \n",
      "Precision: 0.8884 \n",
      "Recall: 0.8407 \n",
      "Specificity: 0.8397\n",
      "Accuracy: 0.8403 \n",
      "Fraction of clean samples/selected samples: 0.8884\n",
      "Files already downloaded and verified\n",
      "Train: 50000 Val: 0\n"
     ]
    },
    {
     "name": "stderr",
     "output_type": "stream",
     "text": [
      "100%|██████████| 500/500 [00:28<00:00, 18.61it/s]\n",
      "100%|██████████| 100/100 [00:09<00:00, 10.33it/s]\n",
      "100%|██████████| 50000/50000 [00:00<00:00, 76381.45it/s]\n",
      "100%|██████████| 500/500 [00:05<00:00, 88.17it/s] \n"
     ]
    },
    {
     "name": "stdout",
     "output_type": "stream",
     "text": [
      "Noisy: 19797, Clean: 30203\n",
      "Selected samples: 29532 \n",
      "Precision: 0.9377 \n",
      "Recall: 0.9169 \n",
      "Specificity: 0.9071\n",
      "Accuracy: 0.913 \n",
      "Fraction of clean samples/selected samples: 0.9377\n",
      "Files already downloaded and verified\n",
      "Train: 50000 Val: 0\n"
     ]
    },
    {
     "name": "stderr",
     "output_type": "stream",
     "text": [
      "100%|██████████| 500/500 [00:30<00:00, 16.34it/s]\n",
      "100%|██████████| 100/100 [00:08<00:00,  9.38it/s]\n",
      "100%|██████████| 50000/50000 [00:00<00:00, 92325.32it/s] \n",
      "100%|██████████| 500/500 [00:05<00:00, 99.47it/s] \n"
     ]
    },
    {
     "name": "stdout",
     "output_type": "stream",
     "text": [
      "Noisy: 39597, Clean: 10403\n",
      "Selected samples: 27976 \n",
      "Precision: 0.3172 \n",
      "Recall: 0.853 \n",
      "Specificity: 0.5176\n",
      "Accuracy: 0.5874 \n",
      "Fraction of clean samples/selected samples: 0.3172\n",
      "Files already downloaded and verified\n",
      "Train: 50000 Val: 0\n"
     ]
    },
    {
     "name": "stderr",
     "output_type": "stream",
     "text": [
      "100%|██████████| 500/500 [00:41<00:00, 12.14it/s]\n",
      "100%|██████████| 100/100 [00:07<00:00, 13.25it/s]\n",
      "100%|██████████| 50000/50000 [00:00<00:00, 99548.20it/s] \n",
      "100%|██████████| 500/500 [00:04<00:00, 109.35it/s]\n"
     ]
    },
    {
     "name": "stdout",
     "output_type": "stream",
     "text": [
      "Noisy: 14857, Clean: 35143\n",
      "Selected samples: 28934 \n",
      "Precision: 0.9968 \n",
      "Recall: 0.8207 \n",
      "Specificity: 0.9938\n",
      "Accuracy: 0.8721 \n",
      "Fraction of clean samples/selected samples: 0.9968\n",
      "Files already downloaded and verified\n",
      "Train: 50000 Val: 0\n"
     ]
    },
    {
     "name": "stderr",
     "output_type": "stream",
     "text": [
      "100%|██████████| 500/500 [00:31<00:00, 16.02it/s]\n",
      "100%|██████████| 100/100 [00:08<00:00, 12.38it/s]\n",
      "100%|██████████| 50000/50000 [00:00<00:00, 79478.61it/s] \n",
      "100%|██████████| 500/500 [00:04<00:00, 111.16it/s]\n"
     ]
    },
    {
     "name": "stdout",
     "output_type": "stream",
     "text": [
      "Noisy: 19856, Clean: 30144\n",
      "Selected samples: 29716 \n",
      "Precision: 0.827 \n",
      "Recall: 0.8153 \n",
      "Specificity: 0.7411\n",
      "Accuracy: 0.7858 \n",
      "Fraction of clean samples/selected samples: 0.827\n",
      "Files already downloaded and verified\n",
      "Train: 50000 Val: 0\n"
     ]
    },
    {
     "name": "stderr",
     "output_type": "stream",
     "text": [
      "100%|██████████| 500/500 [00:42<00:00, 11.76it/s]\n",
      "100%|██████████| 100/100 [00:08<00:00, 13.16it/s]\n",
      "100%|██████████| 50000/50000 [00:00<00:00, 82704.56it/s] \n",
      "100%|██████████| 500/500 [00:04<00:00, 113.18it/s]\n"
     ]
    },
    {
     "name": "stdout",
     "output_type": "stream",
     "text": [
      "Noisy: 29703, Clean: 20297\n",
      "Selected samples: 22816 \n",
      "Precision: 0.8054 \n",
      "Recall: 0.9054 \n",
      "Specificity: 0.8505\n",
      "Accuracy: 0.8728 \n",
      "Fraction of clean samples/selected samples: 0.8054\n",
      "Files already downloaded and verified\n",
      "Train: 50000 Val: 0\n"
     ]
    },
    {
     "name": "stderr",
     "output_type": "stream",
     "text": [
      "100%|██████████| 500/500 [00:26<00:00, 18.63it/s]\n",
      "100%|██████████| 100/100 [00:08<00:00, 14.05it/s]\n",
      "100%|██████████| 50000/50000 [00:00<00:00, 72049.80it/s]\n",
      "100%|██████████| 500/500 [00:04<00:00, 106.53it/s]\n"
     ]
    },
    {
     "name": "stdout",
     "output_type": "stream",
     "text": [
      "Noisy: 19797, Clean: 30203\n",
      "Selected samples: 29452 \n",
      "Precision: 0.9488 \n",
      "Recall: 0.9252 \n",
      "Specificity: 0.9238\n",
      "Accuracy: 0.9246 \n",
      "Fraction of clean samples/selected samples: 0.9488\n",
      "Files already downloaded and verified\n",
      "Train: 50000 Val: 0\n"
     ]
    },
    {
     "name": "stderr",
     "output_type": "stream",
     "text": [
      "100%|██████████| 500/500 [00:25<00:00, 19.90it/s]\n",
      "100%|██████████| 100/100 [00:09<00:00, 13.66it/s]\n",
      "100%|██████████| 50000/50000 [00:00<00:00, 72918.14it/s] \n",
      "100%|██████████| 500/500 [00:04<00:00, 106.72it/s]\n"
     ]
    },
    {
     "name": "stdout",
     "output_type": "stream",
     "text": [
      "Noisy: 39597, Clean: 10403\n",
      "Selected samples: 27181 \n",
      "Precision: 0.321 \n",
      "Recall: 0.8386 \n",
      "Specificity: 0.5339\n",
      "Accuracy: 0.5973 \n",
      "Fraction of clean samples/selected samples: 0.321\n",
      "Files already downloaded and verified\n",
      "Train: 50000 Val: 0\n"
     ]
    },
    {
     "name": "stderr",
     "output_type": "stream",
     "text": [
      "100%|██████████| 500/500 [00:39<00:00, 12.74it/s]\n",
      "100%|██████████| 100/100 [00:08<00:00, 11.37it/s]\n",
      "100%|██████████| 50000/50000 [00:00<00:00, 55961.06it/s]\n",
      "100%|██████████| 500/500 [00:05<00:00, 116.42it/s]\n"
     ]
    },
    {
     "name": "stdout",
     "output_type": "stream",
     "text": [
      "Noisy: 29703, Clean: 20297\n",
      "Selected samples: 22034 \n",
      "Precision: 0.8561 \n",
      "Recall: 0.9293 \n",
      "Specificity: 0.8932\n",
      "Accuracy: 0.9079 \n",
      "Fraction of clean samples/selected samples: 0.8561\n",
      "Files already downloaded and verified\n",
      "Train: 50000 Val: 0\n"
     ]
    },
    {
     "name": "stderr",
     "output_type": "stream",
     "text": [
      "100%|██████████| 500/500 [00:28<00:00, 19.53it/s]\n",
      "100%|██████████| 100/100 [00:08<00:00, 11.69it/s]\n",
      "100%|██████████| 50000/50000 [00:00<00:00, 64309.08it/s]\n",
      "100%|██████████| 500/500 [00:04<00:00, 115.17it/s]\n"
     ]
    },
    {
     "name": "stdout",
     "output_type": "stream",
     "text": [
      "Noisy: 4969, Clean: 45031\n",
      "Selected samples: 42859 \n",
      "Precision: 0.9957 \n",
      "Recall: 0.9477 \n",
      "Specificity: 0.9632\n",
      "Accuracy: 0.9492 \n",
      "Fraction of clean samples/selected samples: 0.9957\n",
      "Files already downloaded and verified\n",
      "Train: 50000 Val: 0\n"
     ]
    },
    {
     "name": "stderr",
     "output_type": "stream",
     "text": [
      " 49%|████▊     | 243/500 [00:20<00:23, 11.04it/s]"
     ]
    }
   ],
   "source": [
    "make_pd_list(root = './checkpoint/rn34/', config=config, log_filename = 'c100_n_fine_pretrained_statistics.csv')"
   ]
  },
  {
   "cell_type": "code",
   "execution_count": null,
   "id": "affecting-compensation",
   "metadata": {},
   "outputs": [],
   "source": []
  }
 ],
 "metadata": {
  "kernelspec": {
   "display_name": "Python 3",
   "language": "python",
   "name": "python3"
  },
  "language_info": {
   "codemirror_mode": {
    "name": "ipython",
    "version": 3
   },
   "file_extension": ".py",
   "mimetype": "text/x-python",
   "name": "python",
   "nbconvert_exporter": "python",
   "pygments_lexer": "ipython3",
   "version": "3.7.9"
  }
 },
 "nbformat": 4,
 "nbformat_minor": 5
}
