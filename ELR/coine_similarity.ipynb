{
 "cells": [
  {
   "cell_type": "code",
   "execution_count": 1,
   "metadata": {},
   "outputs": [
    {
     "name": "stderr",
     "output_type": "stream",
     "text": [
      "/home/jongwooko/anaconda3/lib/python3.7/site-packages/wandb/util.py:37: DeprecationWarning: Using or importing the ABCs from 'collections' instead of from 'collections.abc' is deprecated since Python 3.3,and in 3.9 it will stop working\n",
      "  from collections import namedtuple, Mapping, Sequence\n",
      "/home/jongwooko/anaconda3/lib/python3.7/site-packages/wandb/vendor/graphql-core-1.1/graphql/type/directives.py:55: DeprecationWarning: Using or importing the ABCs from 'collections' instead of from 'collections.abc' is deprecated since Python 3.3,and in 3.9 it will stop working\n",
      "  assert isinstance(locations, collections.Iterable), 'Must provide locations for directive.'\n"
     ]
    }
   ],
   "source": [
    "import argparse, collections, sys, requests, socket, torch, mlflow, mlflow.pytorch, random, copy\n",
    "import json\n",
    "import numpy as np\n",
    "import data_loader.data_loaders as module_data\n",
    "import loss as module_loss\n",
    "import model.metric as module_metric\n",
    "import model.model as module_arch\n",
    "\n",
    "from tqdm import tqdm\n",
    "from parse_config import ConfigParser\n",
    "from trainer import DefaultTrainer, TruncatedTrainer, GroundTruthTrainer\n",
    "from collections import OrderedDict\n",
    "from trainer.svd_classifier import iterative_eigen, get_out_list, get_singular_value_vector, get_loss_list, isNoisy_ratio"
   ]
  },
  {
   "cell_type": "code",
   "execution_count": 2,
   "metadata": {},
   "outputs": [
    {
     "data": {
      "text/plain": [
       "<All keys matched successfully>"
      ]
     },
     "execution_count": 2,
     "metadata": {},
     "output_type": "execute_result"
    }
   ],
   "source": [
    "config_file = './hyperparams/multistep/config_cifar10_elr_rn34.json'\n",
    "with open(config_file, 'r') as f:\n",
    "    config = json.load(f)\n",
    "    \n",
    "resume_path = './checkpoint/multistep_sym_60_elr.pth'\n",
    "base_model = getattr(module_arch, config['arch']['type'])()\n",
    "checkpoint = torch.load(resume_path)\n",
    "state_dict = checkpoint['state_dict']\n",
    "base_model.load_state_dict(state_dict)"
   ]
  },
  {
   "cell_type": "code",
   "execution_count": 3,
   "metadata": {},
   "outputs": [],
   "source": [
    "config['trainer']['percent'] = 0.6\n",
    "config['trainer']['asym'] = False"
   ]
  },
  {
   "cell_type": "code",
   "execution_count": 4,
   "metadata": {
    "scrolled": true
   },
   "outputs": [
    {
     "data": {
      "text/plain": [
       "{'name': 'cifar10_resnet34_multistep',\n",
       " 'n_gpu': 1,\n",
       " 'seed': 123,\n",
       " 'arch': {'type': 'resnet34', 'args': {'num_classes': 10}},\n",
       " 'num_classes': 10,\n",
       " 'data_loader': {'type': 'CIFAR10DataLoader',\n",
       "  'args': {'data_dir': './dir_to_data',\n",
       "   'batch_size': 128,\n",
       "   'shuffle': True,\n",
       "   'num_batches': 0,\n",
       "   'validation_split': 0,\n",
       "   'num_workers': 8,\n",
       "   'pin_memory': True}},\n",
       " 'optimizer': {'type': 'SGD',\n",
       "  'args': {'lr': 0.02, 'momentum': 0.9, 'weight_decay': 0.001}},\n",
       " 'train_loss': {'type': 'ELRLoss', 'args': {'beta': 0.7, 'lambda': 3}},\n",
       " 'val_loss': 'CrossEntropyLoss',\n",
       " 'metrics': ['my_metric', 'my_metric2'],\n",
       " 'lr_scheduler': {'type': 'MultiStepLR',\n",
       "  'args': {'milestones': [40, 80], 'gamma': 0.01}},\n",
       " 'trainer': {'epochs': 120,\n",
       "  'warmup': 0,\n",
       "  'save_dir': 'saved/',\n",
       "  'save_period': 1,\n",
       "  'verbosity': 2,\n",
       "  'label_dir': 'saved/',\n",
       "  'monitor': 'max test_my_metric',\n",
       "  'early_stop': 2000,\n",
       "  'tensorboard': False,\n",
       "  'mlflow': True,\n",
       "  '_percent': 'Percentage of noise',\n",
       "  'percent': 0.6,\n",
       "  '_begin': 'When to begin updating labels',\n",
       "  'begin': 0,\n",
       "  '_asym': 'symmetric noise if false',\n",
       "  'asym': False}}"
      ]
     },
     "execution_count": 4,
     "metadata": {},
     "output_type": "execute_result"
    }
   ],
   "source": [
    "config"
   ]
  },
  {
   "cell_type": "code",
   "execution_count": 5,
   "metadata": {},
   "outputs": [
    {
     "name": "stdout",
     "output_type": "stream",
     "text": [
      "Files already downloaded and verified\n",
      "Train: 50000 Val: 0\n"
     ]
    }
   ],
   "source": [
    "# set seed\n",
    "random.seed(config['seed'])\n",
    "torch.manual_seed(config['seed'])\n",
    "torch.cuda.manual_seed_all(config['seed'])\n",
    "torch.backends.cudnn.deterministic = True\n",
    "np.random.seed(config['seed'])\n",
    "\n",
    "data_loader = getattr(module_data, config['data_loader']['type'])(\n",
    "    config['data_loader']['args']['data_dir'],\n",
    "    batch_size= 100,\n",
    "    shuffle=config['data_loader']['args']['shuffle'],\n",
    "    validation_split=0.0,\n",
    "    num_batches=config['data_loader']['args']['num_batches'],\n",
    "    training=True,\n",
    "    num_workers=config['data_loader']['args']['num_workers'],\n",
    "    pin_memory=config['data_loader']['args']['pin_memory'],\n",
    "    config=config\n",
    "    )\n",
    "\n",
    "# criterion = getattr(module_loss, 'CCELoss')()\n",
    "device = torch.device('cuda:0')"
   ]
  },
  {
   "cell_type": "code",
   "execution_count": 6,
   "metadata": {},
   "outputs": [
    {
     "data": {
      "text/plain": [
       "<data_loader.data_loaders.CIFAR10DataLoader at 0x7f4c08668710>"
      ]
     },
     "execution_count": 6,
     "metadata": {},
     "output_type": "execute_result"
    }
   ],
   "source": [
    "data_loader"
   ]
  },
  {
   "cell_type": "code",
   "execution_count": 7,
   "metadata": {},
   "outputs": [],
   "source": [
    "def get_true_list(model, data_loader):\n",
    "    \n",
    "    label_list = np.empty((0, ))\n",
    "    label_gt_list = np.empty((0, ))\n",
    "    \n",
    "    model.eval()\n",
    "    model.cuda()\n",
    "    \n",
    "    with tqdm(data_loader) as progress:\n",
    "        for batch_idx, (data, label, index, label_gt) in enumerate(progress):\n",
    "            data = data.cuda()\n",
    "            label, label_gt = label.long().cuda(), label_gt.long().cuda()\n",
    "            output, _ = model(data)\n",
    "            \n",
    "            label_list = np.concatenate((label_list, label.cpu()))\n",
    "            label_gt_list = np.concatenate((label_gt_list, label.cpu()))\n",
    "            \n",
    "            if batch_idx == 0:\n",
    "                out_list = output.detach().cpu()\n",
    "            else:\n",
    "                out_list = np.concatenate((out_list, output.detach().cpu()), axis=0)\n",
    "                \n",
    "    return label_list, label_gt_list, out_list"
   ]
  },
  {
   "cell_type": "code",
   "execution_count": 8,
   "metadata": {},
   "outputs": [],
   "source": [
    "def get_singular_value_vector(label_list, out_list):\n",
    "    \n",
    "    singular_dict = {}\n",
    "    v_ortho_dict = {}\n",
    "    \n",
    "    for index in np.unique(label_list):\n",
    "        u, s, v = np.linalg.svd(out_list[label_list==index])\n",
    "        singular_dict[index] = s[0] / s[1]\n",
    "        v_ortho_dict[index] = torch.from_numpy(v[:2])\n",
    "        \n",
    "    return singular_dict, v_ortho_dict"
   ]
  },
  {
   "cell_type": "code",
   "execution_count": 9,
   "metadata": {},
   "outputs": [
    {
     "name": "stderr",
     "output_type": "stream",
     "text": [
      "100%|██████████| 500/500 [00:17<00:00, 29.30it/s]\n"
     ]
    }
   ],
   "source": [
    "label_list, gt_list, out_list = get_true_list(base_model, data_loader)"
   ]
  },
  {
   "cell_type": "code",
   "execution_count": 10,
   "metadata": {},
   "outputs": [],
   "source": [
    "singular_dict, v_ortho_dict = get_singular_value_vector(gt_list, out_list)"
   ]
  },
  {
   "cell_type": "code",
   "execution_count": 11,
   "metadata": {},
   "outputs": [],
   "source": [
    "def cos_similarity_matrix(v_dict):\n",
    "    \n",
    "    keys = v_dict.keys()\n",
    "    first_eigens = []\n",
    "    matrix = [[] for i in range(10)]\n",
    "    \n",
    "    for key in keys:\n",
    "        first_eigens.append(v_dict[key][0].tolist())\n",
    "        \n",
    "    first_eigens = np.array(first_eigens)\n",
    "    \n",
    "    for i, v_i in enumerate(first_eigens):\n",
    "        for v_j in first_eigens:\n",
    "            matrix[i].append(np.dot(v_i, v_j))\n",
    "    \n",
    "    return np.array(matrix)"
   ]
  },
  {
   "cell_type": "code",
   "execution_count": 19,
   "metadata": {
    "scrolled": true
   },
   "outputs": [
    {
     "name": "stdout",
     "output_type": "stream",
     "text": [
      "[[8.62843036e-03 6.98896228e+01 6.70818592e+01 7.03277132e+01\n",
      "  6.87716111e+01 6.89416472e+01 7.02721957e+01 6.98803572e+01\n",
      "  6.79774748e+01 6.89485898e+01]\n",
      " [6.98896228e+01 0.00000000e+00 7.13673403e+01 7.22733915e+01\n",
      "  7.08057942e+01 7.20062754e+01 7.24175430e+01 7.00021068e+01\n",
      "  7.03611148e+01 7.03322470e+01]\n",
      " [6.70818592e+01 7.13673403e+01 7.42182882e-03 6.88491018e+01\n",
      "  6.85229352e+01 6.95020624e+01 6.95084494e+01 7.01315283e+01\n",
      "  6.93493553e+01 6.97641352e+01]\n",
      " [7.03277132e+01 7.22733915e+01 6.88491018e+01 0.00000000e+00\n",
      "  7.11184947e+01 6.75644309e+01 7.15721746e+01 7.25227794e+01\n",
      "  7.18661698e+01 7.14252826e+01]\n",
      " [6.87716111e+01 7.08057942e+01 6.85229352e+01 7.11184947e+01\n",
      "  6.49573940e-03 7.29721939e+01 7.15404048e+01 7.14192778e+01\n",
      "  7.09912429e+01 6.99450875e+01]\n",
      " [6.89416472e+01 7.20062754e+01 6.95020624e+01 6.75644309e+01\n",
      "  7.29721939e+01 3.67585618e-03 7.46014681e+01 7.07740359e+01\n",
      "  7.05852960e+01 7.15290714e+01]\n",
      " [7.02721957e+01 7.24175430e+01 6.95084494e+01 7.15721746e+01\n",
      "  7.15404048e+01 7.46014681e+01 0.00000000e+00 7.25256439e+01\n",
      "  7.19796652e+01 7.29607088e+01]\n",
      " [6.98803572e+01 7.00021068e+01 7.01315283e+01 7.25227794e+01\n",
      "  7.14192778e+01 7.07740359e+01 7.25256439e+01 9.56522096e-03\n",
      "  7.00031780e+01 7.08432308e+01]\n",
      " [6.79774748e+01 7.03611148e+01 6.93493553e+01 7.18661698e+01\n",
      "  7.09912429e+01 7.05852960e+01 7.19796652e+01 7.00031780e+01\n",
      "  0.00000000e+00 7.01353427e+01]\n",
      " [6.89485898e+01 7.03322470e+01 6.97641352e+01 7.14252826e+01\n",
      "  6.99450875e+01 7.15290714e+01 7.29607088e+01 7.08432308e+01\n",
      "  7.01353427e+01 4.76622264e-03]]\n"
     ]
    }
   ],
   "source": [
    "theta = np.sqrt(1 - np.clip(np.power(cos_similarity_matrix(v_ortho_dict), 2), 0, 1))\n",
    "\n",
    "theta = np.arcsin(theta) / np.pi * 180.\n",
    "sine_theta = np.cos(theta * np.pi / 180)\n",
    "print (theta)"
   ]
  },
  {
   "cell_type": "code",
   "execution_count": 13,
   "metadata": {},
   "outputs": [],
   "source": [
    "def plot_confusion_matrix(cm, target_names=None, cmap=None, normalize=True, labels=True, title='Confusion matrix'):\n",
    "    accuracy = np.trace(cm) / float(np.sum(cm))\n",
    "    misclass = 1 - accuracy\n",
    "\n",
    "    if cmap is None:\n",
    "        cmap = plt.get_cmap('Blues')\n",
    "\n",
    "    if normalize:\n",
    "        cm = cm.astype('float') / cm.sum(axis=1)[:, np.newaxis]\n",
    "        \n",
    "    plt.figure(figsize=(8, 6))\n",
    "    plt.imshow(cm, interpolation='nearest', cmap=cmap)\n",
    "#     plt.title(title)\n",
    "    plt.colorbar()\n",
    "\n",
    "    thresh = cm.max() / 1.5 if normalize else cm.max() / 2\n",
    "    \n",
    "    if target_names is not None:\n",
    "        tick_marks = np.arange(len(target_names))\n",
    "        plt.xticks(tick_marks, target_names)\n",
    "        plt.yticks(tick_marks, target_names)\n",
    "    \n",
    "#     if labels:\n",
    "#         for i, j in itertools.product(range(cm.shape[0]), range(cm.shape[1])):\n",
    "#             if normalize:\n",
    "#                 plt.text(j, i, \"{:0.4f}\".format(cm[i, j]),\n",
    "#                          horizontalalignment=\"center\",\n",
    "#                          color=\"white\" if cm[i, j] > thresh else \"black\")\n",
    "#             else:\n",
    "#                 plt.text(j, i, \"{:,}\".format(cm[i, j]),\n",
    "#                          horizontalalignment=\"center\",\n",
    "#                          color=\"white\" if cm[i, j] > thresh else \"black\")\n",
    "\n",
    "    plt.tight_layout()\n",
    "#     plt.ylabel('True label')\n",
    "#     plt.xlabel('Predicted label\\naccuracy={:0.4f}; misclass={:0.4f}'.format(accuracy, misclass))\n",
    "    plt.show()"
   ]
  },
  {
   "cell_type": "code",
   "execution_count": 14,
   "metadata": {},
   "outputs": [
    {
     "data": {
      "image/png": "[encoded data removed]",
      "text/plain": [
       "<Figure size 576x432 with 2 Axes>"
      ]
     },
     "metadata": {
      "needs_background": "light"
     },
     "output_type": "display_data"
    }
   ],
   "source": [
    "import matplotlib.pyplot as plt\n",
    "import itertools\n",
    "plot_confusion_matrix(sine_theta, normalize=False)"
   ]
  },
  {
   "cell_type": "code",
   "execution_count": 15,
   "metadata": {},
   "outputs": [],
   "source": [
    "# array([[1.        , 0.73375449, 0.84362395, 0.79943598, 0.81097123,\n",
    "#         0.77656694, 0.80455549, 0.81613805, 0.85543287, 0.76411742],\n",
    "#        [0.73375449, 1.        , 0.70296539, 0.71555271, 0.70013463,\n",
    "#         0.69328445, 0.70381206, 0.72377065, 0.74303114, 0.74702262],\n",
    "#        [0.84362395, 0.70296539, 1.        , 0.8688378 , 0.87467734,\n",
    "#         0.85344589, 0.85514977, 0.85796666, 0.81973085, 0.74694619],\n",
    "#        [0.79943598, 0.71555271, 0.8688378 , 1.        , 0.88361543,\n",
    "#         0.97021502, 0.88024957, 0.88904471, 0.83550472, 0.77063328],\n",
    "#        [0.81097123, 0.70013463, 0.87467734, 0.88361543, 0.99999999,\n",
    "#         0.85327387, 0.85179379, 0.88839564, 0.81061002, 0.76004186],\n",
    "#        [0.77656694, 0.69328445, 0.85344589, 0.97021502, 0.85327387,\n",
    "#         1.        , 0.83399632, 0.87447303, 0.80652521, 0.7674461 ],\n",
    "#        [0.80455549, 0.70381206, 0.85514977, 0.88024957, 0.85179379,\n",
    "#         0.83399632, 0.99999999, 0.8369593 , 0.79076266, 0.74363458],\n",
    "#        [0.81613805, 0.72377065, 0.85796666, 0.88904471, 0.88839564,\n",
    "#         0.87447303, 0.8369593 , 1.        , 0.804183  , 0.77361728],\n",
    "#        [0.85543287, 0.74303114, 0.81973085, 0.83550472, 0.81061002,\n",
    "#         0.80652521, 0.79076266, 0.804183  , 1.        , 0.77273571],\n",
    "#        [0.76411742, 0.74702262, 0.74694619, 0.77063328, 0.76004186,\n",
    "#         0.7674461 , 0.74363458, 0.77361728, 0.77273571, 1.        ]])"
   ]
  },
  {
   "cell_type": "code",
   "execution_count": 16,
   "metadata": {},
   "outputs": [],
   "source": [
    "# def singular_label(v_ortho_dict, model_represents, label):\n",
    "    \n",
    "#     model_represents = torch.from_numpy(model_represents).cuda()\n",
    "#     sing_lbl = torch.zeros(model_represents.shape[0])\n",
    "#     sin_score_lbl = torch.zeros(model_represents.shape[0])\n",
    "    \n",
    "#     for i, data in enumerate(model_represents):\n",
    "#         sin_score_lbl[i] = torch.dot(v_ortho_dict[label[i]][0], data).abs() - torch.dot(v_ortho_dict[label[i]][1], data).abs()\n",
    "#         if torch.dot(v_ortho_dict[label[i]][0], data).abs() < torch.dot(v_ortho_dict[label[i]][1], data).abs():\n",
    "#             sing_lbl[i] = 1\n",
    "        \n",
    "#     return sing_lbl, sin_score_lbl"
   ]
  },
  {
   "cell_type": "code",
   "execution_count": 17,
   "metadata": {},
   "outputs": [],
   "source": [
    "# def iterative_eigen(number, label_list, out_list, teacher_idx=None):\n",
    "#     sin_lbls = {}\n",
    "    \n",
    "#     for i in range(number):\n",
    "#         tmp_lbl = torch.zeros(50000)\n",
    "#         if teacher_idx != None:\n",
    "#             for num in (set(range(0, 50000)) - set(teacher_idx)):\n",
    "#                 tmp_lbl[num] += 1\n",
    "#         print (tmp_lbl.sum().)"
   ]
  }
 ],
 "metadata": {
  "kernelspec": {
   "display_name": "Python 3",
   "language": "python",
   "name": "python3"
  },
  "language_info": {
   "codemirror_mode": {
    "name": "ipython",
    "version": 3
   },
   "file_extension": ".py",
   "mimetype": "text/x-python",
   "name": "python",
   "nbconvert_exporter": "python",
   "pygments_lexer": "ipython3",
   "version": "3.7.6"
  }
 },
 "nbformat": 4,
 "nbformat_minor": 4
}
